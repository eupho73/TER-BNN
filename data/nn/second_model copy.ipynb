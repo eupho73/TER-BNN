{
 "cells": [
  {
   "cell_type": "code",
   "execution_count": 1,
   "metadata": {},
   "outputs": [],
   "source": [
    "import pandas as pd\n",
    "import numpy as np"
   ]
  },
  {
   "cell_type": "code",
   "execution_count": 2,
   "metadata": {},
   "outputs": [],
   "source": [
    "data = pd.read_csv(\"eq_1960_2022.csv\")"
   ]
  },
  {
   "cell_type": "code",
   "execution_count": 3,
   "metadata": {},
   "outputs": [
    {
     "data": {
      "text/html": [
       "<div>\n",
       "<style scoped>\n",
       "    .dataframe tbody tr th:only-of-type {\n",
       "        vertical-align: middle;\n",
       "    }\n",
       "\n",
       "    .dataframe tbody tr th {\n",
       "        vertical-align: top;\n",
       "    }\n",
       "\n",
       "    .dataframe thead th {\n",
       "        text-align: right;\n",
       "    }\n",
       "</style>\n",
       "<table border=\"1\" class=\"dataframe\">\n",
       "  <thead>\n",
       "    <tr style=\"text-align: right;\">\n",
       "      <th></th>\n",
       "      <th>time</th>\n",
       "      <th>latitude</th>\n",
       "      <th>longitude</th>\n",
       "      <th>depth</th>\n",
       "      <th>mag</th>\n",
       "    </tr>\n",
       "  </thead>\n",
       "  <tbody>\n",
       "    <tr>\n",
       "      <th>0</th>\n",
       "      <td>2021-12-01</td>\n",
       "      <td>35.2280</td>\n",
       "      <td>141.4204</td>\n",
       "      <td>10.00</td>\n",
       "      <td>4.7</td>\n",
       "    </tr>\n",
       "    <tr>\n",
       "      <th>1</th>\n",
       "      <td>2021-12-01</td>\n",
       "      <td>35.2774</td>\n",
       "      <td>141.5336</td>\n",
       "      <td>10.00</td>\n",
       "      <td>4.7</td>\n",
       "    </tr>\n",
       "    <tr>\n",
       "      <th>2</th>\n",
       "      <td>2021-12-01</td>\n",
       "      <td>33.7690</td>\n",
       "      <td>137.1036</td>\n",
       "      <td>362.75</td>\n",
       "      <td>4.0</td>\n",
       "    </tr>\n",
       "    <tr>\n",
       "      <th>3</th>\n",
       "      <td>2021-12-01</td>\n",
       "      <td>35.2014</td>\n",
       "      <td>141.4165</td>\n",
       "      <td>10.00</td>\n",
       "      <td>4.5</td>\n",
       "    </tr>\n",
       "    <tr>\n",
       "      <th>4</th>\n",
       "      <td>2021-12-01</td>\n",
       "      <td>35.1430</td>\n",
       "      <td>141.3281</td>\n",
       "      <td>10.00</td>\n",
       "      <td>4.9</td>\n",
       "    </tr>\n",
       "  </tbody>\n",
       "</table>\n",
       "</div>"
      ],
      "text/plain": [
       "         time  latitude  longitude   depth  mag\n",
       "0  2021-12-01   35.2280   141.4204   10.00  4.7\n",
       "1  2021-12-01   35.2774   141.5336   10.00  4.7\n",
       "2  2021-12-01   33.7690   137.1036  362.75  4.0\n",
       "3  2021-12-01   35.2014   141.4165   10.00  4.5\n",
       "4  2021-12-01   35.1430   141.3281   10.00  4.9"
      ]
     },
     "execution_count": 3,
     "metadata": {},
     "output_type": "execute_result"
    }
   ],
   "source": [
    "data.head()"
   ]
  },
  {
   "cell_type": "markdown",
   "metadata": {},
   "source": [
    "## Data Preprocessing"
   ]
  },
  {
   "cell_type": "markdown",
   "metadata": {},
   "source": [
    "### Division en zones"
   ]
  },
  {
   "cell_type": "markdown",
   "metadata": {},
   "source": [
    "On récupère le code précèdent"
   ]
  },
  {
   "cell_type": "code",
   "execution_count": 4,
   "metadata": {},
   "outputs": [],
   "source": [
    "from collections import namedtuple\n",
    "\n",
    "Coords = namedtuple(\"Coords\", \"lat_min lat_max lon_min lon_max\")"
   ]
  },
  {
   "cell_type": "code",
   "execution_count": 5,
   "metadata": {},
   "outputs": [],
   "source": [
    "zones = {\"A\": Coords(41, 46, 140, 146), \"B\": Coords(37, 41, 138, 142), \"C\": Coords(34, 37, 137, 141), \"D\": Coords(33, 37, 133, 137), \"E\": Coords(31, 36, 129, 133), \"F\": Coords(38, 41, 142, 144), \"G\": Coords(36, 38, 141, 143)}\n",
    "\n",
    "def to_5_zone(lat: float, lon: float):\n",
    "    \"\"\"Convert coordinates to a zone number according to the map arrangement above\"\"\"\n",
    "    for zone, coord in zones.items():\n",
    "        if (coord.lat_min <= lat <= coord.lat_max) & (coord.lon_min <= lon <= coord.lon_max):\n",
    "            return zone\n",
    "    return 0\n"
   ]
  },
  {
   "cell_type": "code",
   "execution_count": 6,
   "metadata": {},
   "outputs": [],
   "source": [
    "data[\"zone\"] = data.apply(lambda x: to_5_zone(x['latitude'], x['longitude']), axis=1)"
   ]
  },
  {
   "cell_type": "markdown",
   "metadata": {},
   "source": [
    "Pour simplifier, nous utiliserons 5 zones découpées ainsi : trois zones en zone verte et 2 en zone bleues (cf code d'Ibrahima).  \n",
    "Ces zones sont celles qui nous intéressent le plus car directement situé sur l'île. Cependant, nous utiliserons également 2 zones supplémentaires dans l'océan pacifique où se trouve le plus grand nombre d'EQ.  \n",
    "  \n",
    "![carte_japon.jpg](carte_japon.jpg)"
   ]
  },
  {
   "cell_type": "markdown",
   "metadata": {},
   "source": [
    "zone A : île nord (Hokkaido) 41°N à 46°N et 140°E à 146°E  \n",
    "zone B : Tohoku district, 37°N à 41°N et 138°E à 142°E  \n",
    "zone C : Kanto et Chubu districts, 34°N à 37°N et 137°E à 141°E  \n",
    "zone D : Kinki, Chugoku et Shikoku districts, 33°N à 37°N et 133°E à 137°E  \n",
    "zone E : Kyushu district, 31°N à 36°N et 129°E à 133°E  \n",
    "zone F : 38°N à 41°N et 142°E à 144°E  \n",
    "zone G : 36°N à 38°N et 141°E à 143°E"
   ]
  },
  {
   "cell_type": "code",
   "execution_count": 7,
   "metadata": {},
   "outputs": [
    {
     "data": {
      "text/html": [
       "<div>\n",
       "<style scoped>\n",
       "    .dataframe tbody tr th:only-of-type {\n",
       "        vertical-align: middle;\n",
       "    }\n",
       "\n",
       "    .dataframe tbody tr th {\n",
       "        vertical-align: top;\n",
       "    }\n",
       "\n",
       "    .dataframe thead th {\n",
       "        text-align: right;\n",
       "    }\n",
       "</style>\n",
       "<table border=\"1\" class=\"dataframe\">\n",
       "  <thead>\n",
       "    <tr style=\"text-align: right;\">\n",
       "      <th></th>\n",
       "      <th>time</th>\n",
       "      <th>latitude</th>\n",
       "      <th>longitude</th>\n",
       "      <th>depth</th>\n",
       "      <th>mag</th>\n",
       "      <th>zone</th>\n",
       "    </tr>\n",
       "  </thead>\n",
       "  <tbody>\n",
       "    <tr>\n",
       "      <th>0</th>\n",
       "      <td>2021-12-01</td>\n",
       "      <td>35.2280</td>\n",
       "      <td>141.4204</td>\n",
       "      <td>10.00</td>\n",
       "      <td>4.7</td>\n",
       "      <td>0</td>\n",
       "    </tr>\n",
       "    <tr>\n",
       "      <th>1</th>\n",
       "      <td>2021-12-01</td>\n",
       "      <td>35.2774</td>\n",
       "      <td>141.5336</td>\n",
       "      <td>10.00</td>\n",
       "      <td>4.7</td>\n",
       "      <td>0</td>\n",
       "    </tr>\n",
       "    <tr>\n",
       "      <th>2</th>\n",
       "      <td>2021-12-01</td>\n",
       "      <td>33.7690</td>\n",
       "      <td>137.1036</td>\n",
       "      <td>362.75</td>\n",
       "      <td>4.0</td>\n",
       "      <td>0</td>\n",
       "    </tr>\n",
       "    <tr>\n",
       "      <th>3</th>\n",
       "      <td>2021-12-01</td>\n",
       "      <td>35.2014</td>\n",
       "      <td>141.4165</td>\n",
       "      <td>10.00</td>\n",
       "      <td>4.5</td>\n",
       "      <td>0</td>\n",
       "    </tr>\n",
       "    <tr>\n",
       "      <th>4</th>\n",
       "      <td>2021-12-01</td>\n",
       "      <td>35.1430</td>\n",
       "      <td>141.3281</td>\n",
       "      <td>10.00</td>\n",
       "      <td>4.9</td>\n",
       "      <td>0</td>\n",
       "    </tr>\n",
       "  </tbody>\n",
       "</table>\n",
       "</div>"
      ],
      "text/plain": [
       "         time  latitude  longitude   depth  mag zone\n",
       "0  2021-12-01   35.2280   141.4204   10.00  4.7    0\n",
       "1  2021-12-01   35.2774   141.5336   10.00  4.7    0\n",
       "2  2021-12-01   33.7690   137.1036  362.75  4.0    0\n",
       "3  2021-12-01   35.2014   141.4165   10.00  4.5    0\n",
       "4  2021-12-01   35.1430   141.3281   10.00  4.9    0"
      ]
     },
     "execution_count": 7,
     "metadata": {},
     "output_type": "execute_result"
    }
   ],
   "source": [
    "data.head()"
   ]
  },
  {
   "cell_type": "code",
   "execution_count": 8,
   "metadata": {},
   "outputs": [
    {
     "data": {
      "text/plain": [
       "0    14129\n",
       "C     4334\n",
       "A     3928\n",
       "F     3589\n",
       "B     3170\n",
       "G     3039\n",
       "E      989\n",
       "D      890\n",
       "Name: zone, dtype: int64"
      ]
     },
     "execution_count": 8,
     "metadata": {},
     "output_type": "execute_result"
    }
   ],
   "source": [
    "data.zone.value_counts()"
   ]
  },
  {
   "cell_type": "code",
   "execution_count": 9,
   "metadata": {},
   "outputs": [
    {
     "data": {
      "text/plain": [
       "0    7659\n",
       "F    2284\n",
       "C    2071\n",
       "A    2018\n",
       "B    1721\n",
       "G    1675\n",
       "E     528\n",
       "D     302\n",
       "Name: zone, dtype: int64"
      ]
     },
     "execution_count": 9,
     "metadata": {},
     "output_type": "execute_result"
    }
   ],
   "source": [
    "data[data.mag >= 4.5].zone.value_counts()"
   ]
  },
  {
   "cell_type": "markdown",
   "metadata": {},
   "source": [
    "On va s'intéresser uniquement au sinistre de mag >= 4.5 dans les zones précèdentes afin de faire de la prédiction en fréquence"
   ]
  },
  {
   "cell_type": "code",
   "execution_count": 10,
   "metadata": {},
   "outputs": [],
   "source": [
    "df = data[(data.mag >= 4.5) & (data.zone != 0)]"
   ]
  },
  {
   "cell_type": "code",
   "execution_count": 11,
   "metadata": {},
   "outputs": [
    {
     "name": "stderr",
     "output_type": "stream",
     "text": [
      "C:\\Users\\Lenovo\\AppData\\Local\\Temp/ipykernel_20524/2159877504.py:1: SettingWithCopyWarning: \n",
      "A value is trying to be set on a copy of a slice from a DataFrame.\n",
      "Try using .loc[row_indexer,col_indexer] = value instead\n",
      "\n",
      "See the caveats in the documentation: https://pandas.pydata.org/pandas-docs/stable/user_guide/indexing.html#returning-a-view-versus-a-copy\n",
      "  df[\"time\"] = pd.to_datetime(df.time)\n"
     ]
    }
   ],
   "source": [
    "df[\"time\"] = pd.to_datetime(df.time)"
   ]
  },
  {
   "cell_type": "code",
   "execution_count": 79,
   "metadata": {},
   "outputs": [
    {
     "data": {
      "text/html": [
       "<div>\n",
       "<style scoped>\n",
       "    .dataframe tbody tr th:only-of-type {\n",
       "        vertical-align: middle;\n",
       "    }\n",
       "\n",
       "    .dataframe tbody tr th {\n",
       "        vertical-align: top;\n",
       "    }\n",
       "\n",
       "    .dataframe thead th {\n",
       "        text-align: right;\n",
       "    }\n",
       "</style>\n",
       "<table border=\"1\" class=\"dataframe\">\n",
       "  <thead>\n",
       "    <tr style=\"text-align: right;\">\n",
       "      <th></th>\n",
       "      <th>time</th>\n",
       "      <th>latitude</th>\n",
       "      <th>longitude</th>\n",
       "      <th>depth</th>\n",
       "      <th>mag</th>\n",
       "      <th>zone</th>\n",
       "    </tr>\n",
       "  </thead>\n",
       "  <tbody>\n",
       "    <tr>\n",
       "      <th>13</th>\n",
       "      <td>2021-12-01</td>\n",
       "      <td>36.1875</td>\n",
       "      <td>140.0911</td>\n",
       "      <td>51.68</td>\n",
       "      <td>5.0</td>\n",
       "      <td>C</td>\n",
       "    </tr>\n",
       "    <tr>\n",
       "      <th>20</th>\n",
       "      <td>2021-12-02</td>\n",
       "      <td>37.7216</td>\n",
       "      <td>141.7845</td>\n",
       "      <td>57.22</td>\n",
       "      <td>4.8</td>\n",
       "      <td>B</td>\n",
       "    </tr>\n",
       "    <tr>\n",
       "      <th>23</th>\n",
       "      <td>2021-12-02</td>\n",
       "      <td>35.5460</td>\n",
       "      <td>139.0340</td>\n",
       "      <td>26.64</td>\n",
       "      <td>4.5</td>\n",
       "      <td>C</td>\n",
       "    </tr>\n",
       "    <tr>\n",
       "      <th>24</th>\n",
       "      <td>2021-12-02</td>\n",
       "      <td>45.8325</td>\n",
       "      <td>142.5511</td>\n",
       "      <td>314.40</td>\n",
       "      <td>4.6</td>\n",
       "      <td>A</td>\n",
       "    </tr>\n",
       "    <tr>\n",
       "      <th>26</th>\n",
       "      <td>2021-12-03</td>\n",
       "      <td>33.8337</td>\n",
       "      <td>135.0775</td>\n",
       "      <td>12.08</td>\n",
       "      <td>5.2</td>\n",
       "      <td>D</td>\n",
       "    </tr>\n",
       "    <tr>\n",
       "      <th>...</th>\n",
       "      <td>...</td>\n",
       "      <td>...</td>\n",
       "      <td>...</td>\n",
       "      <td>...</td>\n",
       "      <td>...</td>\n",
       "      <td>...</td>\n",
       "    </tr>\n",
       "    <tr>\n",
       "      <th>34063</th>\n",
       "      <td>1960-03-23</td>\n",
       "      <td>39.1370</td>\n",
       "      <td>143.5980</td>\n",
       "      <td>25.00</td>\n",
       "      <td>5.9</td>\n",
       "      <td>F</td>\n",
       "    </tr>\n",
       "    <tr>\n",
       "      <th>34064</th>\n",
       "      <td>1960-03-23</td>\n",
       "      <td>39.1460</td>\n",
       "      <td>143.5640</td>\n",
       "      <td>25.00</td>\n",
       "      <td>5.8</td>\n",
       "      <td>F</td>\n",
       "    </tr>\n",
       "    <tr>\n",
       "      <th>34065</th>\n",
       "      <td>1960-03-23</td>\n",
       "      <td>39.2350</td>\n",
       "      <td>143.3030</td>\n",
       "      <td>15.00</td>\n",
       "      <td>6.2</td>\n",
       "      <td>F</td>\n",
       "    </tr>\n",
       "    <tr>\n",
       "      <th>34066</th>\n",
       "      <td>1960-02-04</td>\n",
       "      <td>38.6670</td>\n",
       "      <td>143.0140</td>\n",
       "      <td>25.00</td>\n",
       "      <td>6.1</td>\n",
       "      <td>F</td>\n",
       "    </tr>\n",
       "    <tr>\n",
       "      <th>34067</th>\n",
       "      <td>1960-01-31</td>\n",
       "      <td>33.0930</td>\n",
       "      <td>134.8850</td>\n",
       "      <td>20.00</td>\n",
       "      <td>6.3</td>\n",
       "      <td>D</td>\n",
       "    </tr>\n",
       "  </tbody>\n",
       "</table>\n",
       "<p>10599 rows × 6 columns</p>\n",
       "</div>"
      ],
      "text/plain": [
       "            time  latitude  longitude   depth  mag zone\n",
       "13    2021-12-01   36.1875   140.0911   51.68  5.0    C\n",
       "20    2021-12-02   37.7216   141.7845   57.22  4.8    B\n",
       "23    2021-12-02   35.5460   139.0340   26.64  4.5    C\n",
       "24    2021-12-02   45.8325   142.5511  314.40  4.6    A\n",
       "26    2021-12-03   33.8337   135.0775   12.08  5.2    D\n",
       "...          ...       ...        ...     ...  ...  ...\n",
       "34063 1960-03-23   39.1370   143.5980   25.00  5.9    F\n",
       "34064 1960-03-23   39.1460   143.5640   25.00  5.8    F\n",
       "34065 1960-03-23   39.2350   143.3030   15.00  6.2    F\n",
       "34066 1960-02-04   38.6670   143.0140   25.00  6.1    F\n",
       "34067 1960-01-31   33.0930   134.8850   20.00  6.3    D\n",
       "\n",
       "[10599 rows x 6 columns]"
      ]
     },
     "execution_count": 79,
     "metadata": {},
     "output_type": "execute_result"
    }
   ],
   "source": [
    "df"
   ]
  },
  {
   "cell_type": "markdown",
   "metadata": {},
   "source": [
    "On récupère le nombre d'EQ par mois"
   ]
  },
  {
   "cell_type": "code",
   "execution_count": 12,
   "metadata": {},
   "outputs": [],
   "source": [
    "zone_to_col = {\"A\": 0, \"B\": 1, \"C\": 2, \"D\": 3, \"E\": 4, \"F\": 5, \"G\": 6}\n",
    "\n",
    "def to_full_dataset():\n",
    "    T = (2022 - 1960) * 12  # nb de mois total\n",
    "    M = 7  # nb de zones\n",
    "    X_full = np.zeros((T, M), dtype=np.uint8)  # matrice contenant le nb d'EQ avec en ligne les mois par ordre chronologique et en colonne les zones\n",
    "    for tup in df.itertuples():\n",
    "        irow = (tup.time.year - 1960)* 12 + tup.time.month - 1\n",
    "        icol = zone_to_col[tup.zone]\n",
    "        X_full[irow, icol] += 1\n",
    "    \n",
    "    return X_full"
   ]
  },
  {
   "cell_type": "code",
   "execution_count": 13,
   "metadata": {},
   "outputs": [],
   "source": [
    "X_full = to_full_dataset()"
   ]
  },
  {
   "cell_type": "code",
   "execution_count": 14,
   "metadata": {},
   "outputs": [
    {
     "data": {
      "text/plain": [
       "(744, 7)"
      ]
     },
     "execution_count": 14,
     "metadata": {},
     "output_type": "execute_result"
    }
   ],
   "source": [
    "X_full.shape"
   ]
  },
  {
   "cell_type": "code",
   "execution_count": 22,
   "metadata": {},
   "outputs": [],
   "source": [
    "from itertools import product\n",
    "\n",
    "monthly_ix = pd.to_datetime([f\"{y}-{m}\" for y, m in product(list(range(1960, 2022)), list(range(1, 13)))])"
   ]
  },
  {
   "cell_type": "code",
   "execution_count": 23,
   "metadata": {},
   "outputs": [],
   "source": [
    "X_full_pd = pd.DataFrame(X_full, index = monthly_ix, columns=[\"A\", \"B\", \"C\", \"D\", \"E\", \"F\", \"G\"])"
   ]
  },
  {
   "cell_type": "code",
   "execution_count": 24,
   "metadata": {},
   "outputs": [
    {
     "data": {
      "text/html": [
       "<div>\n",
       "<style scoped>\n",
       "    .dataframe tbody tr th:only-of-type {\n",
       "        vertical-align: middle;\n",
       "    }\n",
       "\n",
       "    .dataframe tbody tr th {\n",
       "        vertical-align: top;\n",
       "    }\n",
       "\n",
       "    .dataframe thead th {\n",
       "        text-align: right;\n",
       "    }\n",
       "</style>\n",
       "<table border=\"1\" class=\"dataframe\">\n",
       "  <thead>\n",
       "    <tr style=\"text-align: right;\">\n",
       "      <th></th>\n",
       "      <th>A</th>\n",
       "      <th>B</th>\n",
       "      <th>C</th>\n",
       "      <th>D</th>\n",
       "      <th>E</th>\n",
       "      <th>F</th>\n",
       "      <th>G</th>\n",
       "    </tr>\n",
       "  </thead>\n",
       "  <tbody>\n",
       "    <tr>\n",
       "      <th>1960-01-01</th>\n",
       "      <td>0</td>\n",
       "      <td>0</td>\n",
       "      <td>0</td>\n",
       "      <td>1</td>\n",
       "      <td>0</td>\n",
       "      <td>0</td>\n",
       "      <td>0</td>\n",
       "    </tr>\n",
       "    <tr>\n",
       "      <th>1960-02-01</th>\n",
       "      <td>0</td>\n",
       "      <td>0</td>\n",
       "      <td>0</td>\n",
       "      <td>0</td>\n",
       "      <td>0</td>\n",
       "      <td>1</td>\n",
       "      <td>0</td>\n",
       "    </tr>\n",
       "    <tr>\n",
       "      <th>1960-03-01</th>\n",
       "      <td>0</td>\n",
       "      <td>0</td>\n",
       "      <td>0</td>\n",
       "      <td>0</td>\n",
       "      <td>0</td>\n",
       "      <td>10</td>\n",
       "      <td>0</td>\n",
       "    </tr>\n",
       "    <tr>\n",
       "      <th>1960-04-01</th>\n",
       "      <td>0</td>\n",
       "      <td>0</td>\n",
       "      <td>0</td>\n",
       "      <td>0</td>\n",
       "      <td>0</td>\n",
       "      <td>0</td>\n",
       "      <td>0</td>\n",
       "    </tr>\n",
       "    <tr>\n",
       "      <th>1960-05-01</th>\n",
       "      <td>0</td>\n",
       "      <td>0</td>\n",
       "      <td>0</td>\n",
       "      <td>0</td>\n",
       "      <td>0</td>\n",
       "      <td>0</td>\n",
       "      <td>0</td>\n",
       "    </tr>\n",
       "    <tr>\n",
       "      <th>...</th>\n",
       "      <td>...</td>\n",
       "      <td>...</td>\n",
       "      <td>...</td>\n",
       "      <td>...</td>\n",
       "      <td>...</td>\n",
       "      <td>...</td>\n",
       "      <td>...</td>\n",
       "    </tr>\n",
       "    <tr>\n",
       "      <th>2021-08-01</th>\n",
       "      <td>1</td>\n",
       "      <td>2</td>\n",
       "      <td>1</td>\n",
       "      <td>1</td>\n",
       "      <td>0</td>\n",
       "      <td>0</td>\n",
       "      <td>32</td>\n",
       "    </tr>\n",
       "    <tr>\n",
       "      <th>2021-09-01</th>\n",
       "      <td>2</td>\n",
       "      <td>6</td>\n",
       "      <td>2</td>\n",
       "      <td>0</td>\n",
       "      <td>2</td>\n",
       "      <td>3</td>\n",
       "      <td>1</td>\n",
       "    </tr>\n",
       "    <tr>\n",
       "      <th>2021-10-01</th>\n",
       "      <td>6</td>\n",
       "      <td>1</td>\n",
       "      <td>3</td>\n",
       "      <td>1</td>\n",
       "      <td>1</td>\n",
       "      <td>5</td>\n",
       "      <td>2</td>\n",
       "    </tr>\n",
       "    <tr>\n",
       "      <th>2021-11-01</th>\n",
       "      <td>2</td>\n",
       "      <td>3</td>\n",
       "      <td>4</td>\n",
       "      <td>0</td>\n",
       "      <td>2</td>\n",
       "      <td>1</td>\n",
       "      <td>3</td>\n",
       "    </tr>\n",
       "    <tr>\n",
       "      <th>2021-12-01</th>\n",
       "      <td>7</td>\n",
       "      <td>5</td>\n",
       "      <td>4</td>\n",
       "      <td>1</td>\n",
       "      <td>0</td>\n",
       "      <td>0</td>\n",
       "      <td>1</td>\n",
       "    </tr>\n",
       "  </tbody>\n",
       "</table>\n",
       "<p>744 rows × 7 columns</p>\n",
       "</div>"
      ],
      "text/plain": [
       "            A  B  C  D  E   F   G\n",
       "1960-01-01  0  0  0  1  0   0   0\n",
       "1960-02-01  0  0  0  0  0   1   0\n",
       "1960-03-01  0  0  0  0  0  10   0\n",
       "1960-04-01  0  0  0  0  0   0   0\n",
       "1960-05-01  0  0  0  0  0   0   0\n",
       "...        .. .. .. .. ..  ..  ..\n",
       "2021-08-01  1  2  1  1  0   0  32\n",
       "2021-09-01  2  6  2  0  2   3   1\n",
       "2021-10-01  6  1  3  1  1   5   2\n",
       "2021-11-01  2  3  4  0  2   1   3\n",
       "2021-12-01  7  5  4  1  0   0   1\n",
       "\n",
       "[744 rows x 7 columns]"
      ]
     },
     "execution_count": 24,
     "metadata": {},
     "output_type": "execute_result"
    }
   ],
   "source": [
    "X_full_pd"
   ]
  },
  {
   "cell_type": "code",
   "execution_count": 25,
   "metadata": {},
   "outputs": [],
   "source": [
    "X_full_pd.to_csv(\"monthly_count_1960_2022.csv\")"
   ]
  },
  {
   "cell_type": "markdown",
   "metadata": {},
   "source": [
    "# Model"
   ]
  },
  {
   "cell_type": "code",
   "execution_count": 1,
   "metadata": {},
   "outputs": [],
   "source": [
    "import pandas as pd\n",
    "import numpy as np"
   ]
  },
  {
   "cell_type": "code",
   "execution_count": 16,
   "metadata": {},
   "outputs": [],
   "source": [
    "df = pd.read_csv(\"monthly_count_1960_2022.csv\")"
   ]
  },
  {
   "cell_type": "code",
   "execution_count": 17,
   "metadata": {},
   "outputs": [],
   "source": [
    "df.rename({\"Unnamed: 0\": \"date\"}, axis=1, inplace=True)"
   ]
  },
  {
   "cell_type": "code",
   "execution_count": 18,
   "metadata": {},
   "outputs": [],
   "source": [
    "df.date = pd.to_datetime(df.date)"
   ]
  },
  {
   "cell_type": "code",
   "execution_count": 19,
   "metadata": {},
   "outputs": [],
   "source": [
    "df = df.set_index(\"date\")"
   ]
  },
  {
   "cell_type": "code",
   "execution_count": 20,
   "metadata": {},
   "outputs": [
    {
     "data": {
      "text/html": [
       "<div>\n",
       "<style scoped>\n",
       "    .dataframe tbody tr th:only-of-type {\n",
       "        vertical-align: middle;\n",
       "    }\n",
       "\n",
       "    .dataframe tbody tr th {\n",
       "        vertical-align: top;\n",
       "    }\n",
       "\n",
       "    .dataframe thead th {\n",
       "        text-align: right;\n",
       "    }\n",
       "</style>\n",
       "<table border=\"1\" class=\"dataframe\">\n",
       "  <thead>\n",
       "    <tr style=\"text-align: right;\">\n",
       "      <th></th>\n",
       "      <th>A</th>\n",
       "      <th>B</th>\n",
       "      <th>C</th>\n",
       "      <th>D</th>\n",
       "      <th>E</th>\n",
       "      <th>F</th>\n",
       "      <th>G</th>\n",
       "    </tr>\n",
       "    <tr>\n",
       "      <th>date</th>\n",
       "      <th></th>\n",
       "      <th></th>\n",
       "      <th></th>\n",
       "      <th></th>\n",
       "      <th></th>\n",
       "      <th></th>\n",
       "      <th></th>\n",
       "    </tr>\n",
       "  </thead>\n",
       "  <tbody>\n",
       "    <tr>\n",
       "      <th>1960-01-01</th>\n",
       "      <td>0</td>\n",
       "      <td>0</td>\n",
       "      <td>0</td>\n",
       "      <td>1</td>\n",
       "      <td>0</td>\n",
       "      <td>0</td>\n",
       "      <td>0</td>\n",
       "    </tr>\n",
       "    <tr>\n",
       "      <th>1960-02-01</th>\n",
       "      <td>0</td>\n",
       "      <td>0</td>\n",
       "      <td>0</td>\n",
       "      <td>0</td>\n",
       "      <td>0</td>\n",
       "      <td>1</td>\n",
       "      <td>0</td>\n",
       "    </tr>\n",
       "    <tr>\n",
       "      <th>1960-03-01</th>\n",
       "      <td>0</td>\n",
       "      <td>0</td>\n",
       "      <td>0</td>\n",
       "      <td>0</td>\n",
       "      <td>0</td>\n",
       "      <td>10</td>\n",
       "      <td>0</td>\n",
       "    </tr>\n",
       "    <tr>\n",
       "      <th>1960-04-01</th>\n",
       "      <td>0</td>\n",
       "      <td>0</td>\n",
       "      <td>0</td>\n",
       "      <td>0</td>\n",
       "      <td>0</td>\n",
       "      <td>0</td>\n",
       "      <td>0</td>\n",
       "    </tr>\n",
       "    <tr>\n",
       "      <th>1960-05-01</th>\n",
       "      <td>0</td>\n",
       "      <td>0</td>\n",
       "      <td>0</td>\n",
       "      <td>0</td>\n",
       "      <td>0</td>\n",
       "      <td>0</td>\n",
       "      <td>0</td>\n",
       "    </tr>\n",
       "  </tbody>\n",
       "</table>\n",
       "</div>"
      ],
      "text/plain": [
       "            A  B  C  D  E   F  G\n",
       "date                            \n",
       "1960-01-01  0  0  0  1  0   0  0\n",
       "1960-02-01  0  0  0  0  0   1  0\n",
       "1960-03-01  0  0  0  0  0  10  0\n",
       "1960-04-01  0  0  0  0  0   0  0\n",
       "1960-05-01  0  0  0  0  0   0  0"
      ]
     },
     "execution_count": 20,
     "metadata": {},
     "output_type": "execute_result"
    }
   ],
   "source": [
    "df.head()"
   ]
  },
  {
   "cell_type": "code",
   "execution_count": 24,
   "metadata": {},
   "outputs": [
    {
     "data": {
      "text/html": [
       "<div>\n",
       "<style scoped>\n",
       "    .dataframe tbody tr th:only-of-type {\n",
       "        vertical-align: middle;\n",
       "    }\n",
       "\n",
       "    .dataframe tbody tr th {\n",
       "        vertical-align: top;\n",
       "    }\n",
       "\n",
       "    .dataframe thead th {\n",
       "        text-align: right;\n",
       "    }\n",
       "</style>\n",
       "<table border=\"1\" class=\"dataframe\">\n",
       "  <thead>\n",
       "    <tr style=\"text-align: right;\">\n",
       "      <th></th>\n",
       "      <th>A</th>\n",
       "      <th>B</th>\n",
       "      <th>C</th>\n",
       "      <th>D</th>\n",
       "      <th>E</th>\n",
       "      <th>F</th>\n",
       "      <th>G</th>\n",
       "    </tr>\n",
       "    <tr>\n",
       "      <th>date</th>\n",
       "      <th></th>\n",
       "      <th></th>\n",
       "      <th></th>\n",
       "      <th></th>\n",
       "      <th></th>\n",
       "      <th></th>\n",
       "      <th></th>\n",
       "    </tr>\n",
       "  </thead>\n",
       "  <tbody>\n",
       "    <tr>\n",
       "      <th>1980-01-01</th>\n",
       "      <td>6</td>\n",
       "      <td>1</td>\n",
       "      <td>0</td>\n",
       "      <td>0</td>\n",
       "      <td>0</td>\n",
       "      <td>0</td>\n",
       "      <td>2</td>\n",
       "    </tr>\n",
       "    <tr>\n",
       "      <th>1980-02-01</th>\n",
       "      <td>4</td>\n",
       "      <td>2</td>\n",
       "      <td>2</td>\n",
       "      <td>0</td>\n",
       "      <td>7</td>\n",
       "      <td>1</td>\n",
       "      <td>1</td>\n",
       "    </tr>\n",
       "    <tr>\n",
       "      <th>1980-03-01</th>\n",
       "      <td>0</td>\n",
       "      <td>2</td>\n",
       "      <td>2</td>\n",
       "      <td>1</td>\n",
       "      <td>0</td>\n",
       "      <td>1</td>\n",
       "      <td>0</td>\n",
       "    </tr>\n",
       "    <tr>\n",
       "      <th>1980-04-01</th>\n",
       "      <td>5</td>\n",
       "      <td>0</td>\n",
       "      <td>0</td>\n",
       "      <td>0</td>\n",
       "      <td>0</td>\n",
       "      <td>2</td>\n",
       "      <td>0</td>\n",
       "    </tr>\n",
       "    <tr>\n",
       "      <th>1980-05-01</th>\n",
       "      <td>1</td>\n",
       "      <td>0</td>\n",
       "      <td>1</td>\n",
       "      <td>0</td>\n",
       "      <td>0</td>\n",
       "      <td>1</td>\n",
       "      <td>4</td>\n",
       "    </tr>\n",
       "    <tr>\n",
       "      <th>1980-06-01</th>\n",
       "      <td>1</td>\n",
       "      <td>2</td>\n",
       "      <td>8</td>\n",
       "      <td>0</td>\n",
       "      <td>1</td>\n",
       "      <td>1</td>\n",
       "      <td>0</td>\n",
       "    </tr>\n",
       "    <tr>\n",
       "      <th>1980-07-01</th>\n",
       "      <td>3</td>\n",
       "      <td>3</td>\n",
       "      <td>0</td>\n",
       "      <td>0</td>\n",
       "      <td>0</td>\n",
       "      <td>1</td>\n",
       "      <td>0</td>\n",
       "    </tr>\n",
       "    <tr>\n",
       "      <th>1980-08-01</th>\n",
       "      <td>2</td>\n",
       "      <td>0</td>\n",
       "      <td>1</td>\n",
       "      <td>1</td>\n",
       "      <td>0</td>\n",
       "      <td>1</td>\n",
       "      <td>1</td>\n",
       "    </tr>\n",
       "    <tr>\n",
       "      <th>1980-09-01</th>\n",
       "      <td>2</td>\n",
       "      <td>1</td>\n",
       "      <td>6</td>\n",
       "      <td>1</td>\n",
       "      <td>0</td>\n",
       "      <td>1</td>\n",
       "      <td>0</td>\n",
       "    </tr>\n",
       "    <tr>\n",
       "      <th>1980-10-01</th>\n",
       "      <td>1</td>\n",
       "      <td>1</td>\n",
       "      <td>5</td>\n",
       "      <td>0</td>\n",
       "      <td>0</td>\n",
       "      <td>1</td>\n",
       "      <td>2</td>\n",
       "    </tr>\n",
       "    <tr>\n",
       "      <th>1980-11-01</th>\n",
       "      <td>4</td>\n",
       "      <td>3</td>\n",
       "      <td>1</td>\n",
       "      <td>0</td>\n",
       "      <td>0</td>\n",
       "      <td>1</td>\n",
       "      <td>0</td>\n",
       "    </tr>\n",
       "    <tr>\n",
       "      <th>1980-12-01</th>\n",
       "      <td>1</td>\n",
       "      <td>0</td>\n",
       "      <td>1</td>\n",
       "      <td>2</td>\n",
       "      <td>1</td>\n",
       "      <td>1</td>\n",
       "      <td>0</td>\n",
       "    </tr>\n",
       "  </tbody>\n",
       "</table>\n",
       "</div>"
      ],
      "text/plain": [
       "            A  B  C  D  E  F  G\n",
       "date                           \n",
       "1980-01-01  6  1  0  0  0  0  2\n",
       "1980-02-01  4  2  2  0  7  1  1\n",
       "1980-03-01  0  2  2  1  0  1  0\n",
       "1980-04-01  5  0  0  0  0  2  0\n",
       "1980-05-01  1  0  1  0  0  1  4\n",
       "1980-06-01  1  2  8  0  1  1  0\n",
       "1980-07-01  3  3  0  0  0  1  0\n",
       "1980-08-01  2  0  1  1  0  1  1\n",
       "1980-09-01  2  1  6  1  0  1  0\n",
       "1980-10-01  1  1  5  0  0  1  2\n",
       "1980-11-01  4  3  1  0  0  1  0\n",
       "1980-12-01  1  0  1  2  1  1  0"
      ]
     },
     "execution_count": 24,
     "metadata": {},
     "output_type": "execute_result"
    }
   ],
   "source": [
    "df.loc['1980']"
   ]
  },
  {
   "cell_type": "code",
   "execution_count": 29,
   "metadata": {},
   "outputs": [
    {
     "data": {
      "text/plain": [
       "Text(27.25, 0.5, 'Number of EQ with $M_c \\\\geq 4.5$')"
      ]
     },
     "execution_count": 29,
     "metadata": {},
     "output_type": "execute_result"
    },
    {
     "data": {
      "image/png": "[encoded data removed]",
      "text/plain": [
       "<Figure size 792x1080 with 7 Axes>"
      ]
     },
     "metadata": {
      "needs_background": "light"
     },
     "output_type": "display_data"
    }
   ],
   "source": [
    "import matplotlib.pyplot as plt\n",
    "\n",
    "cols_plot = [\"A\", \"B\", \"C\", \"D\", \"E\", \"F\", \"G\"]\n",
    "axes = df[cols_plot].plot(marker='.', alpha=0.5, linestyle='None', figsize=(11, 15), subplots=True)\n",
    "ax.set_ylabel('Number of EQ with $M_c \\geq 4.5$')"
   ]
  },
  {
   "cell_type": "markdown",
   "metadata": {},
   "source": [
    "On sépare les données en train set et test set en prenant les données de 1960 à 2014 pour le train set et le reste pour le test set"
   ]
  },
  {
   "cell_type": "code",
   "execution_count": 26,
   "metadata": {},
   "outputs": [
    {
     "data": {
      "text/plain": [
       "(660, 7)"
      ]
     },
     "execution_count": 26,
     "metadata": {},
     "output_type": "execute_result"
    }
   ],
   "source": [
    "X_train = X_full[:55*12]\n",
    "X_train.shape"
   ]
  },
  {
   "cell_type": "code",
   "execution_count": 27,
   "metadata": {},
   "outputs": [
    {
     "data": {
      "text/plain": [
       "(84, 7)"
      ]
     },
     "execution_count": 27,
     "metadata": {},
     "output_type": "execute_result"
    }
   ],
   "source": [
    "X_test = X_full[55*12:]\n",
    "X_test.shape"
   ]
  },
  {
   "cell_type": "markdown",
   "metadata": {},
   "source": [
    "On va séparer les inputs des outputs. On va utiliser une lookback window de $\\tau = 60 \\text{ mois}$. On ne prend pas de padding, ce qui veut dire que les inputs commencent à $ t = \\tau+ 1 $"
   ]
  },
  {
   "cell_type": "code",
   "execution_count": 29,
   "metadata": {},
   "outputs": [],
   "source": [
    "def split_input(dataset: np.array, tau: int, padding=False):\n",
    "    \"\"\"Convert dataset to input output arrays for time series prediction\n",
    "    params: dataset: the dataset to perform the split with. Time component in dimension 0\n",
    "            tau: lookback window ( tau < len(dataset) )\n",
    "    returns: X, y: input and output array of shape (n - tau - 1, tau, n_features) and (n - tau - 1, n_features)\"\"\"\n",
    "    X, Y = [], []\n",
    "    n = len(dataset)\n",
    "    assert tau < n, \"tau > len(dataset)\"\n",
    "    assert tau > 0, \"padding < 1\"\n",
    "\n",
    "    # without padding\n",
    "    for i in range(n - tau - 1):\n",
    "        X.append(dataset[i:i + tau])\n",
    "        Y.append(dataset[i + tau + 1])\n",
    "    \n",
    "    return np.array(X), np.array(Y)\n"
   ]
  },
  {
   "cell_type": "code",
   "execution_count": 30,
   "metadata": {},
   "outputs": [],
   "source": [
    "X, y = split_input(X_train, 60)"
   ]
  },
  {
   "cell_type": "markdown",
   "metadata": {},
   "source": [
    "On obtient bien les dimensions souhaitées : (n_sample, timesteps, n_features)"
   ]
  },
  {
   "cell_type": "code",
   "execution_count": 31,
   "metadata": {},
   "outputs": [
    {
     "data": {
      "text/plain": [
       "(599, 60, 7)"
      ]
     },
     "execution_count": 31,
     "metadata": {},
     "output_type": "execute_result"
    }
   ],
   "source": [
    "X.shape"
   ]
  },
  {
   "cell_type": "markdown",
   "metadata": {},
   "source": [
    "Pour résumer, $X$ contient donc des matrices de taille (60, 7) avec 60 la taille de la lookback window et 7 le nombre de features (ici les zones).  \n",
    "On essaiera plus tard d'avoir un nombre de feature en 2D comme first model"
   ]
  },
  {
   "cell_type": "markdown",
   "metadata": {},
   "source": [
    "## Naïve Model"
   ]
  },
  {
   "cell_type": "markdown",
   "metadata": {},
   "source": [
    "Avec nos données à disposition, nous faisons face à un problème de multi output regression. De plus les valeurs à prédire doivent êtrepositive et entières, ce qui nous oriente vers une fonction d'activation relu. On utilisera la fonction d'arrondi pour avoir un nombre entier."
   ]
  },
  {
   "cell_type": "code",
   "execution_count": 32,
   "metadata": {},
   "outputs": [],
   "source": [
    "from keras.models import Sequential\n",
    "from keras.layers import LSTM, Dense\n",
    "from tensorflow import keras\n",
    "\n",
    "n_features = X.shape[2]\n",
    "n_timesteps = X.shape[1]\n",
    "\n",
    "model = Sequential()\n",
    "model.add(LSTM(100, activation='tanh', return_sequences=True, input_shape=(n_timesteps, n_features)))\n",
    "model.add(LSTM(100, activation='tanh'))\n",
    "model.add(Dense(n_features, activation='relu'))\n",
    "model.compile(optimizer='adam', loss='mse')"
   ]
  },
  {
   "cell_type": "code",
   "execution_count": 33,
   "metadata": {},
   "outputs": [],
   "source": [
    "callback = keras.callbacks.EarlyStopping(monitor='loss', patience=10)"
   ]
  },
  {
   "cell_type": "code",
   "execution_count": 34,
   "metadata": {},
   "outputs": [
    {
     "name": "stdout",
     "output_type": "stream",
     "text": [
      "Epoch 1/400\n"
     ]
    }
   ],
   "source": [
    "model.fit(X, y, epochs=400, verbose=1)"
   ]
  },
  {
   "cell_type": "code",
   "execution_count": 130,
   "metadata": {},
   "outputs": [
    {
     "data": {
      "text/plain": [
       "array([[-1.73833801e+02,  8.20789337e+01, -4.23242226e+01,\n",
       "        -3.33785934e+01,  7.67657471e+00, -4.93609905e+00,\n",
       "         6.04328575e+01],\n",
       "       [-1.38313782e+02,  6.21784248e+01, -3.55136757e+01,\n",
       "        -3.07025700e+01,  5.61041260e+00, -2.00794106e+01,\n",
       "         4.24145470e+01],\n",
       "       [-1.08956352e+02,  4.44135323e+01, -3.01298866e+01,\n",
       "        -2.90660954e+01,  4.45806885e+00, -3.08543129e+01,\n",
       "         2.56379356e+01],\n",
       "       [-1.37304504e+02,  5.56313057e+01, -3.61743202e+01,\n",
       "        -3.12992496e+01,  6.04351807e+00, -1.53591948e+01,\n",
       "         3.53979454e+01],\n",
       "       [-2.14834045e+02,  1.04982498e+02, -5.13808632e+01,\n",
       "        -3.59193649e+01,  8.05389404e+00,  8.93499470e+00,\n",
       "         8.53264084e+01],\n",
       "       [-2.01578918e+02,  9.99374542e+01, -4.88056679e+01,\n",
       "        -3.45721970e+01,  6.63922119e+00, -4.88921404e-02,\n",
       "         8.16874924e+01],\n",
       "       [-2.85681458e+02,  1.56479202e+02, -6.44091797e+01,\n",
       "        -3.96151657e+01,  9.16412354e+00,  2.33453941e+01,\n",
       "         1.36863281e+02],\n",
       "       [-2.69509583e+02,  1.50184158e+02, -6.16591835e+01,\n",
       "        -3.75980759e+01,  7.04132080e+00,  1.15485201e+01,\n",
       "         1.32755371e+02],\n",
       "       [-2.52038391e+02,  1.42043411e+02, -5.87138710e+01,\n",
       "        -3.57787399e+01,  5.31036377e+00, -1.18960500e-01,\n",
       "         1.26372551e+02],\n",
       "       [-2.91015442e+02,  1.69946365e+02, -6.63476562e+01,\n",
       "        -3.73048630e+01,  5.50592041e+00,  6.00506306e+00,\n",
       "         1.54430908e+02],\n",
       "       [-3.13831848e+02,  1.86486649e+02, -7.16845703e+01,\n",
       "        -3.89887009e+01,  5.86260986e+00,  5.61053181e+00,\n",
       "         1.70382080e+02],\n",
       "       [-2.76297180e+02,  1.64672928e+02, -6.55429688e+01,\n",
       "        -3.62845993e+01,  3.54962158e+00, -1.48831205e+01,\n",
       "         1.50473877e+02],\n",
       "       [-2.58427551e+02,  1.55958328e+02, -6.37509804e+01,\n",
       "        -3.49076462e+01,  1.56622314e+00, -3.14978676e+01,\n",
       "         1.42422607e+02],\n",
       "       [-1.13721001e+02,  6.58955841e+01, -3.76054726e+01,\n",
       "        -2.48881168e+01, -4.80389404e+00, -8.63240356e+01,\n",
       "         5.61921349e+01],\n",
       "       [ 4.62291946e+01, -3.39005547e+01, -8.95117474e+00,\n",
       "        -1.41610661e+01, -1.14913940e+01, -1.48164856e+02,\n",
       "        -3.99143105e+01],\n",
       "       [ 1.67656921e+02, -1.10598801e+02,  1.33671846e+01,\n",
       "        -5.76067495e+00, -1.63502808e+01, -1.90527161e+02,\n",
       "        -1.13619881e+02],\n",
       "       [ 1.91515320e+02, -1.27348068e+02,  1.93574181e+01,\n",
       "        -3.93450308e+00, -1.61085815e+01, -1.86434387e+02,\n",
       "        -1.29336670e+02],\n",
       "       [ 6.27819290e+01, -4.41398125e+01, -5.19726849e+00,\n",
       "        -1.38500309e+01, -9.71990967e+00, -1.50378723e+02,\n",
       "        -5.19992714e+01],\n",
       "       [ 1.41788757e+02, -9.37635956e+01,  8.46679401e+00,\n",
       "        -8.76751137e+00, -1.31652222e+01, -1.82275208e+02,\n",
       "        -9.99724197e+01],\n",
       "       [ 3.14038757e+02, -2.03681076e+02,  3.89902306e+01,\n",
       "         1.36432505e+00, -1.94518433e+01, -2.47544739e+02,\n",
       "        -2.06893799e+02],\n",
       "       [ 5.41950867e+02, -3.50848297e+02,  8.09648438e+01,\n",
       "         1.39634457e+01, -2.61027222e+01, -3.22356262e+02,\n",
       "        -3.50676025e+02],\n",
       "       [ 6.17386414e+02, -4.00876129e+02,  9.58457031e+01,\n",
       "         1.82666683e+01, -2.78561401e+01, -3.38394348e+02,\n",
       "        -3.99470947e+02],\n",
       "       [ 2.44856140e+02, -1.67738693e+02,  3.28867149e+01,\n",
       "        -4.54680777e+00, -1.11144409e+01, -1.70751282e+02,\n",
       "        -1.72439209e+02],\n",
       "       [-3.98870163e+01,  1.05962706e+01, -1.79238319e+01,\n",
       "        -2.11476383e+01, -4.90905762e-01, -6.25296059e+01,\n",
       "        -7.64896631e-01],\n",
       "       [ 3.67316360e+01, -3.61554375e+01, -3.84375286e+00,\n",
       "        -1.58060856e+01, -4.07073975e+00, -9.28450317e+01,\n",
       "        -4.51965370e+01],\n",
       "       [ 7.03971634e+01, -5.75287285e+01,  2.84765339e+00,\n",
       "        -1.33795719e+01, -5.27728271e+00, -1.02333313e+02,\n",
       "        -6.63718338e+01],\n",
       "       [ 1.38364441e+02, -9.95258026e+01,  1.56845675e+01,\n",
       "        -8.55828285e+00, -8.16766357e+00, -1.26465149e+02,\n",
       "        -1.06554451e+02],\n",
       "       [ 2.30542664e+02, -1.57994064e+02,  3.30976524e+01,\n",
       "        -2.59905386e+00, -1.15602417e+01, -1.57013977e+02,\n",
       "        -1.63160400e+02],\n",
       "       [ 1.61196472e+02, -1.15510178e+02,  2.00888634e+01,\n",
       "        -7.39080191e+00, -8.63031006e+00, -1.32906067e+02,\n",
       "        -1.23088631e+02],\n",
       "       [ 1.26786324e+02, -9.46056366e+01,  1.37763643e+01,\n",
       "        -1.02670231e+01, -6.92083740e+00, -1.21367981e+02,\n",
       "        -1.04030525e+02],\n",
       "       [-1.21338188e+02,  5.64423409e+01, -3.25556679e+01,\n",
       "        -2.80790348e+01,  3.74102783e+00, -3.13313637e+01,\n",
       "         3.91511192e+01],\n",
       "       [-1.63797180e+02,  8.44815216e+01, -4.01162148e+01,\n",
       "        -2.98507633e+01,  4.49176025e+00, -1.78313637e+01,\n",
       "         6.68864670e+01],\n",
       "       [-2.64038391e+02,  1.46361771e+02, -5.81547890e+01,\n",
       "        -3.52994919e+01,  7.79473877e+00,  1.96266441e+01,\n",
       "         1.26755119e+02],\n",
       "       [-2.99169739e+02,  1.69119095e+02, -6.44956055e+01,\n",
       "        -3.68551559e+01,  8.42755127e+00,  3.18715172e+01,\n",
       "         1.50076172e+02],\n",
       "       [-2.63749329e+02,  1.49299759e+02, -5.76709023e+01,\n",
       "        -3.34271774e+01,  5.66290283e+00,  1.61862144e+01,\n",
       "         1.32595459e+02],\n",
       "       [-2.21066223e+02,  1.23864456e+02, -4.98447304e+01,\n",
       "        -3.00573063e+01,  3.32086182e+00,  1.93051219e-01,\n",
       "         1.09477776e+02],\n",
       "       [-2.26905579e+02,  1.27305862e+02, -5.08408241e+01,\n",
       "        -3.00663395e+01,  3.50201416e+00,  3.69109821e+00,\n",
       "         1.12862541e+02],\n",
       "       [-1.95461731e+02,  1.07713333e+02, -4.52177773e+01,\n",
       "        -2.81278629e+01,  2.16143799e+00, -8.25665569e+00,\n",
       "         9.44926682e+01],\n",
       "       [-2.10714661e+02,  1.16751785e+02, -4.83525429e+01,\n",
       "        -2.93468571e+01,  2.54840088e+00, -3.99347210e+00,\n",
       "         1.03381096e+02],\n",
       "       [-1.64660461e+02,  8.89364777e+01, -4.02246132e+01,\n",
       "        -2.61163883e+01,  2.27661133e-02, -2.36087074e+01,\n",
       "         7.76313400e+01],\n",
       "       [-1.14700493e+02,  5.80768623e+01, -3.10693398e+01,\n",
       "        -2.28412418e+01, -2.21453857e+00, -4.29973793e+01,\n",
       "         4.81894493e+01],\n",
       "       [-1.41118958e+02,  7.07425079e+01, -3.65605507e+01,\n",
       "        -2.51237125e+01, -5.60241699e-01, -3.47937660e+01,\n",
       "         5.69228477e+01],\n",
       "       [-8.57737350e+01,  2.49081612e+01, -2.93378944e+01,\n",
       "        -2.40123844e+01, -8.91052246e-01, -5.60667152e+01,\n",
       "         6.22192001e+00],\n",
       "       [-9.51299477e+00, -2.97274590e+01, -1.78105507e+01,\n",
       "        -2.15265446e+01, -2.62347412e+00, -8.50730591e+01,\n",
       "        -4.99326210e+01],\n",
       "       [ 1.44687195e+02, -1.35123825e+02,  1.11542940e+01,\n",
       "        -1.80709782e+01, -2.31146240e+00, -1.25998840e+02,\n",
       "        -1.57918945e+02],\n",
       "       [ 2.98206238e+02, -2.32735886e+02,  4.00244102e+01,\n",
       "        -1.06332340e+01, -5.88372803e+00, -1.76032043e+02,\n",
       "        -2.53899658e+02],\n",
       "       [ 3.49711121e+02, -2.64990143e+02,  5.02490196e+01,\n",
       "        -9.92302895e+00, -5.24261475e+00, -1.90854797e+02,\n",
       "        -2.86922119e+02],\n",
       "       [ 3.01495300e+02, -2.31548264e+02,  4.16718712e+01,\n",
       "        -1.45612125e+01, -2.24627686e+00, -1.76629211e+02,\n",
       "        -2.55541748e+02],\n",
       "       [ 4.10149109e+02, -2.99270172e+02,  6.16552696e+01,\n",
       "        -1.06971989e+01, -3.89129639e+00, -2.15813782e+02,\n",
       "        -3.22744873e+02],\n",
       "       [ 4.30542664e+02, -3.09813873e+02,  6.52060547e+01,\n",
       "        -1.20277653e+01, -2.54022217e+00, -2.26439270e+02,\n",
       "        -3.34786377e+02],\n",
       "       [ 5.86835632e+02, -4.07091949e+02,  9.37363281e+01,\n",
       "        -4.20891714e+00, -6.86346436e+00, -2.83836731e+02,\n",
       "        -4.29756592e+02],\n",
       "       [ 6.32415710e+02, -4.35824860e+02,  1.02628906e+02,\n",
       "        -3.29583120e+00, -7.15985107e+00, -2.99192200e+02,\n",
       "        -4.58935303e+02],\n",
       "       [ 8.89652039e+02, -5.99634460e+02,  1.50064453e+02,\n",
       "         1.00484066e+01, -1.46261597e+01, -3.87954895e+02,\n",
       "        -6.18635010e+02],\n",
       "       [-7.47642395e+02,  4.50341156e+02, -1.54358398e+02,\n",
       "        -7.97213669e+01,  2.77034302e+01,  1.31175964e+02,\n",
       "         4.12995850e+02],\n",
       "       [-9.43636536e+02,  5.75048157e+02, -1.92324219e+02,\n",
       "        -9.14039841e+01,  3.28264771e+01,  1.89373718e+02,\n",
       "         5.35305908e+02],\n",
       "       [-1.07946167e+03,  6.64706604e+02, -2.18161133e+02,\n",
       "        -9.87191696e+01,  3.50371704e+01,  2.22645691e+02,\n",
       "         6.23968506e+02],\n",
       "       [-1.08185425e+03,  6.71087219e+02, -2.19050781e+02,\n",
       "        -9.57596970e+01,  3.18430786e+01,  2.14485535e+02,\n",
       "         6.33564209e+02],\n",
       "       [-1.03477856e+03,  6.45727844e+02, -2.10334961e+02,\n",
       "        -8.95648727e+01,  2.74197388e+01,  1.93072937e+02,\n",
       "         6.12149170e+02],\n",
       "       [-9.73473450e+02,  6.10819885e+02, -2.00148438e+02,\n",
       "        -8.27382126e+01,  2.21340942e+01,  1.64663269e+02,\n",
       "         5.82082275e+02],\n",
       "       [-8.38558899e+02,  5.26111389e+02, -1.74648438e+02,\n",
       "        -7.30204391e+01,  1.69739380e+01,  1.21999207e+02,\n",
       "         5.00376221e+02]], dtype=float32)"
      ]
     },
     "execution_count": 130,
     "metadata": {},
     "output_type": "execute_result"
    }
   ],
   "source": [
    "model.predict(X[200:260])"
   ]
  }
 ],
 "metadata": {
  "interpreter": {
   "hash": "fe06f96167c4fc64a78c238d993189072a4e72b444216e36203d6f96126eaf0a"
  },
  "kernelspec": {
   "display_name": "Python 3.9.7 64-bit",
   "language": "python",
   "name": "python3"
  },
  "language_info": {
   "codemirror_mode": {
    "name": "ipython",
    "version": 3
   },
   "file_extension": ".py",
   "mimetype": "text/x-python",
   "name": "python",
   "nbconvert_exporter": "python",
   "pygments_lexer": "ipython3",
   "version": "3.9.7"
  },
  "orig_nbformat": 4
 },
 "nbformat": 4,
 "nbformat_minor": 2
}
