{
 "cells": [
  {
   "cell_type": "code",
   "execution_count": 1,
   "metadata": {},
   "outputs": [],
   "source": [
    "import pandas as pd\n",
    "from numpy import array, hstack"
   ]
  },
  {
   "cell_type": "code",
   "execution_count": 2,
   "metadata": {},
   "outputs": [],
   "source": [
    "data = pd.read_csv(\"eq_1960_2022.csv\")"
   ]
  },
  {
   "cell_type": "code",
   "execution_count": 3,
   "metadata": {},
   "outputs": [
    {
     "data": {
      "text/html": [
       "<div>\n",
       "<style scoped>\n",
       "    .dataframe tbody tr th:only-of-type {\n",
       "        vertical-align: middle;\n",
       "    }\n",
       "\n",
       "    .dataframe tbody tr th {\n",
       "        vertical-align: top;\n",
       "    }\n",
       "\n",
       "    .dataframe thead th {\n",
       "        text-align: right;\n",
       "    }\n",
       "</style>\n",
       "<table border=\"1\" class=\"dataframe\">\n",
       "  <thead>\n",
       "    <tr style=\"text-align: right;\">\n",
       "      <th></th>\n",
       "      <th>time</th>\n",
       "      <th>latitude</th>\n",
       "      <th>longitude</th>\n",
       "      <th>depth</th>\n",
       "      <th>mag</th>\n",
       "    </tr>\n",
       "  </thead>\n",
       "  <tbody>\n",
       "    <tr>\n",
       "      <th>0</th>\n",
       "      <td>2021-12-01</td>\n",
       "      <td>35.2280</td>\n",
       "      <td>141.4204</td>\n",
       "      <td>10.00</td>\n",
       "      <td>4.7</td>\n",
       "    </tr>\n",
       "    <tr>\n",
       "      <th>1</th>\n",
       "      <td>2021-12-01</td>\n",
       "      <td>35.2774</td>\n",
       "      <td>141.5336</td>\n",
       "      <td>10.00</td>\n",
       "      <td>4.7</td>\n",
       "    </tr>\n",
       "    <tr>\n",
       "      <th>2</th>\n",
       "      <td>2021-12-01</td>\n",
       "      <td>33.7690</td>\n",
       "      <td>137.1036</td>\n",
       "      <td>362.75</td>\n",
       "      <td>4.0</td>\n",
       "    </tr>\n",
       "    <tr>\n",
       "      <th>3</th>\n",
       "      <td>2021-12-01</td>\n",
       "      <td>35.2014</td>\n",
       "      <td>141.4165</td>\n",
       "      <td>10.00</td>\n",
       "      <td>4.5</td>\n",
       "    </tr>\n",
       "    <tr>\n",
       "      <th>4</th>\n",
       "      <td>2021-12-01</td>\n",
       "      <td>35.1430</td>\n",
       "      <td>141.3281</td>\n",
       "      <td>10.00</td>\n",
       "      <td>4.9</td>\n",
       "    </tr>\n",
       "  </tbody>\n",
       "</table>\n",
       "</div>"
      ],
      "text/plain": [
       "         time  latitude  longitude   depth  mag\n",
       "0  2021-12-01   35.2280   141.4204   10.00  4.7\n",
       "1  2021-12-01   35.2774   141.5336   10.00  4.7\n",
       "2  2021-12-01   33.7690   137.1036  362.75  4.0\n",
       "3  2021-12-01   35.2014   141.4165   10.00  4.5\n",
       "4  2021-12-01   35.1430   141.3281   10.00  4.9"
      ]
     },
     "execution_count": 3,
     "metadata": {},
     "output_type": "execute_result"
    }
   ],
   "source": [
    "data.head()"
   ]
  },
  {
   "cell_type": "markdown",
   "metadata": {},
   "source": [
    "## Data Preprocessing"
   ]
  },
  {
   "cell_type": "markdown",
   "metadata": {},
   "source": [
    "### Division en zones"
   ]
  },
  {
   "cell_type": "markdown",
   "metadata": {},
   "source": [
    "On récupère le code précèdent"
   ]
  },
  {
   "cell_type": "code",
   "execution_count": 4,
   "metadata": {},
   "outputs": [],
   "source": [
    "from collections import namedtuple\n",
    "\n",
    "Coords = namedtuple(\"Coords\", \"lat_min lat_max lon_min lon_max\")"
   ]
  },
  {
   "cell_type": "code",
   "execution_count": 5,
   "metadata": {},
   "outputs": [],
   "source": [
    "zones = {\"A\": Coords(41, 46, 140, 146), \"B\": Coords(37, 41, 138, 142), \"C\": Coords(34, 37, 137, 141), \"D\": Coords(33, 37, 133, 137), \"E\": Coords(31, 36, 129, 133), \"F\": Coords(38, 41, 142, 144), \"G\": Coords(36, 38, 141, 143)}\n",
    "\n",
    "def to_5_zone(lat: float, lon: float):\n",
    "    \"\"\"Convert coordinates to a zone number according to the map arrangement above\"\"\"\n",
    "    for zone, coord in zones.items():\n",
    "        if (coord.lat_min <= lat <= coord.lat_max) & (coord.lon_min <= lon <= coord.lon_max):\n",
    "            return zone\n",
    "    return 0\n"
   ]
  },
  {
   "cell_type": "code",
   "execution_count": 6,
   "metadata": {},
   "outputs": [],
   "source": [
    "data[\"zone\"] = data.apply(lambda x: to_5_zone(x['latitude'], x['longitude']), axis=1)"
   ]
  },
  {
   "cell_type": "markdown",
   "metadata": {},
   "source": [
    "Pour simplifier, nous utiliserons 5 zones découpées ainsi : trois zones en zone verte et 2 en zone bleues (cf code d'Ibrahima).  \n",
    "Ces zones sont celles qui nous intéressent le plus car directement situé sur l'île. Cependant, nous utiliserons également 2 zones supplémentaires dans l'océan pacifique où se trouve le plus grand nombre d'EQ.  \n",
    "  \n",
    "![carte_japon.jpg](carte_japon.jpg)"
   ]
  },
  {
   "cell_type": "markdown",
   "metadata": {},
   "source": [
    "zone A : île nord (Hokkaido) 41°N à 46°N et 140°E à 146°E  \n",
    "zone B : Tohoku district, 37°N à 41°N et 138°E à 142°E  \n",
    "zone C : Kanto et Chubu districts, 34°N à 37°N et 137°E à 141°E  \n",
    "zone D : Kinki, Chugoku et Shikoku districts, 33°N à 37°N et 133°E à 137°E  \n",
    "zone E : Kyushu district, 31°N à 36°N et 129°E à 133°E  \n",
    "zone F : 38°N à 41°N et 142°E à 144°E  \n",
    "zone G : 36°N à 38°N et 141°E à 143°E"
   ]
  },
  {
   "cell_type": "code",
   "execution_count": 7,
   "metadata": {},
   "outputs": [
    {
     "data": {
      "text/html": [
       "<div>\n",
       "<style scoped>\n",
       "    .dataframe tbody tr th:only-of-type {\n",
       "        vertical-align: middle;\n",
       "    }\n",
       "\n",
       "    .dataframe tbody tr th {\n",
       "        vertical-align: top;\n",
       "    }\n",
       "\n",
       "    .dataframe thead th {\n",
       "        text-align: right;\n",
       "    }\n",
       "</style>\n",
       "<table border=\"1\" class=\"dataframe\">\n",
       "  <thead>\n",
       "    <tr style=\"text-align: right;\">\n",
       "      <th></th>\n",
       "      <th>time</th>\n",
       "      <th>latitude</th>\n",
       "      <th>longitude</th>\n",
       "      <th>depth</th>\n",
       "      <th>mag</th>\n",
       "      <th>zone</th>\n",
       "    </tr>\n",
       "  </thead>\n",
       "  <tbody>\n",
       "    <tr>\n",
       "      <th>0</th>\n",
       "      <td>2021-12-01</td>\n",
       "      <td>35.2280</td>\n",
       "      <td>141.4204</td>\n",
       "      <td>10.00</td>\n",
       "      <td>4.7</td>\n",
       "      <td>0</td>\n",
       "    </tr>\n",
       "    <tr>\n",
       "      <th>1</th>\n",
       "      <td>2021-12-01</td>\n",
       "      <td>35.2774</td>\n",
       "      <td>141.5336</td>\n",
       "      <td>10.00</td>\n",
       "      <td>4.7</td>\n",
       "      <td>0</td>\n",
       "    </tr>\n",
       "    <tr>\n",
       "      <th>2</th>\n",
       "      <td>2021-12-01</td>\n",
       "      <td>33.7690</td>\n",
       "      <td>137.1036</td>\n",
       "      <td>362.75</td>\n",
       "      <td>4.0</td>\n",
       "      <td>0</td>\n",
       "    </tr>\n",
       "    <tr>\n",
       "      <th>3</th>\n",
       "      <td>2021-12-01</td>\n",
       "      <td>35.2014</td>\n",
       "      <td>141.4165</td>\n",
       "      <td>10.00</td>\n",
       "      <td>4.5</td>\n",
       "      <td>0</td>\n",
       "    </tr>\n",
       "    <tr>\n",
       "      <th>4</th>\n",
       "      <td>2021-12-01</td>\n",
       "      <td>35.1430</td>\n",
       "      <td>141.3281</td>\n",
       "      <td>10.00</td>\n",
       "      <td>4.9</td>\n",
       "      <td>0</td>\n",
       "    </tr>\n",
       "  </tbody>\n",
       "</table>\n",
       "</div>"
      ],
      "text/plain": [
       "         time  latitude  longitude   depth  mag zone\n",
       "0  2021-12-01   35.2280   141.4204   10.00  4.7    0\n",
       "1  2021-12-01   35.2774   141.5336   10.00  4.7    0\n",
       "2  2021-12-01   33.7690   137.1036  362.75  4.0    0\n",
       "3  2021-12-01   35.2014   141.4165   10.00  4.5    0\n",
       "4  2021-12-01   35.1430   141.3281   10.00  4.9    0"
      ]
     },
     "execution_count": 7,
     "metadata": {},
     "output_type": "execute_result"
    }
   ],
   "source": [
    "data.head()"
   ]
  },
  {
   "cell_type": "code",
   "execution_count": 8,
   "metadata": {},
   "outputs": [
    {
     "data": {
      "text/plain": [
       "0    14129\n",
       "C     4334\n",
       "A     3928\n",
       "F     3589\n",
       "B     3170\n",
       "G     3039\n",
       "E      989\n",
       "D      890\n",
       "Name: zone, dtype: int64"
      ]
     },
     "execution_count": 8,
     "metadata": {},
     "output_type": "execute_result"
    }
   ],
   "source": [
    "data.zone.value_counts()"
   ]
  },
  {
   "cell_type": "code",
   "execution_count": 9,
   "metadata": {},
   "outputs": [
    {
     "data": {
      "text/plain": [
       "0    7659\n",
       "F    2284\n",
       "C    2071\n",
       "A    2018\n",
       "B    1721\n",
       "G    1675\n",
       "E     528\n",
       "D     302\n",
       "Name: zone, dtype: int64"
      ]
     },
     "execution_count": 9,
     "metadata": {},
     "output_type": "execute_result"
    }
   ],
   "source": [
    "data[data.mag >= 4.5].zone.value_counts()"
   ]
  },
  {
   "cell_type": "markdown",
   "metadata": {},
   "source": [
    "On va s'intéresser uniquement au sinistre de mag >= 4.5 dans les zones précèdentes"
   ]
  },
  {
   "cell_type": "code",
   "execution_count": 10,
   "metadata": {},
   "outputs": [],
   "source": [
    "df = data[(data.mag >= 4.5) & (data.zone != 0)]"
   ]
  },
  {
   "cell_type": "code",
   "execution_count": 11,
   "metadata": {},
   "outputs": [
    {
     "name": "stderr",
     "output_type": "stream",
     "text": [
      "C:\\Users\\asus\\AppData\\Local\\Programs\\Python\\Python37\\lib\\site-packages\\pandas\\core\\frame.py:3607: SettingWithCopyWarning: \n",
      "A value is trying to be set on a copy of a slice from a DataFrame.\n",
      "Try using .loc[row_indexer,col_indexer] = value instead\n",
      "\n",
      "See the caveats in the documentation: https://pandas.pydata.org/pandas-docs/stable/user_guide/indexing.html#returning-a-view-versus-a-copy\n",
      "  self._set_item(key, value)\n"
     ]
    }
   ],
   "source": [
    "df[\"time\"] = pd.to_datetime(df.time)"
   ]
  },
  {
   "cell_type": "code",
   "execution_count": 79,
   "metadata": {},
   "outputs": [
    {
     "data": {
      "text/html": [
       "<div>\n",
       "<style scoped>\n",
       "    .dataframe tbody tr th:only-of-type {\n",
       "        vertical-align: middle;\n",
       "    }\n",
       "\n",
       "    .dataframe tbody tr th {\n",
       "        vertical-align: top;\n",
       "    }\n",
       "\n",
       "    .dataframe thead th {\n",
       "        text-align: right;\n",
       "    }\n",
       "</style>\n",
       "<table border=\"1\" class=\"dataframe\">\n",
       "  <thead>\n",
       "    <tr style=\"text-align: right;\">\n",
       "      <th></th>\n",
       "      <th>time</th>\n",
       "      <th>latitude</th>\n",
       "      <th>longitude</th>\n",
       "      <th>depth</th>\n",
       "      <th>mag</th>\n",
       "      <th>zone</th>\n",
       "    </tr>\n",
       "  </thead>\n",
       "  <tbody>\n",
       "    <tr>\n",
       "      <th>13</th>\n",
       "      <td>2021-12-01</td>\n",
       "      <td>36.1875</td>\n",
       "      <td>140.0911</td>\n",
       "      <td>51.68</td>\n",
       "      <td>5.0</td>\n",
       "      <td>C</td>\n",
       "    </tr>\n",
       "    <tr>\n",
       "      <th>20</th>\n",
       "      <td>2021-12-02</td>\n",
       "      <td>37.7216</td>\n",
       "      <td>141.7845</td>\n",
       "      <td>57.22</td>\n",
       "      <td>4.8</td>\n",
       "      <td>B</td>\n",
       "    </tr>\n",
       "    <tr>\n",
       "      <th>23</th>\n",
       "      <td>2021-12-02</td>\n",
       "      <td>35.5460</td>\n",
       "      <td>139.0340</td>\n",
       "      <td>26.64</td>\n",
       "      <td>4.5</td>\n",
       "      <td>C</td>\n",
       "    </tr>\n",
       "    <tr>\n",
       "      <th>24</th>\n",
       "      <td>2021-12-02</td>\n",
       "      <td>45.8325</td>\n",
       "      <td>142.5511</td>\n",
       "      <td>314.40</td>\n",
       "      <td>4.6</td>\n",
       "      <td>A</td>\n",
       "    </tr>\n",
       "    <tr>\n",
       "      <th>26</th>\n",
       "      <td>2021-12-03</td>\n",
       "      <td>33.8337</td>\n",
       "      <td>135.0775</td>\n",
       "      <td>12.08</td>\n",
       "      <td>5.2</td>\n",
       "      <td>D</td>\n",
       "    </tr>\n",
       "    <tr>\n",
       "      <th>...</th>\n",
       "      <td>...</td>\n",
       "      <td>...</td>\n",
       "      <td>...</td>\n",
       "      <td>...</td>\n",
       "      <td>...</td>\n",
       "      <td>...</td>\n",
       "    </tr>\n",
       "    <tr>\n",
       "      <th>34063</th>\n",
       "      <td>1960-03-23</td>\n",
       "      <td>39.1370</td>\n",
       "      <td>143.5980</td>\n",
       "      <td>25.00</td>\n",
       "      <td>5.9</td>\n",
       "      <td>F</td>\n",
       "    </tr>\n",
       "    <tr>\n",
       "      <th>34064</th>\n",
       "      <td>1960-03-23</td>\n",
       "      <td>39.1460</td>\n",
       "      <td>143.5640</td>\n",
       "      <td>25.00</td>\n",
       "      <td>5.8</td>\n",
       "      <td>F</td>\n",
       "    </tr>\n",
       "    <tr>\n",
       "      <th>34065</th>\n",
       "      <td>1960-03-23</td>\n",
       "      <td>39.2350</td>\n",
       "      <td>143.3030</td>\n",
       "      <td>15.00</td>\n",
       "      <td>6.2</td>\n",
       "      <td>F</td>\n",
       "    </tr>\n",
       "    <tr>\n",
       "      <th>34066</th>\n",
       "      <td>1960-02-04</td>\n",
       "      <td>38.6670</td>\n",
       "      <td>143.0140</td>\n",
       "      <td>25.00</td>\n",
       "      <td>6.1</td>\n",
       "      <td>F</td>\n",
       "    </tr>\n",
       "    <tr>\n",
       "      <th>34067</th>\n",
       "      <td>1960-01-31</td>\n",
       "      <td>33.0930</td>\n",
       "      <td>134.8850</td>\n",
       "      <td>20.00</td>\n",
       "      <td>6.3</td>\n",
       "      <td>D</td>\n",
       "    </tr>\n",
       "  </tbody>\n",
       "</table>\n",
       "<p>10599 rows × 6 columns</p>\n",
       "</div>"
      ],
      "text/plain": [
       "            time  latitude  longitude   depth  mag zone\n",
       "13    2021-12-01   36.1875   140.0911   51.68  5.0    C\n",
       "20    2021-12-02   37.7216   141.7845   57.22  4.8    B\n",
       "23    2021-12-02   35.5460   139.0340   26.64  4.5    C\n",
       "24    2021-12-02   45.8325   142.5511  314.40  4.6    A\n",
       "26    2021-12-03   33.8337   135.0775   12.08  5.2    D\n",
       "...          ...       ...        ...     ...  ...  ...\n",
       "34063 1960-03-23   39.1370   143.5980   25.00  5.9    F\n",
       "34064 1960-03-23   39.1460   143.5640   25.00  5.8    F\n",
       "34065 1960-03-23   39.2350   143.3030   15.00  6.2    F\n",
       "34066 1960-02-04   38.6670   143.0140   25.00  6.1    F\n",
       "34067 1960-01-31   33.0930   134.8850   20.00  6.3    D\n",
       "\n",
       "[10599 rows x 6 columns]"
      ]
     },
     "execution_count": 79,
     "metadata": {},
     "output_type": "execute_result"
    }
   ],
   "source": [
    "df"
   ]
  },
  {
   "cell_type": "markdown",
   "metadata": {},
   "source": [
    "On récupère le nombre d'EQ par mois"
   ]
  },
  {
   "cell_type": "code",
   "execution_count": 12,
   "metadata": {},
   "outputs": [],
   "source": [
    "import numpy as np"
   ]
  },
  {
   "cell_type": "code",
   "execution_count": 13,
   "metadata": {},
   "outputs": [],
   "source": [
    "zone_to_col = {\"A\": 0, \"B\": 1, \"C\": 2, \"D\": 3, \"E\": 4, \"F\": 5, \"G\": 6}\n",
    "\n",
    "def to_full_dataset():\n",
    "    T = (2022 - 1960) * 12  # nb de mois total\n",
    "    M = 7  # nb de zones\n",
    "    X_full = np.zeros((T, M), dtype=np.uint8)  # matrice contenant le nb d'EQ avec en ligne les mois par ordre chronologique et en colonne les zones\n",
    "    for tup in df.itertuples():\n",
    "        irow = (tup.time.year - 1960)* 12 + tup.time.month - 1\n",
    "        icol = zone_to_col[tup.zone]\n",
    "        X_full[irow, icol] += 1\n",
    "    \n",
    "    return X_full"
   ]
  },
  {
   "cell_type": "code",
   "execution_count": 14,
   "metadata": {},
   "outputs": [],
   "source": [
    "X_full = to_full_dataset()"
   ]
  },
  {
   "cell_type": "code",
   "execution_count": 15,
   "metadata": {},
   "outputs": [
    {
     "data": {
      "text/plain": [
       "(744, 7)"
      ]
     },
     "execution_count": 15,
     "metadata": {},
     "output_type": "execute_result"
    }
   ],
   "source": [
    "X_full.shape"
   ]
  },
  {
   "cell_type": "markdown",
   "metadata": {},
   "source": [
    "On sépare les données en train set et test set en prenant les données de 1960 à 2014 pour le train set et le reste pour le test set"
   ]
  },
  {
   "cell_type": "code",
   "execution_count": 16,
   "metadata": {},
   "outputs": [
    {
     "data": {
      "text/plain": [
       "(660, 7)"
      ]
     },
     "execution_count": 16,
     "metadata": {},
     "output_type": "execute_result"
    }
   ],
   "source": [
    "X_train = X_full[:55*12]\n",
    "X_train.shape"
   ]
  },
  {
   "cell_type": "code",
   "execution_count": 17,
   "metadata": {},
   "outputs": [
    {
     "data": {
      "text/plain": [
       "(84, 7)"
      ]
     },
     "execution_count": 17,
     "metadata": {},
     "output_type": "execute_result"
    }
   ],
   "source": [
    "X_test = X_full[55*12:]\n",
    "X_test.shape"
   ]
  },
  {
   "cell_type": "markdown",
   "metadata": {},
   "source": [
    "On va séparer les inputs des outputs. On va utiliser une lookback window de $\\tau = 60 \\text{ mois}$. On n eprend pas de padding, ce qui veut dire que les inputs commencent à $ t = \\tau+ 1 $"
   ]
  },
  {
   "cell_type": "code",
   "execution_count": 18,
   "metadata": {},
   "outputs": [
    {
     "data": {
      "text/plain": [
       "(60, 7)"
      ]
     },
     "execution_count": 18,
     "metadata": {},
     "output_type": "execute_result"
    }
   ],
   "source": [
    "tau = 60\n",
    "X_0 = X_test[:tau]\n",
    "X_0.shape"
   ]
  },
  {
   "cell_type": "code",
   "execution_count": 19,
   "metadata": {},
   "outputs": [
    {
     "data": {
      "text/plain": [
       "(7,)"
      ]
     },
     "execution_count": 19,
     "metadata": {},
     "output_type": "execute_result"
    }
   ],
   "source": [
    "y_0 = X_test[tau + 1]\n",
    "y_0.shape"
   ]
  },
  {
   "cell_type": "code",
   "execution_count": 114,
   "metadata": {},
   "outputs": [
    {
     "data": {
      "text/plain": [
       "array([[0, 0, 0, 0, 0, 1, 0],\n",
       "       [5, 1, 0, 0, 1, 0, 0]], dtype=uint8)"
      ]
     },
     "execution_count": 114,
     "metadata": {},
     "output_type": "execute_result"
    }
   ],
   "source": [
    "np.array([X_train[6,:], X_train[189]])"
   ]
  },
  {
   "cell_type": "code",
   "execution_count": 113,
   "metadata": {},
   "outputs": [
    {
     "data": {
      "text/plain": [
       "array([[ 0,  0,  0,  1,  0,  0,  0],\n",
       "       [ 0,  0,  0,  0,  0,  1,  0],\n",
       "       [ 0,  0,  0,  0,  0, 10,  0],\n",
       "       [ 0,  0,  0,  0,  0,  0,  0]], dtype=uint8)"
      ]
     },
     "execution_count": 113,
     "metadata": {},
     "output_type": "execute_result"
    }
   ],
   "source": [
    "X_train[:4]"
   ]
  },
  {
   "cell_type": "code",
   "execution_count": 20,
   "metadata": {},
   "outputs": [],
   "source": [
    "def split_input(dataset: np.array, tau: int, padding=False):\n",
    "    \"\"\"Convert dataset to input output arrays for time series prediction\n",
    "    params: dataset: the dataset to perform the split with. Time component in dimension 0\n",
    "            tau: lookback window ( tau < len(dataset) )\n",
    "    returns: X, y: input and output array of shape (n - tau - 1, tau, n_features) and (n - tau - 1, n_features)\"\"\"\n",
    "    X, Y = [], []\n",
    "    n = len(dataset)\n",
    "    assert tau < n, \"tau > len(dataset)\"\n",
    "    assert tau > 0, \"padding < 1\"\n",
    "\n",
    "    # without padding\n",
    "    for i in range(n - tau - 1):\n",
    "        X.append(dataset[i:i + tau])\n",
    "        Y.append(dataset[i + tau + 1])\n",
    "    \n",
    "    return np.array(X), np.array(Y)\n"
   ]
  },
  {
   "cell_type": "code",
   "execution_count": 21,
   "metadata": {},
   "outputs": [],
   "source": [
    "X, y = split_input(X_train, 60)"
   ]
  },
  {
   "cell_type": "code",
   "execution_count": 22,
   "metadata": {},
   "outputs": [
    {
     "data": {
      "text/plain": [
       "(599, 60, 7)"
      ]
     },
     "execution_count": 22,
     "metadata": {},
     "output_type": "execute_result"
    }
   ],
   "source": [
    "X.shape"
   ]
  },
  {
   "cell_type": "markdown",
   "metadata": {},
   "source": [
    "Pour résumer, $X$ contient donc des matrices de taille (60, 7) avec 60 la taille de la lookback window et 7 le nombre de features (ici les zones).  \n",
    "On essaiera plus tard d'avoir un nombre de feature en 2D comme first model"
   ]
  },
  {
   "cell_type": "markdown",
   "metadata": {},
   "source": [
    "## Naïve Model"
   ]
  },
  {
   "cell_type": "markdown",
   "metadata": {},
   "source": [
    "Avec ce type de données, on fait façe à un problème de multi output regression. De plus, les valeurs souhaitées doivent être positives et entières, ce qui nous oriente sur une fonction d'activation relu."
   ]
  },
  {
   "cell_type": "code",
   "execution_count": 64,
   "metadata": {},
   "outputs": [],
   "source": [
    "from keras.models import Sequential\n",
    "from keras.layers import LSTM, Dense\n",
    "\n",
    "n_features = X.shape[2]\n",
    "\n",
    "model = Sequential()\n",
    "model.add(LSTM(128, activation='tanh', return_sequences=True, input_shape=(tau, n_features), dropout=.4))\n",
    "model.add(LSTM(128, activation='tanh', dropout=.4))\n",
    "model.add(Dense(n_features, activation='relu'))\n",
    "model.compile(optimizer='adam', loss='mse')"
   ]
  },
  {
   "cell_type": "code",
   "execution_count": 53,
   "metadata": {},
   "outputs": [
    {
     "data": {
      "text/plain": [
       "(None, 7)"
      ]
     },
     "execution_count": 53,
     "metadata": {},
     "output_type": "execute_result"
    }
   ],
   "source": [
    "model.output_shape"
   ]
  },
  {
   "cell_type": "code",
   "execution_count": 56,
   "metadata": {},
   "outputs": [
    {
     "data": {
      "text/plain": [
       "(None, 60, 7)"
      ]
     },
     "execution_count": 56,
     "metadata": {},
     "output_type": "execute_result"
    }
   ],
   "source": [
    "model.input_shape"
   ]
  },
  {
   "cell_type": "code",
   "execution_count": 37,
   "metadata": {},
   "outputs": [],
   "source": [
    "from tensorflow import keras"
   ]
  },
  {
   "cell_type": "code",
   "execution_count": 38,
   "metadata": {},
   "outputs": [],
   "source": [
    "callback = keras.callbacks.EarlyStopping(monitor='loss', patience=10)"
   ]
  },
  {
   "cell_type": "code",
   "execution_count": 49,
   "metadata": {},
   "outputs": [
    {
     "name": "stdout",
     "output_type": "stream",
     "text": [
      "Epoch 1/200\n",
      "19/19 [==============================] - 7s 118ms/step - loss: 46.8163\n",
      "Epoch 2/200\n",
      "19/19 [==============================] - 2s 121ms/step - loss: 45.6769\n",
      "Epoch 3/200\n",
      "19/19 [==============================] - 2s 119ms/step - loss: 45.1002\n",
      "Epoch 4/200\n",
      "19/19 [==============================] - 2s 117ms/step - loss: 45.0501\n",
      "Epoch 5/200\n",
      "19/19 [==============================] - 2s 118ms/step - loss: 44.4084\n",
      "Epoch 6/200\n",
      "19/19 [==============================] - 2s 111ms/step - loss: 44.5102\n",
      "Epoch 7/200\n",
      "19/19 [==============================] - 2s 113ms/step - loss: 43.7391\n",
      "Epoch 8/200\n",
      "19/19 [==============================] - 2s 121ms/step - loss: 43.5817\n",
      "Epoch 9/200\n",
      "19/19 [==============================] - 2s 112ms/step - loss: 43.4690\n",
      "Epoch 10/200\n",
      "19/19 [==============================] - 2s 114ms/step - loss: 42.4489\n",
      "Epoch 11/200\n",
      "19/19 [==============================] - 2s 111ms/step - loss: 42.7414\n",
      "Epoch 12/200\n",
      "19/19 [==============================] - 2s 116ms/step - loss: 42.9567\n",
      "Epoch 13/200\n",
      "19/19 [==============================] - 2s 111ms/step - loss: 39.9624\n",
      "Epoch 14/200\n",
      "19/19 [==============================] - 2s 112ms/step - loss: 41.7943\n",
      "Epoch 15/200\n",
      "19/19 [==============================] - 2s 115ms/step - loss: 41.7267\n",
      "Epoch 16/200\n",
      "19/19 [==============================] - 2s 118ms/step - loss: 40.1835\n",
      "Epoch 17/200\n",
      "19/19 [==============================] - 2s 118ms/step - loss: 40.3137\n",
      "Epoch 18/200\n",
      "19/19 [==============================] - 2s 113ms/step - loss: 39.3163\n",
      "Epoch 19/200\n",
      "19/19 [==============================] - 2s 121ms/step - loss: 40.4901\n",
      "Epoch 20/200\n",
      "19/19 [==============================] - 2s 121ms/step - loss: 40.5202\n",
      "Epoch 21/200\n",
      "19/19 [==============================] - 2s 127ms/step - loss: 39.0406\n",
      "Epoch 22/200\n",
      "19/19 [==============================] - 2s 120ms/step - loss: 38.5623\n",
      "Epoch 23/200\n",
      "19/19 [==============================] - 2s 122ms/step - loss: 38.3335\n",
      "Epoch 24/200\n",
      "19/19 [==============================] - 2s 125ms/step - loss: 38.7291\n",
      "Epoch 25/200\n",
      "19/19 [==============================] - 2s 120ms/step - loss: 38.5339\n",
      "Epoch 26/200\n",
      "19/19 [==============================] - 2s 125ms/step - loss: 39.0974\n",
      "Epoch 27/200\n",
      "19/19 [==============================] - 2s 122ms/step - loss: 37.6837\n",
      "Epoch 28/200\n",
      "19/19 [==============================] - 2s 125ms/step - loss: 36.9603\n",
      "Epoch 29/200\n",
      "19/19 [==============================] - 2s 119ms/step - loss: 39.8910\n",
      "Epoch 30/200\n",
      "19/19 [==============================] - 2s 128ms/step - loss: 37.3609\n",
      "Epoch 31/200\n",
      "19/19 [==============================] - 2s 124ms/step - loss: 36.1885\n",
      "Epoch 32/200\n",
      "19/19 [==============================] - 2s 125ms/step - loss: 38.3969\n",
      "Epoch 33/200\n",
      "19/19 [==============================] - 2s 120ms/step - loss: 37.2074\n",
      "Epoch 34/200\n",
      "19/19 [==============================] - 2s 125ms/step - loss: 36.3335\n",
      "Epoch 35/200\n",
      "19/19 [==============================] - 2s 122ms/step - loss: 36.2919\n",
      "Epoch 36/200\n",
      "19/19 [==============================] - 2s 121ms/step - loss: 35.2123\n",
      "Epoch 37/200\n",
      "19/19 [==============================] - 2s 124ms/step - loss: 35.1397\n",
      "Epoch 38/200\n",
      "19/19 [==============================] - 2s 122ms/step - loss: 34.9167\n",
      "Epoch 39/200\n",
      "19/19 [==============================] - 2s 127ms/step - loss: 36.7456\n",
      "Epoch 40/200\n",
      "19/19 [==============================] - 2s 125ms/step - loss: 36.3127\n",
      "Epoch 41/200\n",
      "19/19 [==============================] - 2s 124ms/step - loss: 34.6490\n",
      "Epoch 42/200\n",
      "19/19 [==============================] - 2s 122ms/step - loss: 33.6924\n",
      "Epoch 43/200\n",
      "19/19 [==============================] - 2s 124ms/step - loss: 39.3826\n",
      "Epoch 44/200\n",
      "19/19 [==============================] - 2s 122ms/step - loss: 39.3563\n",
      "Epoch 45/200\n",
      "19/19 [==============================] - 2s 125ms/step - loss: 35.7966\n",
      "Epoch 46/200\n",
      "19/19 [==============================] - 2s 121ms/step - loss: 34.4826\n",
      "Epoch 47/200\n",
      "19/19 [==============================] - 2s 127ms/step - loss: 39.0772\n",
      "Epoch 48/200\n",
      "19/19 [==============================] - 2s 123ms/step - loss: 38.5713\n",
      "Epoch 49/200\n",
      "19/19 [==============================] - 2s 128ms/step - loss: 34.9265\n",
      "Epoch 50/200\n",
      "19/19 [==============================] - 2s 130ms/step - loss: 33.4222\n",
      "Epoch 51/200\n",
      "19/19 [==============================] - 2s 130ms/step - loss: 33.1147\n",
      "Epoch 52/200\n",
      "19/19 [==============================] - 2s 124ms/step - loss: 37.1106\n",
      "Epoch 53/200\n",
      "19/19 [==============================] - 2s 129ms/step - loss: 33.9130\n",
      "Epoch 54/200\n",
      "19/19 [==============================] - 2s 118ms/step - loss: 35.0739\n",
      "Epoch 55/200\n",
      "19/19 [==============================] - 2s 122ms/step - loss: 34.8260\n",
      "Epoch 56/200\n",
      "19/19 [==============================] - 2s 113ms/step - loss: 33.1823\n",
      "Epoch 57/200\n",
      "19/19 [==============================] - 2s 116ms/step - loss: 35.0024\n",
      "Epoch 58/200\n",
      "19/19 [==============================] - 2s 116ms/step - loss: 32.0844\n",
      "Epoch 59/200\n",
      "19/19 [==============================] - 2s 114ms/step - loss: 33.3288\n",
      "Epoch 60/200\n",
      "19/19 [==============================] - 2s 119ms/step - loss: 32.4938\n",
      "Epoch 61/200\n",
      "19/19 [==============================] - 2s 114ms/step - loss: 31.9678\n",
      "Epoch 62/200\n",
      "19/19 [==============================] - 2s 129ms/step - loss: 37.3930\n",
      "Epoch 63/200\n",
      "19/19 [==============================] - 2s 118ms/step - loss: 33.8470\n",
      "Epoch 64/200\n",
      "19/19 [==============================] - 2s 121ms/step - loss: 32.6215\n",
      "Epoch 65/200\n",
      "19/19 [==============================] - 2s 114ms/step - loss: 31.7799\n",
      "Epoch 66/200\n",
      "19/19 [==============================] - 2s 119ms/step - loss: 31.6422\n",
      "Epoch 67/200\n",
      "19/19 [==============================] - 2s 117ms/step - loss: 32.3425\n",
      "Epoch 68/200\n",
      "19/19 [==============================] - 2s 119ms/step - loss: 31.6313\n",
      "Epoch 69/200\n",
      "19/19 [==============================] - 2s 120ms/step - loss: 30.8662\n",
      "Epoch 70/200\n",
      "19/19 [==============================] - 2s 116ms/step - loss: 29.9017\n",
      "Epoch 71/200\n",
      "19/19 [==============================] - 2s 120ms/step - loss: 31.8940\n",
      "Epoch 72/200\n",
      "19/19 [==============================] - 2s 117ms/step - loss: 35.3297\n",
      "Epoch 73/200\n",
      "19/19 [==============================] - 2s 124ms/step - loss: 32.8841\n",
      "Epoch 74/200\n",
      "19/19 [==============================] - 2s 111ms/step - loss: 30.7113\n",
      "Epoch 75/200\n",
      "19/19 [==============================] - 2s 121ms/step - loss: 29.5434\n",
      "Epoch 76/200\n",
      "19/19 [==============================] - 2s 114ms/step - loss: 30.7929\n",
      "Epoch 77/200\n",
      "19/19 [==============================] - 2s 113ms/step - loss: 31.6619\n",
      "Epoch 78/200\n",
      "19/19 [==============================] - 2s 115ms/step - loss: 33.8169\n",
      "Epoch 79/200\n",
      "19/19 [==============================] - 2s 115ms/step - loss: 31.3142\n",
      "Epoch 80/200\n",
      "19/19 [==============================] - 2s 121ms/step - loss: 32.8449\n",
      "Epoch 81/200\n",
      "19/19 [==============================] - 2s 113ms/step - loss: 29.6410\n",
      "Epoch 82/200\n",
      "19/19 [==============================] - 2s 118ms/step - loss: 29.8898\n",
      "Epoch 83/200\n",
      "19/19 [==============================] - 2s 114ms/step - loss: 28.2936\n",
      "Epoch 84/200\n",
      "19/19 [==============================] - 2s 118ms/step - loss: 28.6619\n",
      "Epoch 85/200\n",
      "19/19 [==============================] - 2s 114ms/step - loss: 29.5433\n",
      "Epoch 86/200\n",
      "19/19 [==============================] - 2s 112ms/step - loss: 27.5112\n",
      "Epoch 87/200\n",
      "19/19 [==============================] - 2s 116ms/step - loss: 28.0973\n",
      "Epoch 88/200\n",
      "19/19 [==============================] - 2s 112ms/step - loss: 31.0485\n",
      "Epoch 89/200\n",
      "19/19 [==============================] - 2s 120ms/step - loss: 31.6776\n",
      "Epoch 90/200\n",
      "19/19 [==============================] - 2s 120ms/step - loss: 33.5217\n",
      "Epoch 91/200\n",
      "19/19 [==============================] - 2s 116ms/step - loss: 31.1921\n",
      "Epoch 92/200\n",
      "19/19 [==============================] - 2s 112ms/step - loss: 29.1030\n",
      "Epoch 93/200\n",
      "19/19 [==============================] - 2s 114ms/step - loss: 30.7879\n",
      "Epoch 94/200\n",
      "19/19 [==============================] - 2s 115ms/step - loss: 31.8318\n",
      "Epoch 95/200\n",
      "19/19 [==============================] - 2s 113ms/step - loss: 29.0832\n",
      "Epoch 96/200\n",
      "19/19 [==============================] - 2s 119ms/step - loss: 29.4436\n"
     ]
    }
   ],
   "source": [
    "history = model.fit(X, y, epochs=200, verbose=1, callbacks=[callback])"
   ]
  },
  {
   "cell_type": "code",
   "execution_count": 54,
   "metadata": {},
   "outputs": [
    {
     "ename": "ValueError",
     "evalue": "in user code:\n\n    File \"C:\\Users\\asus\\AppData\\Local\\Programs\\Python\\Python37\\lib\\site-packages\\keras\\engine\\training.py\", line 1801, in predict_function  *\n        return step_function(self, iterator)\n    File \"C:\\Users\\asus\\AppData\\Local\\Programs\\Python\\Python37\\lib\\site-packages\\keras\\engine\\training.py\", line 1790, in step_function  **\n        outputs = model.distribute_strategy.run(run_step, args=(data,))\n    File \"C:\\Users\\asus\\AppData\\Local\\Programs\\Python\\Python37\\lib\\site-packages\\keras\\engine\\training.py\", line 1783, in run_step  **\n        outputs = model.predict_step(data)\n    File \"C:\\Users\\asus\\AppData\\Local\\Programs\\Python\\Python37\\lib\\site-packages\\keras\\engine\\training.py\", line 1751, in predict_step\n        return self(x, training=False)\n    File \"C:\\Users\\asus\\AppData\\Local\\Programs\\Python\\Python37\\lib\\site-packages\\keras\\utils\\traceback_utils.py\", line 67, in error_handler\n        raise e.with_traceback(filtered_tb) from None\n    File \"C:\\Users\\asus\\AppData\\Local\\Programs\\Python\\Python37\\lib\\site-packages\\keras\\engine\\input_spec.py\", line 264, in assert_input_compatibility\n        raise ValueError(f'Input {input_index} of layer \"{layer_name}\" is '\n\n    ValueError: Input 0 of layer \"sequential_4\" is incompatible with the layer: expected shape=(None, 60, 7), found shape=(None, 7)\n",
     "output_type": "error",
     "traceback": [
      "\u001b[1;31m---------------------------------------------------------------------------\u001b[0m",
      "\u001b[1;31mValueError\u001b[0m                                Traceback (most recent call last)",
      "\u001b[1;32m<ipython-input-54-db21bef4f136>\u001b[0m in \u001b[0;36m<module>\u001b[1;34m\u001b[0m\n\u001b[1;32m----> 1\u001b[1;33m \u001b[0my_hat\u001b[0m \u001b[1;33m=\u001b[0m \u001b[0mmodel\u001b[0m\u001b[1;33m.\u001b[0m\u001b[0mpredict\u001b[0m\u001b[1;33m(\u001b[0m\u001b[0mX\u001b[0m\u001b[1;33m[\u001b[0m\u001b[1;36m200\u001b[0m\u001b[1;33m]\u001b[0m\u001b[1;33m)\u001b[0m\u001b[1;33m\u001b[0m\u001b[1;33m\u001b[0m\u001b[0m\n\u001b[0m",
      "\u001b[1;32m~\\AppData\\Local\\Programs\\Python\\Python37\\lib\\site-packages\\keras\\utils\\traceback_utils.py\u001b[0m in \u001b[0;36merror_handler\u001b[1;34m(*args, **kwargs)\u001b[0m\n\u001b[0;32m     65\u001b[0m     \u001b[1;32mexcept\u001b[0m \u001b[0mException\u001b[0m \u001b[1;32mas\u001b[0m \u001b[0me\u001b[0m\u001b[1;33m:\u001b[0m  \u001b[1;31m# pylint: disable=broad-except\u001b[0m\u001b[1;33m\u001b[0m\u001b[1;33m\u001b[0m\u001b[0m\n\u001b[0;32m     66\u001b[0m       \u001b[0mfiltered_tb\u001b[0m \u001b[1;33m=\u001b[0m \u001b[0m_process_traceback_frames\u001b[0m\u001b[1;33m(\u001b[0m\u001b[0me\u001b[0m\u001b[1;33m.\u001b[0m\u001b[0m__traceback__\u001b[0m\u001b[1;33m)\u001b[0m\u001b[1;33m\u001b[0m\u001b[1;33m\u001b[0m\u001b[0m\n\u001b[1;32m---> 67\u001b[1;33m       \u001b[1;32mraise\u001b[0m \u001b[0me\u001b[0m\u001b[1;33m.\u001b[0m\u001b[0mwith_traceback\u001b[0m\u001b[1;33m(\u001b[0m\u001b[0mfiltered_tb\u001b[0m\u001b[1;33m)\u001b[0m \u001b[1;32mfrom\u001b[0m \u001b[1;32mNone\u001b[0m\u001b[1;33m\u001b[0m\u001b[1;33m\u001b[0m\u001b[0m\n\u001b[0m\u001b[0;32m     68\u001b[0m     \u001b[1;32mfinally\u001b[0m\u001b[1;33m:\u001b[0m\u001b[1;33m\u001b[0m\u001b[1;33m\u001b[0m\u001b[0m\n\u001b[0;32m     69\u001b[0m       \u001b[1;32mdel\u001b[0m \u001b[0mfiltered_tb\u001b[0m\u001b[1;33m\u001b[0m\u001b[1;33m\u001b[0m\u001b[0m\n",
      "\u001b[1;32m~\\AppData\\Local\\Programs\\Python\\Python37\\lib\\site-packages\\tensorflow\\python\\framework\\func_graph.py\u001b[0m in \u001b[0;36mautograph_handler\u001b[1;34m(*args, **kwargs)\u001b[0m\n\u001b[0;32m   1145\u001b[0m           \u001b[1;32mexcept\u001b[0m \u001b[0mException\u001b[0m \u001b[1;32mas\u001b[0m \u001b[0me\u001b[0m\u001b[1;33m:\u001b[0m  \u001b[1;31m# pylint:disable=broad-except\u001b[0m\u001b[1;33m\u001b[0m\u001b[1;33m\u001b[0m\u001b[0m\n\u001b[0;32m   1146\u001b[0m             \u001b[1;32mif\u001b[0m \u001b[0mhasattr\u001b[0m\u001b[1;33m(\u001b[0m\u001b[0me\u001b[0m\u001b[1;33m,\u001b[0m \u001b[1;34m\"ag_error_metadata\"\u001b[0m\u001b[1;33m)\u001b[0m\u001b[1;33m:\u001b[0m\u001b[1;33m\u001b[0m\u001b[1;33m\u001b[0m\u001b[0m\n\u001b[1;32m-> 1147\u001b[1;33m               \u001b[1;32mraise\u001b[0m \u001b[0me\u001b[0m\u001b[1;33m.\u001b[0m\u001b[0mag_error_metadata\u001b[0m\u001b[1;33m.\u001b[0m\u001b[0mto_exception\u001b[0m\u001b[1;33m(\u001b[0m\u001b[0me\u001b[0m\u001b[1;33m)\u001b[0m\u001b[1;33m\u001b[0m\u001b[1;33m\u001b[0m\u001b[0m\n\u001b[0m\u001b[0;32m   1148\u001b[0m             \u001b[1;32melse\u001b[0m\u001b[1;33m:\u001b[0m\u001b[1;33m\u001b[0m\u001b[1;33m\u001b[0m\u001b[0m\n\u001b[0;32m   1149\u001b[0m               \u001b[1;32mraise\u001b[0m\u001b[1;33m\u001b[0m\u001b[1;33m\u001b[0m\u001b[0m\n",
      "\u001b[1;31mValueError\u001b[0m: in user code:\n\n    File \"C:\\Users\\asus\\AppData\\Local\\Programs\\Python\\Python37\\lib\\site-packages\\keras\\engine\\training.py\", line 1801, in predict_function  *\n        return step_function(self, iterator)\n    File \"C:\\Users\\asus\\AppData\\Local\\Programs\\Python\\Python37\\lib\\site-packages\\keras\\engine\\training.py\", line 1790, in step_function  **\n        outputs = model.distribute_strategy.run(run_step, args=(data,))\n    File \"C:\\Users\\asus\\AppData\\Local\\Programs\\Python\\Python37\\lib\\site-packages\\keras\\engine\\training.py\", line 1783, in run_step  **\n        outputs = model.predict_step(data)\n    File \"C:\\Users\\asus\\AppData\\Local\\Programs\\Python\\Python37\\lib\\site-packages\\keras\\engine\\training.py\", line 1751, in predict_step\n        return self(x, training=False)\n    File \"C:\\Users\\asus\\AppData\\Local\\Programs\\Python\\Python37\\lib\\site-packages\\keras\\utils\\traceback_utils.py\", line 67, in error_handler\n        raise e.with_traceback(filtered_tb) from None\n    File \"C:\\Users\\asus\\AppData\\Local\\Programs\\Python\\Python37\\lib\\site-packages\\keras\\engine\\input_spec.py\", line 264, in assert_input_compatibility\n        raise ValueError(f'Input {input_index} of layer \"{layer_name}\" is '\n\n    ValueError: Input 0 of layer \"sequential_4\" is incompatible with the layer: expected shape=(None, 60, 7), found shape=(None, 7)\n"
     ]
    }
   ],
   "source": [
    "y_hat = model.predict(X[200])"
   ]
  },
  {
   "cell_type": "code",
   "execution_count": 51,
   "metadata": {},
   "outputs": [
    {
     "data": {
      "text/plain": [
       "array([[2., 1., 2., 0., 0., 1., 1.],\n",
       "       [2., 1., 2., 0., 0., 2., 1.],\n",
       "       [2., 1., 2., 0., 0., 2., 1.],\n",
       "       [2., 1., 2., 0., 0., 2., 1.],\n",
       "       [2., 1., 2., 0., 0., 2., 1.],\n",
       "       [2., 1., 2., 0., 0., 1., 1.],\n",
       "       [3., 1., 2., 0., 0., 1., 1.],\n",
       "       [4., 1., 1., 0., 0., 1., 1.],\n",
       "       [4., 1., 1., 0., 0., 2., 1.],\n",
       "       [5., 2., 2., 0., 0., 2., 1.],\n",
       "       [4., 3., 2., 0., 0., 3., 2.],\n",
       "       [3., 2., 2., 0., 0., 2., 1.],\n",
       "       [3., 2., 2., 0., 0., 2., 1.],\n",
       "       [3., 2., 2., 0., 0., 2., 1.],\n",
       "       [3., 2., 2., 0., 0., 2., 1.],\n",
       "       [2., 2., 2., 0., 0., 2., 1.],\n",
       "       [3., 1., 2., 0., 0., 2., 1.],\n",
       "       [3., 1., 2., 0., 0., 2., 1.],\n",
       "       [3., 2., 2., 0., 0., 2., 1.],\n",
       "       [3., 2., 2., 0., 0., 2., 1.],\n",
       "       [3., 2., 2., 0., 0., 2., 1.],\n",
       "       [5., 1., 2., 0., 1., 1., 1.],\n",
       "       [7., 1., 1., 0., 0., 1., 1.],\n",
       "       [7., 1., 1., 0., 0., 1., 1.],\n",
       "       [6., 1., 1., 0., 0., 1., 1.],\n",
       "       [5., 2., 1., 0., 0., 1., 1.],\n",
       "       [5., 2., 1., 0., 0., 1., 1.],\n",
       "       [4., 2., 1., 0., 0., 1., 1.],\n",
       "       [4., 1., 1., 0., 0., 1., 1.],\n",
       "       [3., 2., 1., 0., 0., 1., 1.],\n",
       "       [3., 2., 2., 0., 0., 2., 1.],\n",
       "       [3., 2., 2., 0., 0., 2., 1.],\n",
       "       [3., 2., 2., 0., 0., 2., 1.],\n",
       "       [3., 2., 2., 0., 0., 2., 1.],\n",
       "       [3., 2., 2., 0., 0., 2., 1.],\n",
       "       [3., 2., 2., 0., 0., 2., 1.],\n",
       "       [3., 2., 3., 0., 0., 2., 1.],\n",
       "       [3., 1., 2., 0., 0., 2., 1.],\n",
       "       [3., 1., 2., 0., 0., 1., 1.],\n",
       "       [3., 1., 2., 0., 0., 2., 1.],\n",
       "       [3., 2., 2., 0., 0., 2., 1.],\n",
       "       [3., 2., 2., 0., 0., 2., 1.],\n",
       "       [3., 2., 2., 0., 0., 2., 1.],\n",
       "       [3., 2., 2., 0., 0., 2., 1.],\n",
       "       [3., 2., 2., 0., 0., 2., 1.],\n",
       "       [2., 2., 2., 0., 0., 2., 1.],\n",
       "       [3., 1., 2., 0., 0., 2., 1.],\n",
       "       [3., 2., 2., 0., 0., 2., 1.],\n",
       "       [3., 1., 2., 0., 0., 2., 1.],\n",
       "       [3., 2., 2., 0., 0., 2., 1.],\n",
       "       [3., 2., 2., 0., 0., 2., 1.],\n",
       "       [3., 2., 3., 0., 0., 3., 1.],\n",
       "       [3., 2., 3., 0., 0., 2., 1.],\n",
       "       [2., 2., 3., 0., 0., 2., 1.],\n",
       "       [2., 1., 3., 0., 0., 2., 1.],\n",
       "       [3., 1., 3., 0., 0., 1., 1.],\n",
       "       [3., 1., 3., 0., 0., 1., 0.],\n",
       "       [3., 1., 2., 0., 0., 1., 1.],\n",
       "       [3., 1., 2., 0., 0., 1., 1.],\n",
       "       [3., 2., 2., 0., 0., 2., 1.]], dtype=float32)"
      ]
     },
     "execution_count": 51,
     "metadata": {},
     "output_type": "execute_result"
    }
   ],
   "source": [
    "np.floor(y_hat)"
   ]
  },
  {
   "cell_type": "code",
   "execution_count": 72,
   "metadata": {},
   "outputs": [],
   "source": [
    "from keras.layers import RepeatVector, TimeDistributed\n",
    "\n",
    "n_steps_out = 1\n",
    "\n",
    "model2 = Sequential()\n",
    "model2.add(LSTM(128, activation='tanh', input_shape=(tau, n_features), dropout=.4))\n",
    "model2.add(RepeatVector(n_steps_out))\n",
    "model2.add(LSTM(128, activation='tanh', return_sequences=True, dropout=.4))\n",
    "model2.add(TimeDistributed(Dense(n_features, activation='relu')))\n",
    "model2.compile(optimizer='adam', loss='mse')"
   ]
  },
  {
   "cell_type": "code",
   "execution_count": 73,
   "metadata": {},
   "outputs": [
    {
     "name": "stdout",
     "output_type": "stream",
     "text": [
      "Epoch 1/200\n",
      "19/19 [==============================] - 6s 53ms/step - loss: 48.3062\n",
      "Epoch 2/200\n",
      "19/19 [==============================] - 1s 53ms/step - loss: 45.7516\n",
      "Epoch 3/200\n",
      "19/19 [==============================] - 1s 57ms/step - loss: 45.6673\n",
      "Epoch 4/200\n",
      "19/19 [==============================] - 1s 49ms/step - loss: 45.6491\n",
      "Epoch 5/200\n",
      "19/19 [==============================] - 1s 51ms/step - loss: 45.6113\n",
      "Epoch 6/200\n",
      "19/19 [==============================] - 1s 54ms/step - loss: 45.6788\n",
      "Epoch 7/200\n",
      "19/19 [==============================] - 1s 55ms/step - loss: 45.6373\n",
      "Epoch 8/200\n",
      "19/19 [==============================] - 1s 76ms/step - loss: 45.6846\n",
      "Epoch 9/200\n",
      "19/19 [==============================] - 1s 50ms/step - loss: 45.6828\n",
      "Epoch 10/200\n",
      "19/19 [==============================] - 1s 48ms/step - loss: 45.6389\n",
      "Epoch 11/200\n",
      "19/19 [==============================] - 1s 51ms/step - loss: 45.6009\n",
      "Epoch 12/200\n",
      "19/19 [==============================] - 1s 55ms/step - loss: 45.6134\n",
      "Epoch 13/200\n",
      "19/19 [==============================] - 1s 56ms/step - loss: 45.6080\n",
      "Epoch 14/200\n",
      "19/19 [==============================] - 1s 54ms/step - loss: 45.5889\n",
      "Epoch 15/200\n",
      "19/19 [==============================] - 1s 54ms/step - loss: 45.6209\n",
      "Epoch 16/200\n",
      "19/19 [==============================] - 1s 52ms/step - loss: 45.5996\n",
      "Epoch 17/200\n",
      "19/19 [==============================] - 1s 50ms/step - loss: 45.6231\n",
      "Epoch 18/200\n",
      "19/19 [==============================] - 1s 53ms/step - loss: 45.6188\n",
      "Epoch 19/200\n",
      "19/19 [==============================] - 1s 50ms/step - loss: 45.6031\n",
      "Epoch 20/200\n",
      "19/19 [==============================] - 1s 51ms/step - loss: 45.6819\n",
      "Epoch 21/200\n",
      "19/19 [==============================] - 1s 50ms/step - loss: 45.6007\n",
      "Epoch 22/200\n",
      "19/19 [==============================] - 1s 50ms/step - loss: 45.6350\n",
      "Epoch 23/200\n",
      "19/19 [==============================] - 1s 54ms/step - loss: 45.6335\n",
      "Epoch 24/200\n",
      "19/19 [==============================] - 1s 51ms/step - loss: 45.6305\n"
     ]
    }
   ],
   "source": [
    "history2 = model2.fit(X, y, epochs=200, verbose=1, callbacks=[callback])"
   ]
  },
  {
   "cell_type": "code",
   "execution_count": 84,
   "metadata": {},
   "outputs": [],
   "source": [
    "y_hat2 = model2.predict(X[200:201])"
   ]
  },
  {
   "cell_type": "code",
   "execution_count": 85,
   "metadata": {},
   "outputs": [
    {
     "data": {
      "text/plain": [
       "array([[[3.089209 , 2.4493206, 3.2040713, 0.4490118, 0.6375236,\n",
       "         3.246378 , 1.7775995]]], dtype=float32)"
      ]
     },
     "execution_count": 85,
     "metadata": {},
     "output_type": "execute_result"
    }
   ],
   "source": [
    "y_hat2"
   ]
  },
  {
   "cell_type": "code",
   "execution_count": 87,
   "metadata": {},
   "outputs": [
    {
     "data": {
      "text/plain": [
       "array([[[3., 2., 3., 0., 1., 3., 2.]]], dtype=float32)"
      ]
     },
     "execution_count": 87,
     "metadata": {},
     "output_type": "execute_result"
    }
   ],
   "source": [
    "np.round(y_hat2)"
   ]
  },
  {
   "cell_type": "code",
   "execution_count": 88,
   "metadata": {},
   "outputs": [
    {
     "data": {
      "text/plain": [
       "array([2, 0, 1, 0, 0, 2, 1], dtype=uint8)"
      ]
     },
     "execution_count": 88,
     "metadata": {},
     "output_type": "execute_result"
    }
   ],
   "source": [
    "y[200]"
   ]
  },
  {
   "cell_type": "code",
   "execution_count": null,
   "metadata": {},
   "outputs": [],
   "source": [
    "y_hat_f = model.predict(X_)"
   ]
  }
 ],
 "metadata": {
  "interpreter": {
   "hash": "fe06f96167c4fc64a78c238d993189072a4e72b444216e36203d6f96126eaf0a"
  },
  "kernelspec": {
   "display_name": "Python 3.9.7 64-bit",
   "language": "python",
   "name": "python3"
  },
  "language_info": {
   "codemirror_mode": {
    "name": "ipython",
    "version": 3
   },
   "file_extension": ".py",
   "mimetype": "text/x-python",
   "name": "python",
   "nbconvert_exporter": "python",
   "pygments_lexer": "ipython3",
   "version": "3.7.8"
  },
  "orig_nbformat": 4
 },
 "nbformat": 4,
 "nbformat_minor": 2
}
