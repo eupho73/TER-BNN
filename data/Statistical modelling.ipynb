{
 "cells": [
  {
   "cell_type": "markdown",
   "id": "cab38f7a",
   "metadata": {},
   "source": [
    "# Modelisations de la distribution des variables magnitudes (class)et profondeur (depth)"
   ]
  },
  {
   "cell_type": "markdown",
   "id": "80e08e9a",
   "metadata": {},
   "source": [
    "## Table of Contents\n",
    "\n",
    "* [Chargement des librairies necessaires](#chapter1)\n",
    "* [Import des donneés et Analyse](#chapter2)\n"
   ]
  },
  {
   "cell_type": "markdown",
   "id": "46791d69",
   "metadata": {},
   "source": [
    "## Chargement des librairies necessaires <a class=\"anchor\" id=\"chapter1\"></a>"
   ]
  },
  {
   "cell_type": "code",
   "execution_count": 42,
   "id": "471f89da",
   "metadata": {},
   "outputs": [],
   "source": [
    "import requests\n",
    "import numpy as np\n",
    "import pandas as pd\n",
    "import matplotlib.pyplot as plt\n",
    "import seaborn as sns\n",
    "\n",
    "# librairie pour l'estimation des paramètres\n",
    "import scipy\n",
    "import scipy.stats"
   ]
  },
  {
   "cell_type": "markdown",
   "id": "53609673",
   "metadata": {},
   "source": [
    "## Import des donneés et Analyse <a class=\"anchor\" id=\"chapter1\"></a>"
   ]
  },
  {
   "cell_type": "code",
   "execution_count": 43,
   "id": "8434e1fe",
   "metadata": {
    "scrolled": true
   },
   "outputs": [],
   "source": [
    "# Get the data\n",
    "#r = requests.get('https://raw.githubusercontent.com/eupho73/TER-BNN/main/data/data.csv')\n",
    "r = requests.get('https://raw.githubusercontent.com/eupho73/TER-BNN/main/data/nn/eq_1960_2022.csv')\n",
    "# Save the data\n",
    "with open(\"eq_1960_2022.csv\", 'wb') as f:\n",
    "#with open(\"eq_data.csv\", 'wb') as f:\n",
    "    f.write(r.content)\n",
    "    \n",
    "#open the data   \n",
    "data=pd.read_csv(\"eq_1960_2022.csv\")\n"
   ]
  },
  {
   "cell_type": "code",
   "execution_count": 44,
   "id": "f9e60ede",
   "metadata": {
    "scrolled": true
   },
   "outputs": [
    {
     "name": "stdout",
     "output_type": "stream",
     "text": [
      "les dimensions (34068, 5)\n"
     ]
    },
    {
     "data": {
      "text/html": [
       "<div>\n",
       "<style scoped>\n",
       "    .dataframe tbody tr th:only-of-type {\n",
       "        vertical-align: middle;\n",
       "    }\n",
       "\n",
       "    .dataframe tbody tr th {\n",
       "        vertical-align: top;\n",
       "    }\n",
       "\n",
       "    .dataframe thead th {\n",
       "        text-align: right;\n",
       "    }\n",
       "</style>\n",
       "<table border=\"1\" class=\"dataframe\">\n",
       "  <thead>\n",
       "    <tr style=\"text-align: right;\">\n",
       "      <th></th>\n",
       "      <th>time</th>\n",
       "      <th>latitude</th>\n",
       "      <th>longitude</th>\n",
       "      <th>depth</th>\n",
       "      <th>mag</th>\n",
       "    </tr>\n",
       "  </thead>\n",
       "  <tbody>\n",
       "    <tr>\n",
       "      <th>0</th>\n",
       "      <td>2021-12-01</td>\n",
       "      <td>35.2280</td>\n",
       "      <td>141.4204</td>\n",
       "      <td>10.00</td>\n",
       "      <td>4.7</td>\n",
       "    </tr>\n",
       "    <tr>\n",
       "      <th>1</th>\n",
       "      <td>2021-12-01</td>\n",
       "      <td>35.2774</td>\n",
       "      <td>141.5336</td>\n",
       "      <td>10.00</td>\n",
       "      <td>4.7</td>\n",
       "    </tr>\n",
       "    <tr>\n",
       "      <th>2</th>\n",
       "      <td>2021-12-01</td>\n",
       "      <td>33.7690</td>\n",
       "      <td>137.1036</td>\n",
       "      <td>362.75</td>\n",
       "      <td>4.0</td>\n",
       "    </tr>\n",
       "    <tr>\n",
       "      <th>3</th>\n",
       "      <td>2021-12-01</td>\n",
       "      <td>35.2014</td>\n",
       "      <td>141.4165</td>\n",
       "      <td>10.00</td>\n",
       "      <td>4.5</td>\n",
       "    </tr>\n",
       "    <tr>\n",
       "      <th>4</th>\n",
       "      <td>2021-12-01</td>\n",
       "      <td>35.1430</td>\n",
       "      <td>141.3281</td>\n",
       "      <td>10.00</td>\n",
       "      <td>4.9</td>\n",
       "    </tr>\n",
       "  </tbody>\n",
       "</table>\n",
       "</div>"
      ],
      "text/plain": [
       "         time  latitude  longitude   depth  mag\n",
       "0  2021-12-01   35.2280   141.4204   10.00  4.7\n",
       "1  2021-12-01   35.2774   141.5336   10.00  4.7\n",
       "2  2021-12-01   33.7690   137.1036  362.75  4.0\n",
       "3  2021-12-01   35.2014   141.4165   10.00  4.5\n",
       "4  2021-12-01   35.1430   141.3281   10.00  4.9"
      ]
     },
     "execution_count": 44,
     "metadata": {},
     "output_type": "execute_result"
    }
   ],
   "source": [
    "print(\"les dimensions\", data.shape) \n",
    "data.head()"
   ]
  },
  {
   "cell_type": "code",
   "execution_count": 45,
   "id": "dde5c019",
   "metadata": {
    "scrolled": false
   },
   "outputs": [
    {
     "data": {
      "text/html": [
       "<div>\n",
       "<style scoped>\n",
       "    .dataframe tbody tr th:only-of-type {\n",
       "        vertical-align: middle;\n",
       "    }\n",
       "\n",
       "    .dataframe tbody tr th {\n",
       "        vertical-align: top;\n",
       "    }\n",
       "\n",
       "    .dataframe thead th {\n",
       "        text-align: right;\n",
       "    }\n",
       "</style>\n",
       "<table border=\"1\" class=\"dataframe\">\n",
       "  <thead>\n",
       "    <tr style=\"text-align: right;\">\n",
       "      <th></th>\n",
       "      <th>latitude</th>\n",
       "      <th>longitude</th>\n",
       "      <th>depth</th>\n",
       "      <th>mag</th>\n",
       "    </tr>\n",
       "  </thead>\n",
       "  <tbody>\n",
       "    <tr>\n",
       "      <th>count</th>\n",
       "      <td>34068.000000</td>\n",
       "      <td>34068.000000</td>\n",
       "      <td>34068.000000</td>\n",
       "      <td>34068.000000</td>\n",
       "    </tr>\n",
       "    <tr>\n",
       "      <th>mean</th>\n",
       "      <td>37.691623</td>\n",
       "      <td>141.543955</td>\n",
       "      <td>70.260528</td>\n",
       "      <td>4.538313</td>\n",
       "    </tr>\n",
       "    <tr>\n",
       "      <th>std</th>\n",
       "      <td>4.033038</td>\n",
       "      <td>3.675254</td>\n",
       "      <td>93.952011</td>\n",
       "      <td>0.523106</td>\n",
       "    </tr>\n",
       "    <tr>\n",
       "      <th>min</th>\n",
       "      <td>30.001000</td>\n",
       "      <td>129.004000</td>\n",
       "      <td>0.000000</td>\n",
       "      <td>1.800000</td>\n",
       "    </tr>\n",
       "    <tr>\n",
       "      <th>25%</th>\n",
       "      <td>34.743750</td>\n",
       "      <td>140.094000</td>\n",
       "      <td>29.600000</td>\n",
       "      <td>4.200000</td>\n",
       "    </tr>\n",
       "    <tr>\n",
       "      <th>50%</th>\n",
       "      <td>37.277000</td>\n",
       "      <td>141.822000</td>\n",
       "      <td>35.400000</td>\n",
       "      <td>4.500000</td>\n",
       "    </tr>\n",
       "    <tr>\n",
       "      <th>75%</th>\n",
       "      <td>41.083150</td>\n",
       "      <td>143.357000</td>\n",
       "      <td>64.300000</td>\n",
       "      <td>4.800000</td>\n",
       "    </tr>\n",
       "    <tr>\n",
       "      <th>max</th>\n",
       "      <td>45.999000</td>\n",
       "      <td>148.999000</td>\n",
       "      <td>620.200000</td>\n",
       "      <td>9.100000</td>\n",
       "    </tr>\n",
       "  </tbody>\n",
       "</table>\n",
       "</div>"
      ],
      "text/plain": [
       "           latitude     longitude         depth           mag\n",
       "count  34068.000000  34068.000000  34068.000000  34068.000000\n",
       "mean      37.691623    141.543955     70.260528      4.538313\n",
       "std        4.033038      3.675254     93.952011      0.523106\n",
       "min       30.001000    129.004000      0.000000      1.800000\n",
       "25%       34.743750    140.094000     29.600000      4.200000\n",
       "50%       37.277000    141.822000     35.400000      4.500000\n",
       "75%       41.083150    143.357000     64.300000      4.800000\n",
       "max       45.999000    148.999000    620.200000      9.100000"
      ]
     },
     "execution_count": 45,
     "metadata": {},
     "output_type": "execute_result"
    }
   ],
   "source": [
    "data.describe() # Des stats rapides sur les données"
   ]
  },
  {
   "cell_type": "code",
   "execution_count": 46,
   "id": "b591fcfc",
   "metadata": {
    "scrolled": false
   },
   "outputs": [
    {
     "name": "stderr",
     "output_type": "stream",
     "text": [
      "C:\\Users\\khali\\anaconda3\\lib\\site-packages\\seaborn\\distributions.py:2619: FutureWarning: `distplot` is a deprecated function and will be removed in a future version. Please adapt your code to use either `displot` (a figure-level function with similar flexibility) or `histplot` (an axes-level function for histograms).\n",
      "  warnings.warn(msg, FutureWarning)\n",
      "C:\\Users\\khali\\anaconda3\\lib\\site-packages\\seaborn\\distributions.py:2619: FutureWarning: `distplot` is a deprecated function and will be removed in a future version. Please adapt your code to use either `displot` (a figure-level function with similar flexibility) or `histplot` (an axes-level function for histograms).\n",
      "  warnings.warn(msg, FutureWarning)\n"
     ]
    },
    {
     "data": {
      "text/plain": [
       "<Figure size 1600x800 with 2 Axes>"
      ]
     },
     "metadata": {},
     "output_type": "display_data"
    }
   ],
   "source": [
    "plt.figure(figsize = (16,8))\n",
    "plt.subplot(121)\n",
    "sns.distplot(data['depth'])\n",
    "plt.title(\"Intensité Profondeur\")\n",
    "plt.subplot(122)\n",
    "sns.distplot(data['mag'])\n",
    "plt.title(\"Intensité Magnitude\")\n",
    "plt.show()"
   ]
  },
  {
   "cell_type": "markdown",
   "id": "6327d571",
   "metadata": {},
   "source": [
    "## Diviser en zone\n",
    "\n",
    "**Cette fois, je me refère au decoupage de Damien, vu que le but est de lui donner une base de comparaison de ces sorties BNN**"
   ]
  },
  {
   "cell_type": "code",
   "execution_count": 47,
   "id": "a2589dc5",
   "metadata": {},
   "outputs": [],
   "source": [
    "from collections import namedtuple\n",
    "\n",
    "Coords = namedtuple(\"Coords\", \"lat_min lat_max lon_min lon_max\")\n",
    "zones = {\"A\": Coords(41, 46, 140, 146), \"B\": Coords(37, 41, 138, 142), \"C\": Coords(34, 37, 137, 141), \"D\": Coords(33, 37, 133, 137), \"E\": Coords(31, 36, 129, 133), \"F\": Coords(38, 41, 142, 144), \"G\": Coords(36, 38, 141, 143)}\n",
    "\n",
    "def to_5_zone(lat: float, lon: float):\n",
    "    \"\"\"Convert coordinates to a zone number according to the map arrangement above\"\"\"\n",
    "    for zone, coord in zones.items():\n",
    "        if (coord.lat_min <= lat <= coord.lat_max) & (coord.lon_min <= lon <= coord.lon_max):\n",
    "            return zone\n",
    "    return 0\n",
    "data[\"zone\"] = data.apply(lambda x: to_5_zone(x['latitude'], x['longitude']), axis=1)"
   ]
  },
  {
   "cell_type": "code",
   "execution_count": 48,
   "id": "65ea00cd",
   "metadata": {
    "scrolled": true
   },
   "outputs": [
    {
     "data": {
      "text/html": [
       "<div>\n",
       "<style scoped>\n",
       "    .dataframe tbody tr th:only-of-type {\n",
       "        vertical-align: middle;\n",
       "    }\n",
       "\n",
       "    .dataframe tbody tr th {\n",
       "        vertical-align: top;\n",
       "    }\n",
       "\n",
       "    .dataframe thead th {\n",
       "        text-align: right;\n",
       "    }\n",
       "</style>\n",
       "<table border=\"1\" class=\"dataframe\">\n",
       "  <thead>\n",
       "    <tr style=\"text-align: right;\">\n",
       "      <th></th>\n",
       "      <th>time</th>\n",
       "      <th>latitude</th>\n",
       "      <th>longitude</th>\n",
       "      <th>depth</th>\n",
       "      <th>mag</th>\n",
       "      <th>zone</th>\n",
       "    </tr>\n",
       "  </thead>\n",
       "  <tbody>\n",
       "    <tr>\n",
       "      <th>34063</th>\n",
       "      <td>1960-03-23</td>\n",
       "      <td>39.137</td>\n",
       "      <td>143.598</td>\n",
       "      <td>25.0</td>\n",
       "      <td>5.9</td>\n",
       "      <td>F</td>\n",
       "    </tr>\n",
       "    <tr>\n",
       "      <th>34064</th>\n",
       "      <td>1960-03-23</td>\n",
       "      <td>39.146</td>\n",
       "      <td>143.564</td>\n",
       "      <td>25.0</td>\n",
       "      <td>5.8</td>\n",
       "      <td>F</td>\n",
       "    </tr>\n",
       "    <tr>\n",
       "      <th>34065</th>\n",
       "      <td>1960-03-23</td>\n",
       "      <td>39.235</td>\n",
       "      <td>143.303</td>\n",
       "      <td>15.0</td>\n",
       "      <td>6.2</td>\n",
       "      <td>F</td>\n",
       "    </tr>\n",
       "    <tr>\n",
       "      <th>34066</th>\n",
       "      <td>1960-02-04</td>\n",
       "      <td>38.667</td>\n",
       "      <td>143.014</td>\n",
       "      <td>25.0</td>\n",
       "      <td>6.1</td>\n",
       "      <td>F</td>\n",
       "    </tr>\n",
       "    <tr>\n",
       "      <th>34067</th>\n",
       "      <td>1960-01-31</td>\n",
       "      <td>33.093</td>\n",
       "      <td>134.885</td>\n",
       "      <td>20.0</td>\n",
       "      <td>6.3</td>\n",
       "      <td>D</td>\n",
       "    </tr>\n",
       "  </tbody>\n",
       "</table>\n",
       "</div>"
      ],
      "text/plain": [
       "             time  latitude  longitude  depth  mag zone\n",
       "34063  1960-03-23    39.137    143.598   25.0  5.9    F\n",
       "34064  1960-03-23    39.146    143.564   25.0  5.8    F\n",
       "34065  1960-03-23    39.235    143.303   15.0  6.2    F\n",
       "34066  1960-02-04    38.667    143.014   25.0  6.1    F\n",
       "34067  1960-01-31    33.093    134.885   20.0  6.3    D"
      ]
     },
     "execution_count": 48,
     "metadata": {},
     "output_type": "execute_result"
    }
   ],
   "source": [
    "data.tail()"
   ]
  },
  {
   "attachments": {
    "magnitudes_Vs_sinistre.png": {
     "image/png": "[encoded data removed]"
    }
   },
   "cell_type": "markdown",
   "id": "47ad79ac",
   "metadata": {},
   "source": [
    "Dans le cadre du pricing d'un cat bond, on va s'interesser aux EQ capable de declencher un sinistre. Ici on choisit ceux dont les magnitudes sont superieurs à 4.5 en référence à ce tableau.\n",
    "![magnitudes_Vs_sinistre.png](attachment:magnitudes_Vs_sinistre.png)"
   ]
  },
  {
   "cell_type": "code",
   "execution_count": 49,
   "id": "b27c97e9",
   "metadata": {
    "scrolled": true
   },
   "outputs": [
    {
     "data": {
      "text/html": [
       "<div>\n",
       "<style scoped>\n",
       "    .dataframe tbody tr th:only-of-type {\n",
       "        vertical-align: middle;\n",
       "    }\n",
       "\n",
       "    .dataframe tbody tr th {\n",
       "        vertical-align: top;\n",
       "    }\n",
       "\n",
       "    .dataframe thead th {\n",
       "        text-align: right;\n",
       "    }\n",
       "</style>\n",
       "<table border=\"1\" class=\"dataframe\">\n",
       "  <thead>\n",
       "    <tr style=\"text-align: right;\">\n",
       "      <th></th>\n",
       "      <th>time</th>\n",
       "      <th>latitude</th>\n",
       "      <th>longitude</th>\n",
       "      <th>depth</th>\n",
       "      <th>mag</th>\n",
       "      <th>zone</th>\n",
       "    </tr>\n",
       "  </thead>\n",
       "  <tbody>\n",
       "    <tr>\n",
       "      <th>13</th>\n",
       "      <td>2021-12-01</td>\n",
       "      <td>36.1875</td>\n",
       "      <td>140.0911</td>\n",
       "      <td>51.68</td>\n",
       "      <td>5.0</td>\n",
       "      <td>C</td>\n",
       "    </tr>\n",
       "    <tr>\n",
       "      <th>20</th>\n",
       "      <td>2021-12-02</td>\n",
       "      <td>37.7216</td>\n",
       "      <td>141.7845</td>\n",
       "      <td>57.22</td>\n",
       "      <td>4.8</td>\n",
       "      <td>B</td>\n",
       "    </tr>\n",
       "    <tr>\n",
       "      <th>23</th>\n",
       "      <td>2021-12-02</td>\n",
       "      <td>35.5460</td>\n",
       "      <td>139.0340</td>\n",
       "      <td>26.64</td>\n",
       "      <td>4.5</td>\n",
       "      <td>C</td>\n",
       "    </tr>\n",
       "    <tr>\n",
       "      <th>24</th>\n",
       "      <td>2021-12-02</td>\n",
       "      <td>45.8325</td>\n",
       "      <td>142.5511</td>\n",
       "      <td>314.40</td>\n",
       "      <td>4.6</td>\n",
       "      <td>A</td>\n",
       "    </tr>\n",
       "    <tr>\n",
       "      <th>26</th>\n",
       "      <td>2021-12-03</td>\n",
       "      <td>33.8337</td>\n",
       "      <td>135.0775</td>\n",
       "      <td>12.08</td>\n",
       "      <td>5.2</td>\n",
       "      <td>D</td>\n",
       "    </tr>\n",
       "  </tbody>\n",
       "</table>\n",
       "</div>"
      ],
      "text/plain": [
       "          time  latitude  longitude   depth  mag zone\n",
       "13  2021-12-01   36.1875   140.0911   51.68  5.0    C\n",
       "20  2021-12-02   37.7216   141.7845   57.22  4.8    B\n",
       "23  2021-12-02   35.5460   139.0340   26.64  4.5    C\n",
       "24  2021-12-02   45.8325   142.5511  314.40  4.6    A\n",
       "26  2021-12-03   33.8337   135.0775   12.08  5.2    D"
      ]
     },
     "execution_count": 49,
     "metadata": {},
     "output_type": "execute_result"
    }
   ],
   "source": [
    "# On supprime les observations in-interessantes ( qui ne sont pas les zones definies de A à G et les magn sont inferieurs 4.5)\n",
    "\n",
    "data = data[(data.mag >= 4.5) & (data.zone != 0)]\n",
    "#data = data[data.zone != 0]\n",
    "data.head()"
   ]
  },
  {
   "cell_type": "markdown",
   "id": "c2942553",
   "metadata": {},
   "source": [
    "On extrait les années et mois de la variable time pour 2 variables sur lesquels nous allons effectuer un groupby (ref Damien dt = mois)"
   ]
  },
  {
   "cell_type": "code",
   "execution_count": 50,
   "id": "03de9b6a",
   "metadata": {},
   "outputs": [],
   "source": [
    "import datetime as dt \n",
    "data['time']= pd.to_datetime(data['time'])\n",
    "#pd.DatetimeIndex(data['time']).year\n",
    "data['year']= (data['time']).apply(lambda x: x.year)\n",
    "data['month']= (data['time']).apply(lambda x: x.month)"
   ]
  },
  {
   "cell_type": "code",
   "execution_count": 51,
   "id": "dd2beafb",
   "metadata": {
    "scrolled": false
   },
   "outputs": [
    {
     "data": {
      "text/html": [
       "<div>\n",
       "<style scoped>\n",
       "    .dataframe tbody tr th:only-of-type {\n",
       "        vertical-align: middle;\n",
       "    }\n",
       "\n",
       "    .dataframe tbody tr th {\n",
       "        vertical-align: top;\n",
       "    }\n",
       "\n",
       "    .dataframe thead th {\n",
       "        text-align: right;\n",
       "    }\n",
       "</style>\n",
       "<table border=\"1\" class=\"dataframe\">\n",
       "  <thead>\n",
       "    <tr style=\"text-align: right;\">\n",
       "      <th></th>\n",
       "      <th>time</th>\n",
       "      <th>latitude</th>\n",
       "      <th>longitude</th>\n",
       "      <th>depth</th>\n",
       "      <th>mag</th>\n",
       "      <th>zone</th>\n",
       "      <th>year</th>\n",
       "      <th>month</th>\n",
       "    </tr>\n",
       "  </thead>\n",
       "  <tbody>\n",
       "    <tr>\n",
       "      <th>13</th>\n",
       "      <td>2021-12-01</td>\n",
       "      <td>36.1875</td>\n",
       "      <td>140.0911</td>\n",
       "      <td>51.68</td>\n",
       "      <td>5.0</td>\n",
       "      <td>C</td>\n",
       "      <td>2021</td>\n",
       "      <td>12</td>\n",
       "    </tr>\n",
       "    <tr>\n",
       "      <th>20</th>\n",
       "      <td>2021-12-02</td>\n",
       "      <td>37.7216</td>\n",
       "      <td>141.7845</td>\n",
       "      <td>57.22</td>\n",
       "      <td>4.8</td>\n",
       "      <td>B</td>\n",
       "      <td>2021</td>\n",
       "      <td>12</td>\n",
       "    </tr>\n",
       "    <tr>\n",
       "      <th>23</th>\n",
       "      <td>2021-12-02</td>\n",
       "      <td>35.5460</td>\n",
       "      <td>139.0340</td>\n",
       "      <td>26.64</td>\n",
       "      <td>4.5</td>\n",
       "      <td>C</td>\n",
       "      <td>2021</td>\n",
       "      <td>12</td>\n",
       "    </tr>\n",
       "    <tr>\n",
       "      <th>24</th>\n",
       "      <td>2021-12-02</td>\n",
       "      <td>45.8325</td>\n",
       "      <td>142.5511</td>\n",
       "      <td>314.40</td>\n",
       "      <td>4.6</td>\n",
       "      <td>A</td>\n",
       "      <td>2021</td>\n",
       "      <td>12</td>\n",
       "    </tr>\n",
       "    <tr>\n",
       "      <th>26</th>\n",
       "      <td>2021-12-03</td>\n",
       "      <td>33.8337</td>\n",
       "      <td>135.0775</td>\n",
       "      <td>12.08</td>\n",
       "      <td>5.2</td>\n",
       "      <td>D</td>\n",
       "      <td>2021</td>\n",
       "      <td>12</td>\n",
       "    </tr>\n",
       "  </tbody>\n",
       "</table>\n",
       "</div>"
      ],
      "text/plain": [
       "         time  latitude  longitude   depth  mag zone  year  month\n",
       "13 2021-12-01   36.1875   140.0911   51.68  5.0    C  2021     12\n",
       "20 2021-12-02   37.7216   141.7845   57.22  4.8    B  2021     12\n",
       "23 2021-12-02   35.5460   139.0340   26.64  4.5    C  2021     12\n",
       "24 2021-12-02   45.8325   142.5511  314.40  4.6    A  2021     12\n",
       "26 2021-12-03   33.8337   135.0775   12.08  5.2    D  2021     12"
      ]
     },
     "execution_count": 51,
     "metadata": {},
     "output_type": "execute_result"
    }
   ],
   "source": [
    "data.head()"
   ]
  },
  {
   "cell_type": "markdown",
   "id": "0747e76f",
   "metadata": {},
   "source": [
    "# Modélisation Intensité "
   ]
  },
  {
   "attachments": {
    "Capture%20d%E2%80%99%C3%A9cran%202022-04-19%20183119.png": {
     "image/png": "[encoded data removed]"
    }
   },
   "cell_type": "markdown",
   "id": "e0070d1a",
   "metadata": {},
   "source": [
    "**Calcul du max de mag par mois et par zone ( ref to the article of J. Shao et al. \"Catastrophe risk bonds with applications\n",
    "to earthquakes\")**\n",
    "![Capture%20d%E2%80%99%C3%A9cran%202022-04-19%20183119.png](attachment:Capture%20d%E2%80%99%C3%A9cran%202022-04-19%20183119.png)"
   ]
  },
  {
   "cell_type": "code",
   "execution_count": 52,
   "id": "85745fb3",
   "metadata": {
    "scrolled": true
   },
   "outputs": [
    {
     "data": {
      "text/html": [
       "<div>\n",
       "<style scoped>\n",
       "    .dataframe tbody tr th:only-of-type {\n",
       "        vertical-align: middle;\n",
       "    }\n",
       "\n",
       "    .dataframe tbody tr th {\n",
       "        vertical-align: top;\n",
       "    }\n",
       "\n",
       "    .dataframe thead th {\n",
       "        text-align: right;\n",
       "    }\n",
       "</style>\n",
       "<table border=\"1\" class=\"dataframe\">\n",
       "  <thead>\n",
       "    <tr style=\"text-align: right;\">\n",
       "      <th></th>\n",
       "      <th>year</th>\n",
       "      <th>month</th>\n",
       "      <th>zone</th>\n",
       "      <th>max_mag</th>\n",
       "    </tr>\n",
       "  </thead>\n",
       "  <tbody>\n",
       "    <tr>\n",
       "      <th>2874</th>\n",
       "      <td>2021</td>\n",
       "      <td>12</td>\n",
       "      <td>A</td>\n",
       "      <td>5.1</td>\n",
       "    </tr>\n",
       "    <tr>\n",
       "      <th>2875</th>\n",
       "      <td>2021</td>\n",
       "      <td>12</td>\n",
       "      <td>B</td>\n",
       "      <td>5.1</td>\n",
       "    </tr>\n",
       "    <tr>\n",
       "      <th>2876</th>\n",
       "      <td>2021</td>\n",
       "      <td>12</td>\n",
       "      <td>C</td>\n",
       "      <td>5.0</td>\n",
       "    </tr>\n",
       "    <tr>\n",
       "      <th>2877</th>\n",
       "      <td>2021</td>\n",
       "      <td>12</td>\n",
       "      <td>D</td>\n",
       "      <td>5.2</td>\n",
       "    </tr>\n",
       "    <tr>\n",
       "      <th>2878</th>\n",
       "      <td>2021</td>\n",
       "      <td>12</td>\n",
       "      <td>G</td>\n",
       "      <td>4.6</td>\n",
       "    </tr>\n",
       "  </tbody>\n",
       "</table>\n",
       "</div>"
      ],
      "text/plain": [
       "      year  month zone  max_mag\n",
       "2874  2021     12    A      5.1\n",
       "2875  2021     12    B      5.1\n",
       "2876  2021     12    C      5.0\n",
       "2877  2021     12    D      5.2\n",
       "2878  2021     12    G      4.6"
      ]
     },
     "execution_count": 52,
     "metadata": {},
     "output_type": "execute_result"
    }
   ],
   "source": [
    "temp = data.groupby(['year','month','zone'], as_index = False)\n",
    "\n",
    "df_max_per_month_per_zone = temp.mag.max()\n",
    "df_max_per_month_per_zone.rename({\"mag\":\"max_mag\"},axis=1,inplace=True)\n",
    "df_max_per_month_per_zone.tail() \n",
    "\n"
   ]
  },
  {
   "cell_type": "markdown",
   "id": "99d35442",
   "metadata": {},
   "source": [
    " max_mag correspond à la variable \n",
    "$\n",
    "M_{k}^{q}=\\max \\left\\{X_{1 k}^{q}, X_{2 k}^{q}, \\ldots, X_{o k}^{q}\\right\\}\n",
    "$\n",
    "Où $q=1,2,\\ldots,7 $ et $X_{1 k}^{q}, X_{2 k}^{q}, \\ldots, X_{o k}^{q}$ est une séquence de $o=30$ observations independentes entre le mois k et k+1."
   ]
  },
  {
   "cell_type": "code",
   "execution_count": null,
   "id": "725c9d11",
   "metadata": {},
   "outputs": [],
   "source": []
  },
  {
   "cell_type": "code",
   "execution_count": null,
   "id": "bb81a4ff",
   "metadata": {},
   "outputs": [],
   "source": []
  },
  {
   "cell_type": "markdown",
   "id": "4db49791",
   "metadata": {},
   "source": [
    "### Pour estimer les paramètres\n",
    "\n",
    "https://docs.scipy.org/doc/scipy/reference/generated/scipy.stats.genextreme.html"
   ]
  },
  {
   "cell_type": "markdown",
   "id": "3a33f4fb",
   "metadata": {},
   "source": [
    "On crée un dictionnaire dicos_zone qui regroupe les zones et observations associées"
   ]
  },
  {
   "cell_type": "code",
   "execution_count": 53,
   "id": "e51e04c5",
   "metadata": {
    "scrolled": true
   },
   "outputs": [],
   "source": [
    "dicos_zones_max_mag ={name:data for name, data in zip(zones.keys(),\n",
    "                                              [df_max_per_month_per_zone[df_max_per_month_per_zone['zone']== k] \n",
    "                                               \n",
    "                                               for k in df_max_per_month_per_zone['zone'].unique()])}"
   ]
  },
  {
   "cell_type": "code",
   "execution_count": 54,
   "id": "6a305678",
   "metadata": {},
   "outputs": [
    {
     "data": {
      "text/plain": [
       "0       6.3\n",
       "11      5.6\n",
       "14      6.8\n",
       "20      6.2\n",
       "35      6.3\n",
       "       ... \n",
       "2824    4.7\n",
       "2846    4.7\n",
       "2853    4.5\n",
       "2864    4.7\n",
       "2877    5.2\n",
       "Name: max_mag, Length: 200, dtype: float64"
      ]
     },
     "execution_count": 54,
     "metadata": {},
     "output_type": "execute_result"
    }
   ],
   "source": [
    "dicos_zones_max_mag['A']['max_mag']"
   ]
  },
  {
   "cell_type": "code",
   "execution_count": 55,
   "id": "3186b99c",
   "metadata": {},
   "outputs": [],
   "source": [
    "from scipy.stats import genextreme as gnx"
   ]
  },
  {
   "cell_type": "code",
   "execution_count": 58,
   "id": "f22616d9",
   "metadata": {},
   "outputs": [],
   "source": [
    "param = gnx.fit(dicos_zones_max_mag['A']['max_mag'])"
   ]
  },
  {
   "cell_type": "code",
   "execution_count": 59,
   "id": "8675e11b",
   "metadata": {},
   "outputs": [],
   "source": [
    "\n",
    "loc = param[-2]\n",
    "scale = param[-1]\n",
    "arg = param[:-2]\n",
    "\n",
    "y, x= np.histogram(dicos_zones_max_mag['A']['max_mag'], bins=500, density=True)\n",
    "x = (x + np.roll(x, -1))[:-1] / 2.0\n",
    "pdf = gnx.pdf(x, *arg, loc=loc, scale=scale)"
   ]
  },
  {
   "cell_type": "code",
   "execution_count": 60,
   "id": "db04237b",
   "metadata": {},
   "outputs": [
    {
     "data": {
      "text/plain": [
       "<Figure size 1200x800 with 1 Axes>"
      ]
     },
     "metadata": {},
     "output_type": "display_data"
    }
   ],
   "source": [
    "plt.figure(figsize=(12,8))\n",
    "plt.plot(x, y, label=\"Données\")\n",
    "plt.plot(x, pdf, label='gnx', linewidth=3)\n",
    "#plt.title(\"{}\".format(pd.DataFrame(data).columns))\n",
    "plt.legend(loc='upper right')\n",
    "plt.show()"
   ]
  },
  {
   "cell_type": "markdown",
   "id": "803ccc19",
   "metadata": {},
   "source": [
    "Modélisation pas bonne, la loi des valeurs extrêmes \"genextreme\" dont nous avons estimé les paramètres à partir des observations ne semble pas modéliser la base qu'on a contrairement à ce qui a été décrit dans le doc de CAT BOND PRICING.\\\n",
    "Il existe une explication à cela. En effet, D'après ce théorème :\n",
    "\n",
    "**Theorem 4 (Fisher-Tippet-Gnedenko) If there exist sequences of constants $\\left\\{a_{k}\\right.$ : $k>0\\}$ and $\\left\\{b_{k}: k>0\\right\\}$ such that**\n",
    "$$\n",
    "\\mathbb{P}\\left\\{\\frac{M_{k}^{q}-b_{k}}{a_{k}} \\leq z\\right\\} \\rightarrow G(z) \\quad \\text { as } k \\rightarrow \\infty\n",
    "$$\n",
    "C'est la variable $\\left\\{\\frac{M_{k}^{q}-b_{k}}{a_{k}} \\leq z\\right\\}$ qui suit une loi **genextreme** et non la seule variable $ \\left\\{ M_{k}^{q} \\leq z\\right\\}$. \n",
    "Donc il faudrait determiner les 2 suites $\\left\\{a_{k}\\right.$ : $k>0\\}$ and $\\left\\{b_{k}: k>0\\right\\}$ afin de transformer notre variable $M_{k}^{q}$"
   ]
  },
  {
   "cell_type": "markdown",
   "id": "8d4d06a5",
   "metadata": {},
   "source": [
    "### Calcul de $b_{n}$ et  $a_{n}$"
   ]
  },
  {
   "cell_type": "code",
   "execution_count": null,
   "id": "e91ef3f1",
   "metadata": {},
   "outputs": [],
   "source": []
  },
  {
   "cell_type": "code",
   "execution_count": null,
   "id": "f6a94b6e",
   "metadata": {},
   "outputs": [],
   "source": []
  },
  {
   "cell_type": "code",
   "execution_count": null,
   "id": "b51c16fa",
   "metadata": {},
   "outputs": [],
   "source": []
  },
  {
   "cell_type": "code",
   "execution_count": null,
   "id": "ed236fd4",
   "metadata": {},
   "outputs": [],
   "source": []
  },
  {
   "cell_type": "markdown",
   "id": "54848612",
   "metadata": {},
   "source": [
    "**On va réutiliser une fonction que j'avais fait l'ancètre code pour trouver la meilleure qui modelisation notre variable $ M_{k}^{q}$**"
   ]
  },
  {
   "cell_type": "code",
   "execution_count": 61,
   "id": "2c0f674d",
   "metadata": {},
   "outputs": [],
   "source": [
    "dist_names = ['norm', 'beta','gamma', 'pareto', 't', 'lognorm', 'invgamma', 'invgauss',  'loggamma', 'alpha', 'chi', 'chi2','genextreme']\n",
    "\n",
    "\n",
    "def estim_best_loi(data, sse_thr = 0.000005):\n",
    "    # sse_thr = seuil d'acceptation du best\n",
    "    sse = np.inf\n",
    "          \n",
    "    ### Histogramme des données\n",
    "    y, x = np.histogram(data, bins=50, density=True)\n",
    "    # Milieu de chaque classe\n",
    "    x = (x + np.roll(x, -1))[:-1] / 2.0\n",
    "\n",
    "\n",
    "    # Pour chaque distribution\n",
    "    for name in dist_names:\n",
    "\n",
    "        # Modéliser\n",
    "        dist = getattr(scipy.stats, name)\n",
    "        param = dist.fit(data)\n",
    "\n",
    "        # Paramètres\n",
    "        loc = param[-2]\n",
    "        scale = param[-1]\n",
    "        arg = param[:-2]\n",
    "\n",
    "        # PDF\n",
    "        pdf = dist.pdf(x, *arg, loc=loc, scale=scale)\n",
    "        # SSE\n",
    "        model_sse = np.sum((y - pdf)**2)\n",
    "\n",
    "        # Si le SSE est ddiminué, enregistrer la loi\n",
    "        if model_sse < sse :\n",
    "            best_pdf = pdf\n",
    "            sse = model_sse\n",
    "            best_loc = loc\n",
    "            best_scale = scale\n",
    "            best_arg = arg\n",
    "            best_name = name\n",
    "\n",
    "        # Si en dessous du seuil, quitter la boucle\n",
    "        if model_sse < sse_thr :\n",
    "            break\n",
    "            \n",
    "    ### Affichage de la meilleure loi avec paramètre associé\n",
    "    \n",
    "    plt.figure(figsize=(12,8))\n",
    "    plt.plot(x, y, label=\"Données\")\n",
    "    plt.plot(x, best_pdf, label=best_name, linewidth=3)\n",
    "    plt.title(\"{}\".format(pd.DataFrame(data).columns))\n",
    "    plt.legend(loc='upper right')\n",
    "    plt.show()\n",
    "\n",
    "    # Détails sur la loi sélectionnée\n",
    "    print(\"Selected Model : \", best_name)\n",
    "    print(\"Loc. param. : \", best_loc)\n",
    "    print(\"Scale param. : \", best_scale)\n",
    "    print(\"Other arguments : \", best_arg)\n",
    "    print(\"SSE : \", sse)\n",
    "    \n",
    "    return [best_name, best_loc, best_scale, best_arg, sse]\n"
   ]
  },
  {
   "cell_type": "code",
   "execution_count": 62,
   "id": "a7cd6061",
   "metadata": {},
   "outputs": [
    {
     "name": "stderr",
     "output_type": "stream",
     "text": [
      "C:\\Users\\khali\\anaconda3\\lib\\site-packages\\scipy\\stats\\_continuous_distns.py:639: RuntimeWarning: invalid value encountered in sqrt\n",
      "  sk = 2*(b-a)*np.sqrt(a + b + 1) / (a + b + 2) / np.sqrt(a*b)\n",
      "C:\\Users\\khali\\anaconda3\\lib\\site-packages\\scipy\\optimize\\minpack.py:175: RuntimeWarning: The iteration is not making good progress, as measured by the \n",
      "  improvement from the last ten iterations.\n",
      "  warnings.warn(msg, RuntimeWarning)\n",
      "C:\\Users\\khali\\anaconda3\\lib\\site-packages\\scipy\\stats\\_distn_infrastructure.py:2606: RuntimeWarning: invalid value encountered in double_scalars\n",
      "  Lhat = muhat - Shat*mu\n"
     ]
    },
    {
     "data": {
      "text/plain": [
       "<Figure size 1200x800 with 1 Axes>"
      ]
     },
     "metadata": {},
     "output_type": "display_data"
    },
    {
     "name": "stdout",
     "output_type": "stream",
     "text": [
      "Selected Model :  pareto\n",
      "Loc. param. :  -0.031223002619940876\n",
      "Scale param. :  4.531223002598799\n",
      "Other arguments :  (10.359695680676117,)\n",
      "SSE :  12.611890865847402\n"
     ]
    }
   ],
   "source": [
    "\n",
    "params_depth = estim_best_loi(dicos_zones_max_mag['A'].max_mag) # pour la zone A"
   ]
  },
  {
   "cell_type": "markdown",
   "id": "83928ed7",
   "metadata": {},
   "source": [
    "Sans determination de $b_{n}$ et  $a_{n}$, cad à partant juste de $ M_{k}^{q}$, alors la loi de **Pareto** semble être celle qui modélise le mieux notre distribution de $ M_{k}^{q}$"
   ]
  },
  {
   "cell_type": "code",
   "execution_count": null,
   "id": "cbafc26e",
   "metadata": {},
   "outputs": [],
   "source": []
  },
  {
   "cell_type": "markdown",
   "id": "9ecc34a5",
   "metadata": {},
   "source": [
    "\n",
    "# Modelisation fréquence"
   ]
  },
  {
   "cell_type": "code",
   "execution_count": 63,
   "id": "229a19cc",
   "metadata": {
    "scrolled": true
   },
   "outputs": [
    {
     "data": {
      "text/html": [
       "<div>\n",
       "<style scoped>\n",
       "    .dataframe tbody tr th:only-of-type {\n",
       "        vertical-align: middle;\n",
       "    }\n",
       "\n",
       "    .dataframe tbody tr th {\n",
       "        vertical-align: top;\n",
       "    }\n",
       "\n",
       "    .dataframe thead th {\n",
       "        text-align: right;\n",
       "    }\n",
       "</style>\n",
       "<table border=\"1\" class=\"dataframe\">\n",
       "  <thead>\n",
       "    <tr style=\"text-align: right;\">\n",
       "      <th></th>\n",
       "      <th>year</th>\n",
       "      <th>month</th>\n",
       "      <th>zone</th>\n",
       "      <th>nb_EQ</th>\n",
       "    </tr>\n",
       "  </thead>\n",
       "  <tbody>\n",
       "    <tr>\n",
       "      <th>2874</th>\n",
       "      <td>2021</td>\n",
       "      <td>12</td>\n",
       "      <td>A</td>\n",
       "      <td>7</td>\n",
       "    </tr>\n",
       "    <tr>\n",
       "      <th>2875</th>\n",
       "      <td>2021</td>\n",
       "      <td>12</td>\n",
       "      <td>B</td>\n",
       "      <td>5</td>\n",
       "    </tr>\n",
       "    <tr>\n",
       "      <th>2876</th>\n",
       "      <td>2021</td>\n",
       "      <td>12</td>\n",
       "      <td>C</td>\n",
       "      <td>4</td>\n",
       "    </tr>\n",
       "    <tr>\n",
       "      <th>2877</th>\n",
       "      <td>2021</td>\n",
       "      <td>12</td>\n",
       "      <td>D</td>\n",
       "      <td>1</td>\n",
       "    </tr>\n",
       "    <tr>\n",
       "      <th>2878</th>\n",
       "      <td>2021</td>\n",
       "      <td>12</td>\n",
       "      <td>G</td>\n",
       "      <td>1</td>\n",
       "    </tr>\n",
       "  </tbody>\n",
       "</table>\n",
       "</div>"
      ],
      "text/plain": [
       "      year  month zone  nb_EQ\n",
       "2874  2021     12    A      7\n",
       "2875  2021     12    B      5\n",
       "2876  2021     12    C      4\n",
       "2877  2021     12    D      1\n",
       "2878  2021     12    G      1"
      ]
     },
     "execution_count": 63,
     "metadata": {},
     "output_type": "execute_result"
    }
   ],
   "source": [
    "#seuil_sinistre = 5\n",
    "#data['claims'] = data['class']>= seuil_sinistre # on definit une variable sinistre\n",
    "#data.head()\n",
    "\n",
    "# On regroupe les observations par mois et on compte le nombre de EQ dans le mois\n",
    "temp2 = data.groupby(['year','month','zone'], as_index = False)\n",
    "df_nb_per_month_per_zone = temp2.mag.count()\n",
    "df_nb_per_month_per_zone.rename({\"mag\":\"nb_EQ\"},axis=1,inplace=True)\n",
    "df_nb_per_month_per_zone.tail() "
   ]
  },
  {
   "cell_type": "code",
   "execution_count": 64,
   "id": "635f3bf6",
   "metadata": {},
   "outputs": [],
   "source": [
    "#On divise la base en zone et on enregistre toutes ces zones dans une \n",
    "dicos_zones_nb_EQ ={name:data for name, data in zip(zones.keys(),\n",
    "                                              [df_nb_per_month_per_zone[df_nb_per_month_per_zone['zone']== k] \n",
    "                                               \n",
    "                                               for k in df_nb_per_month_per_zone['zone'].unique()])}"
   ]
  },
  {
   "cell_type": "markdown",
   "id": "b402163c",
   "metadata": {},
   "source": [
    "## Poisson"
   ]
  },
  {
   "cell_type": "code",
   "execution_count": 65,
   "id": "17c0c0b2",
   "metadata": {
    "scrolled": false
   },
   "outputs": [
    {
     "data": {
      "text/plain": [
       "<Figure size 1200x800 with 1 Axes>"
      ]
     },
     "metadata": {},
     "output_type": "display_data"
    },
    {
     "data": {
      "text/plain": [
       "<Figure size 1200x800 with 1 Axes>"
      ]
     },
     "metadata": {},
     "output_type": "display_data"
    },
    {
     "data": {
      "text/plain": [
       "<Figure size 1200x800 with 1 Axes>"
      ]
     },
     "metadata": {},
     "output_type": "display_data"
    },
    {
     "data": {
      "text/plain": [
       "<Figure size 1200x800 with 1 Axes>"
      ]
     },
     "metadata": {},
     "output_type": "display_data"
    },
    {
     "data": {
      "text/plain": [
       "<Figure size 1200x800 with 1 Axes>"
      ]
     },
     "metadata": {},
     "output_type": "display_data"
    },
    {
     "data": {
      "text/plain": [
       "<Figure size 1200x800 with 1 Axes>"
      ]
     },
     "metadata": {},
     "output_type": "display_data"
    },
    {
     "data": {
      "text/plain": [
       "<Figure size 1200x800 with 1 Axes>"
      ]
     },
     "metadata": {},
     "output_type": "display_data"
    }
   ],
   "source": [
    "\n",
    "for zone in zones.keys():   \n",
    "    mu = np.mean(dicos_zones_nb_EQ[zone].nb_EQ)\n",
    "    pmf=scipy.stats.poisson.rvs(mu=mu,size=len(dicos_zones_nb_EQ[zone].nb_EQ))\n",
    "    plt.figure(figsize=(12,8))\n",
    "    plt.bar(dicos_zones_nb_EQ[zone].year,height=dicos_zones_nb_EQ[zone].nb_EQ,label=\"Données\")\n",
    "    plt.bar(dicos_zones_nb_EQ[zone].year, pmf, label=\"Poisson\",alpha=0.5)\n",
    "    plt.legend(loc='upper right')\n",
    "    plt.title(\"Frequence zone {}\".format(zone))\n",
    "    plt.show()\n",
    "    "
   ]
  },
  {
   "cell_type": "raw",
   "id": "b60969b6",
   "metadata": {},
   "source": [
    "La modelisation statistique avec une loi poisson ne capte pas hautes fréquences associés à certaines zones et certaines periodes. Ces fréquences sont elles liées à des observations (abérrantes) ? Faut il les supprimer ou sont elles abérrantes et significative ? "
   ]
  },
  {
   "cell_type": "raw",
   "id": "6fcb53a8",
   "metadata": {},
   "source": [
    "D'autres sources d'explications seraient : \n",
    "    *la loi de poisson a la moyenne et la variance constante et égale, donc de ce fait, elle devient inadaptée à notre jeu de donnée (1).\\\n",
    "    *Le groupement par **Intervalle de temps dt = mois**  est soit trop groteste, soit trop minimaliste.\\\n",
    "    *Le paramètre mu n'est pas constant au cours du temps(3).(Introduire alors une fonction mu (variable du temps)\n"
   ]
  },
  {
   "cell_type": "markdown",
   "id": "e6ae4973",
   "metadata": {},
   "source": [
    "# "
   ]
  },
  {
   "cell_type": "raw",
   "id": "6d05c070",
   "metadata": {},
   "source": [
    "Pour palier au problème soulévé par le point 1, on fait appel à une modelisation statistique avec la loi binomiale négative. C'est une une loi de comptage qui contrairement à la loi de poisson, permet de mesurer la sur-dispersion. Elle est particulièrement utile pour des données discrètes, à valeurs dans un ensemble positif non-borné, dont la variance empirique excède la moyenne empirique. Si une Poisson est utilisée pour modéliser de telles données, la moyenne et la variance doivent être égales. Dans ce cas, les observations sont «sur-dispersées» par rapport au modèle Poisson. Puisque la loi binomiale négative possède un paramètre supplémentaire, il peut être utilisé pour ajuster la variance indépendamment de la moyenne."
   ]
  },
  {
   "cell_type": "markdown",
   "id": "d34ebaeb",
   "metadata": {},
   "source": [
    " "
   ]
  },
  {
   "cell_type": "markdown",
   "id": "a9771df5",
   "metadata": {},
   "source": [
    "## Negative binomial modelling"
   ]
  },
  {
   "cell_type": "code",
   "execution_count": 66,
   "id": "49f0b658",
   "metadata": {},
   "outputs": [],
   "source": [
    "# Si jamais une regression est envisagée dans le futur, il serait d'installer ce module qui donne plus de possibilités\n",
    "#conda install -c conda-forge statsmodels"
   ]
  },
  {
   "cell_type": "code",
   "execution_count": 67,
   "id": "63ebb8c7",
   "metadata": {},
   "outputs": [],
   "source": [
    "# pour mettre à jour le module\n",
    "\n",
    "# conda update -n base -c defaults conda\n"
   ]
  },
  {
   "cell_type": "markdown",
   "id": "9b4b6595",
   "metadata": {},
   "source": [
    "Windows 64-bit packages of scikit-learn can be accelerated using scikit-learn-intelex.\n",
    "    More details are available here: https://intel.github.io/scikit-learn-intelex\n",
    "\n",
    "    For example:\n",
    "\n",
    "        $ conda install scikit-learn-intelex\n",
    "        $ python -m sklearnex my_application.py\n",
    "\n",
    "\n",
    "done"
   ]
  },
  {
   "cell_type": "markdown",
   "id": "b83931c2",
   "metadata": {},
   "source": [
    "Site intéressant pour se documenter sur le module statsmodels\n",
    "\n",
    "https://www.statsmodels.org/dev/examples/index.html"
   ]
  },
  {
   "cell_type": "markdown",
   "id": "871fe71b",
   "metadata": {},
   "source": [
    " "
   ]
  },
  {
   "cell_type": "markdown",
   "id": "1758d894",
   "metadata": {},
   "source": [
    "### Essai de modelisation statistiques"
   ]
  },
  {
   "cell_type": "code",
   "execution_count": 70,
   "id": "26ca85a8",
   "metadata": {},
   "outputs": [],
   "source": [
    "#\"\"\"On implemente les estimateurs de maximum de Vraissemblance, ref bouquin Boussim \"\"\"\"\n",
    "#Pour la zone A par exemple\n",
    "\n",
    "zone = 'A'\n",
    "sigma = (len(dicos_zones_nb_EQ[zone].nb_EQ)/len(dicos_zones_nb_EQ[zone].nb_EQ)-1)*np.var(dicos_zones_nb_EQ[zone].nb_EQ)\n",
    "mu = np.mean(dicos_zones_nb_EQ[zone].nb_EQ)\n",
    "p = 1 - (sigma)/mu\n",
    "r = mu**2 / (sigma - mu)\n"
   ]
  }
 ],
 "metadata": {
  "kernelspec": {
   "display_name": "Python 3",
   "language": "python",
   "name": "python3"
  },
  "language_info": {
   "codemirror_mode": {
    "name": "ipython",
    "version": 3
   },
   "file_extension": ".py",
   "mimetype": "text/x-python",
   "name": "python",
   "nbconvert_exporter": "python",
   "pygments_lexer": "ipython3",
   "version": "3.8.8"
  }
 },
 "nbformat": 4,
 "nbformat_minor": 5
}
