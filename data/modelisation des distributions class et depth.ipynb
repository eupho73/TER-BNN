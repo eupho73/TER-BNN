{
 "cells": [
  {
   "cell_type": "markdown",
   "id": "cab38f7a",
   "metadata": {},
   "source": [
    "# Modelisations de la distribution des variables magnitudes (class)et profondeur (depth)"
   ]
  },
  {
   "cell_type": "markdown",
   "id": "46791d69",
   "metadata": {},
   "source": [
    "### Chargement des librairies necessaires"
   ]
  },
  {
   "cell_type": "code",
   "execution_count": 146,
   "id": "471f89da",
   "metadata": {},
   "outputs": [],
   "source": [
    "import numpy as np\n",
    "import pandas as pd\n",
    "import matplotlib.pyplot as plt\n",
    "import seaborn as sns"
   ]
  },
  {
   "cell_type": "code",
   "execution_count": 147,
   "id": "8434e1fe",
   "metadata": {
    "scrolled": true
   },
   "outputs": [
    {
     "name": "stdout",
     "output_type": "stream",
     "text": [
      "(247474, 10)\n"
     ]
    },
    {
     "data": {
      "text/html": [
       "<div>\n",
       "<style scoped>\n",
       "    .dataframe tbody tr th:only-of-type {\n",
       "        vertical-align: middle;\n",
       "    }\n",
       "\n",
       "    .dataframe tbody tr th {\n",
       "        vertical-align: top;\n",
       "    }\n",
       "\n",
       "    .dataframe thead th {\n",
       "        text-align: right;\n",
       "    }\n",
       "</style>\n",
       "<table border=\"1\" class=\"dataframe\">\n",
       "  <thead>\n",
       "    <tr style=\"text-align: right;\">\n",
       "      <th></th>\n",
       "      <th>year</th>\n",
       "      <th>month</th>\n",
       "      <th>date</th>\n",
       "      <th>hour</th>\n",
       "      <th>minute</th>\n",
       "      <th>seconds</th>\n",
       "      <th>lat</th>\n",
       "      <th>long</th>\n",
       "      <th>depth</th>\n",
       "      <th>class</th>\n",
       "    </tr>\n",
       "  </thead>\n",
       "  <tbody>\n",
       "    <tr>\n",
       "      <th>0</th>\n",
       "      <td>1990</td>\n",
       "      <td>1</td>\n",
       "      <td>1</td>\n",
       "      <td>2</td>\n",
       "      <td>19</td>\n",
       "      <td>5.018</td>\n",
       "      <td>42.2734</td>\n",
       "      <td>144.8460</td>\n",
       "      <td>8.0</td>\n",
       "      <td>2.9</td>\n",
       "    </tr>\n",
       "    <tr>\n",
       "      <th>1</th>\n",
       "      <td>1990</td>\n",
       "      <td>1</td>\n",
       "      <td>1</td>\n",
       "      <td>4</td>\n",
       "      <td>4</td>\n",
       "      <td>20.026</td>\n",
       "      <td>39.9358</td>\n",
       "      <td>142.5461</td>\n",
       "      <td>30.6</td>\n",
       "      <td>3.0</td>\n",
       "    </tr>\n",
       "    <tr>\n",
       "      <th>2</th>\n",
       "      <td>1990</td>\n",
       "      <td>1</td>\n",
       "      <td>1</td>\n",
       "      <td>7</td>\n",
       "      <td>14</td>\n",
       "      <td>11.038</td>\n",
       "      <td>36.7053</td>\n",
       "      <td>141.2990</td>\n",
       "      <td>18.6</td>\n",
       "      <td>2.7</td>\n",
       "    </tr>\n",
       "    <tr>\n",
       "      <th>3</th>\n",
       "      <td>1990</td>\n",
       "      <td>1</td>\n",
       "      <td>1</td>\n",
       "      <td>9</td>\n",
       "      <td>3</td>\n",
       "      <td>12.039</td>\n",
       "      <td>36.4859</td>\n",
       "      <td>140.6964</td>\n",
       "      <td>67.2</td>\n",
       "      <td>4.3</td>\n",
       "    </tr>\n",
       "    <tr>\n",
       "      <th>4</th>\n",
       "      <td>1990</td>\n",
       "      <td>1</td>\n",
       "      <td>1</td>\n",
       "      <td>12</td>\n",
       "      <td>31</td>\n",
       "      <td>25.018</td>\n",
       "      <td>35.0121</td>\n",
       "      <td>138.1440</td>\n",
       "      <td>22.6</td>\n",
       "      <td>2.5</td>\n",
       "    </tr>\n",
       "  </tbody>\n",
       "</table>\n",
       "</div>"
      ],
      "text/plain": [
       "   year  month  date  hour  minute  seconds      lat      long  depth  class\n",
       "0  1990      1     1     2      19    5.018  42.2734  144.8460    8.0    2.9\n",
       "1  1990      1     1     4       4   20.026  39.9358  142.5461   30.6    3.0\n",
       "2  1990      1     1     7      14   11.038  36.7053  141.2990   18.6    2.7\n",
       "3  1990      1     1     9       3   12.039  36.4859  140.6964   67.2    4.3\n",
       "4  1990      1     1    12      31   25.018  35.0121  138.1440   22.6    2.5"
      ]
     },
     "execution_count": 147,
     "metadata": {},
     "output_type": "execute_result"
    }
   ],
   "source": [
    "data = pd.read_csv('C:/Users/khali/Documents/TER-BNN/data/eq_data.csv')\n",
    "print(data.shape)\n",
    "data.head()"
   ]
  },
  {
   "cell_type": "code",
   "execution_count": 148,
   "id": "dde5c019",
   "metadata": {
    "scrolled": true
   },
   "outputs": [
    {
     "data": {
      "text/html": [
       "<div>\n",
       "<style scoped>\n",
       "    .dataframe tbody tr th:only-of-type {\n",
       "        vertical-align: middle;\n",
       "    }\n",
       "\n",
       "    .dataframe tbody tr th {\n",
       "        vertical-align: top;\n",
       "    }\n",
       "\n",
       "    .dataframe thead th {\n",
       "        text-align: right;\n",
       "    }\n",
       "</style>\n",
       "<table border=\"1\" class=\"dataframe\">\n",
       "  <thead>\n",
       "    <tr style=\"text-align: right;\">\n",
       "      <th></th>\n",
       "      <th>year</th>\n",
       "      <th>month</th>\n",
       "      <th>date</th>\n",
       "      <th>hour</th>\n",
       "      <th>minute</th>\n",
       "      <th>seconds</th>\n",
       "      <th>lat</th>\n",
       "      <th>long</th>\n",
       "      <th>depth</th>\n",
       "      <th>class</th>\n",
       "    </tr>\n",
       "  </thead>\n",
       "  <tbody>\n",
       "    <tr>\n",
       "      <th>count</th>\n",
       "      <td>247474.000000</td>\n",
       "      <td>247474.000000</td>\n",
       "      <td>247474.000000</td>\n",
       "      <td>247474.000000</td>\n",
       "      <td>247474.000000</td>\n",
       "      <td>247474.000000</td>\n",
       "      <td>247474.000000</td>\n",
       "      <td>247474.000000</td>\n",
       "      <td>247474.000000</td>\n",
       "      <td>247474.000000</td>\n",
       "    </tr>\n",
       "    <tr>\n",
       "      <th>mean</th>\n",
       "      <td>2004.278546</td>\n",
       "      <td>6.365970</td>\n",
       "      <td>15.773956</td>\n",
       "      <td>11.547152</td>\n",
       "      <td>29.452480</td>\n",
       "      <td>29.545738</td>\n",
       "      <td>37.369375</td>\n",
       "      <td>140.592969</td>\n",
       "      <td>44.580025</td>\n",
       "      <td>3.076008</td>\n",
       "    </tr>\n",
       "    <tr>\n",
       "      <th>std</th>\n",
       "      <td>7.077706</td>\n",
       "      <td>3.299538</td>\n",
       "      <td>8.732712</td>\n",
       "      <td>6.882993</td>\n",
       "      <td>17.323443</td>\n",
       "      <td>17.328707</td>\n",
       "      <td>3.211989</td>\n",
       "      <td>3.603936</td>\n",
       "      <td>64.011168</td>\n",
       "      <td>0.538819</td>\n",
       "    </tr>\n",
       "    <tr>\n",
       "      <th>min</th>\n",
       "      <td>1990.000000</td>\n",
       "      <td>1.000000</td>\n",
       "      <td>1.000000</td>\n",
       "      <td>0.000000</td>\n",
       "      <td>0.000000</td>\n",
       "      <td>0.000000</td>\n",
       "      <td>21.864700</td>\n",
       "      <td>7.987000</td>\n",
       "      <td>0.000000</td>\n",
       "      <td>2.500000</td>\n",
       "    </tr>\n",
       "    <tr>\n",
       "      <th>25%</th>\n",
       "      <td>1999.000000</td>\n",
       "      <td>3.000000</td>\n",
       "      <td>8.000000</td>\n",
       "      <td>6.000000</td>\n",
       "      <td>14.000000</td>\n",
       "      <td>14.090000</td>\n",
       "      <td>35.060000</td>\n",
       "      <td>139.260000</td>\n",
       "      <td>14.000000</td>\n",
       "      <td>2.700000</td>\n",
       "    </tr>\n",
       "    <tr>\n",
       "      <th>50%</th>\n",
       "      <td>2005.000000</td>\n",
       "      <td>6.000000</td>\n",
       "      <td>16.000000</td>\n",
       "      <td>12.000000</td>\n",
       "      <td>29.000000</td>\n",
       "      <td>30.000000</td>\n",
       "      <td>37.189600</td>\n",
       "      <td>141.330000</td>\n",
       "      <td>30.000000</td>\n",
       "      <td>2.900000</td>\n",
       "    </tr>\n",
       "    <tr>\n",
       "      <th>75%</th>\n",
       "      <td>2011.000000</td>\n",
       "      <td>9.000000</td>\n",
       "      <td>23.000000</td>\n",
       "      <td>17.000000</td>\n",
       "      <td>44.000000</td>\n",
       "      <td>45.000000</td>\n",
       "      <td>39.370000</td>\n",
       "      <td>142.529300</td>\n",
       "      <td>47.400000</td>\n",
       "      <td>3.300000</td>\n",
       "    </tr>\n",
       "    <tr>\n",
       "      <th>max</th>\n",
       "      <td>2016.000000</td>\n",
       "      <td>12.000000</td>\n",
       "      <td>31.000000</td>\n",
       "      <td>23.000000</td>\n",
       "      <td>59.000000</td>\n",
       "      <td>59.099000</td>\n",
       "      <td>77.763000</td>\n",
       "      <td>163.656000</td>\n",
       "      <td>602.500000</td>\n",
       "      <td>9.000000</td>\n",
       "    </tr>\n",
       "  </tbody>\n",
       "</table>\n",
       "</div>"
      ],
      "text/plain": [
       "                year          month           date           hour  \\\n",
       "count  247474.000000  247474.000000  247474.000000  247474.000000   \n",
       "mean     2004.278546       6.365970      15.773956      11.547152   \n",
       "std         7.077706       3.299538       8.732712       6.882993   \n",
       "min      1990.000000       1.000000       1.000000       0.000000   \n",
       "25%      1999.000000       3.000000       8.000000       6.000000   \n",
       "50%      2005.000000       6.000000      16.000000      12.000000   \n",
       "75%      2011.000000       9.000000      23.000000      17.000000   \n",
       "max      2016.000000      12.000000      31.000000      23.000000   \n",
       "\n",
       "              minute        seconds            lat           long  \\\n",
       "count  247474.000000  247474.000000  247474.000000  247474.000000   \n",
       "mean       29.452480      29.545738      37.369375     140.592969   \n",
       "std        17.323443      17.328707       3.211989       3.603936   \n",
       "min         0.000000       0.000000      21.864700       7.987000   \n",
       "25%        14.000000      14.090000      35.060000     139.260000   \n",
       "50%        29.000000      30.000000      37.189600     141.330000   \n",
       "75%        44.000000      45.000000      39.370000     142.529300   \n",
       "max        59.000000      59.099000      77.763000     163.656000   \n",
       "\n",
       "               depth          class  \n",
       "count  247474.000000  247474.000000  \n",
       "mean       44.580025       3.076008  \n",
       "std        64.011168       0.538819  \n",
       "min         0.000000       2.500000  \n",
       "25%        14.000000       2.700000  \n",
       "50%        30.000000       2.900000  \n",
       "75%        47.400000       3.300000  \n",
       "max       602.500000       9.000000  "
      ]
     },
     "execution_count": 148,
     "metadata": {},
     "output_type": "execute_result"
    }
   ],
   "source": [
    "data.describe()"
   ]
  },
  {
   "cell_type": "code",
   "execution_count": 149,
   "id": "5f1c7e95",
   "metadata": {
    "scrolled": true
   },
   "outputs": [
    {
     "data": {
      "text/html": [
       "<div>\n",
       "<style scoped>\n",
       "    .dataframe tbody tr th:only-of-type {\n",
       "        vertical-align: middle;\n",
       "    }\n",
       "\n",
       "    .dataframe tbody tr th {\n",
       "        vertical-align: top;\n",
       "    }\n",
       "\n",
       "    .dataframe thead th {\n",
       "        text-align: right;\n",
       "    }\n",
       "</style>\n",
       "<table border=\"1\" class=\"dataframe\">\n",
       "  <thead>\n",
       "    <tr style=\"text-align: right;\">\n",
       "      <th></th>\n",
       "      <th>year</th>\n",
       "      <th>month</th>\n",
       "      <th>date</th>\n",
       "      <th>hour</th>\n",
       "      <th>minute</th>\n",
       "      <th>seconds</th>\n",
       "      <th>lat</th>\n",
       "      <th>long</th>\n",
       "      <th>depth</th>\n",
       "      <th>class</th>\n",
       "    </tr>\n",
       "  </thead>\n",
       "  <tbody>\n",
       "    <tr>\n",
       "      <th>count</th>\n",
       "      <td>14510.00000</td>\n",
       "      <td>14510.000000</td>\n",
       "      <td>14510.000000</td>\n",
       "      <td>14510.000000</td>\n",
       "      <td>14510.000000</td>\n",
       "      <td>14510.000000</td>\n",
       "      <td>14510.000000</td>\n",
       "      <td>14510.000000</td>\n",
       "      <td>14510.000000</td>\n",
       "      <td>14510.000000</td>\n",
       "    </tr>\n",
       "    <tr>\n",
       "      <th>mean</th>\n",
       "      <td>2005.87071</td>\n",
       "      <td>5.968298</td>\n",
       "      <td>15.416954</td>\n",
       "      <td>11.474638</td>\n",
       "      <td>29.490972</td>\n",
       "      <td>29.446093</td>\n",
       "      <td>37.690771</td>\n",
       "      <td>141.516802</td>\n",
       "      <td>47.397760</td>\n",
       "      <td>4.552433</td>\n",
       "    </tr>\n",
       "    <tr>\n",
       "      <th>std</th>\n",
       "      <td>6.88444</td>\n",
       "      <td>3.280439</td>\n",
       "      <td>8.292059</td>\n",
       "      <td>6.859530</td>\n",
       "      <td>17.246256</td>\n",
       "      <td>17.321428</td>\n",
       "      <td>3.314929</td>\n",
       "      <td>3.581725</td>\n",
       "      <td>69.001775</td>\n",
       "      <td>0.499274</td>\n",
       "    </tr>\n",
       "    <tr>\n",
       "      <th>min</th>\n",
       "      <td>1990.00000</td>\n",
       "      <td>1.000000</td>\n",
       "      <td>1.000000</td>\n",
       "      <td>0.000000</td>\n",
       "      <td>0.000000</td>\n",
       "      <td>0.000000</td>\n",
       "      <td>23.864000</td>\n",
       "      <td>7.987000</td>\n",
       "      <td>0.000000</td>\n",
       "      <td>4.100000</td>\n",
       "    </tr>\n",
       "    <tr>\n",
       "      <th>25%</th>\n",
       "      <td>2000.00000</td>\n",
       "      <td>3.000000</td>\n",
       "      <td>9.000000</td>\n",
       "      <td>6.000000</td>\n",
       "      <td>15.000000</td>\n",
       "      <td>14.089250</td>\n",
       "      <td>35.972725</td>\n",
       "      <td>140.611075</td>\n",
       "      <td>17.200000</td>\n",
       "      <td>4.200000</td>\n",
       "    </tr>\n",
       "    <tr>\n",
       "      <th>50%</th>\n",
       "      <td>2009.00000</td>\n",
       "      <td>5.000000</td>\n",
       "      <td>15.000000</td>\n",
       "      <td>11.000000</td>\n",
       "      <td>29.000000</td>\n",
       "      <td>29.085000</td>\n",
       "      <td>37.534150</td>\n",
       "      <td>142.030850</td>\n",
       "      <td>31.100000</td>\n",
       "      <td>4.400000</td>\n",
       "    </tr>\n",
       "    <tr>\n",
       "      <th>75%</th>\n",
       "      <td>2011.00000</td>\n",
       "      <td>9.000000</td>\n",
       "      <td>22.000000</td>\n",
       "      <td>17.000000</td>\n",
       "      <td>44.000000</td>\n",
       "      <td>45.007000</td>\n",
       "      <td>39.640750</td>\n",
       "      <td>143.369900</td>\n",
       "      <td>49.500000</td>\n",
       "      <td>4.700000</td>\n",
       "    </tr>\n",
       "    <tr>\n",
       "      <th>max</th>\n",
       "      <td>2016.00000</td>\n",
       "      <td>12.000000</td>\n",
       "      <td>31.000000</td>\n",
       "      <td>23.000000</td>\n",
       "      <td>59.000000</td>\n",
       "      <td>59.099000</td>\n",
       "      <td>77.763000</td>\n",
       "      <td>151.339200</td>\n",
       "      <td>602.500000</td>\n",
       "      <td>9.000000</td>\n",
       "    </tr>\n",
       "  </tbody>\n",
       "</table>\n",
       "</div>"
      ],
      "text/plain": [
       "              year         month          date          hour        minute  \\\n",
       "count  14510.00000  14510.000000  14510.000000  14510.000000  14510.000000   \n",
       "mean    2005.87071      5.968298     15.416954     11.474638     29.490972   \n",
       "std        6.88444      3.280439      8.292059      6.859530     17.246256   \n",
       "min     1990.00000      1.000000      1.000000      0.000000      0.000000   \n",
       "25%     2000.00000      3.000000      9.000000      6.000000     15.000000   \n",
       "50%     2009.00000      5.000000     15.000000     11.000000     29.000000   \n",
       "75%     2011.00000      9.000000     22.000000     17.000000     44.000000   \n",
       "max     2016.00000     12.000000     31.000000     23.000000     59.000000   \n",
       "\n",
       "            seconds           lat          long         depth         class  \n",
       "count  14510.000000  14510.000000  14510.000000  14510.000000  14510.000000  \n",
       "mean      29.446093     37.690771    141.516802     47.397760      4.552433  \n",
       "std       17.321428      3.314929      3.581725     69.001775      0.499274  \n",
       "min        0.000000     23.864000      7.987000      0.000000      4.100000  \n",
       "25%       14.089250     35.972725    140.611075     17.200000      4.200000  \n",
       "50%       29.085000     37.534150    142.030850     31.100000      4.400000  \n",
       "75%       45.007000     39.640750    143.369900     49.500000      4.700000  \n",
       "max       59.099000     77.763000    151.339200    602.500000      9.000000  "
      ]
     },
     "execution_count": 149,
     "metadata": {},
     "output_type": "execute_result"
    }
   ],
   "source": [
    "df_cla4 = data[data['class']> 4] # on recupère que les magnitudes >=4\n",
    "df_cla4.describe()\n"
   ]
  },
  {
   "cell_type": "code",
   "execution_count": 150,
   "id": "1f770cb8",
   "metadata": {},
   "outputs": [
    {
     "name": "stdout",
     "output_type": "stream",
     "text": [
      "14510\n",
      "ratio donnée conservé : 0.9645457704647762 %\n"
     ]
    }
   ],
   "source": [
    "print(sum(df_cla4['class']>=4))\n",
    "print(\"ratio donnée conservé :\", (sum(df_cla5['class']>=5)/ data.shape[0])*100, \"%\") # On regarde la proportion de données conservées"
   ]
  },
  {
   "cell_type": "markdown",
   "id": "a2d525f5",
   "metadata": {},
   "source": [
    "### Idée de la distribution de depth et de la distribution en intensité de class"
   ]
  },
  {
   "cell_type": "code",
   "execution_count": 151,
   "id": "f4c5781b",
   "metadata": {
    "scrolled": true
   },
   "outputs": [
    {
     "name": "stderr",
     "output_type": "stream",
     "text": [
      "C:\\Users\\khali\\anaconda3\\lib\\site-packages\\seaborn\\distributions.py:2557: FutureWarning: `distplot` is a deprecated function and will be removed in a future version. Please adapt your code to use either `displot` (a figure-level function with similar flexibility) or `histplot` (an axes-level function for histograms).\n",
      "  warnings.warn(msg, FutureWarning)\n",
      "C:\\Users\\khali\\anaconda3\\lib\\site-packages\\seaborn\\distributions.py:2557: FutureWarning: `distplot` is a deprecated function and will be removed in a future version. Please adapt your code to use either `displot` (a figure-level function with similar flexibility) or `histplot` (an axes-level function for histograms).\n",
      "  warnings.warn(msg, FutureWarning)\n"
     ]
    },
    {
     "data": {
      "text/plain": [
       "[]"
      ]
     },
     "execution_count": 151,
     "metadata": {},
     "output_type": "execute_result"
    },
    {
     "data": {
      "image/png": "[encoded data removed]",
      "text/plain": [
       "<Figure size 1152x576 with 2 Axes>"
      ]
     },
     "metadata": {
      "needs_background": "light"
     },
     "output_type": "display_data"
    }
   ],
   "source": [
    "plt.figure(figsize = (16,8))\n",
    "plt.subplot(121)\n",
    "sns.distplot(df_cla4['depth'])\n",
    "plt.title(\"Profondeur\")\n",
    "plt.subplot(122)\n",
    "sns.distplot(df_cla4['class'])\n",
    "plt.title(\"Magnitude\")\n",
    "plt.plot()"
   ]
  },
  {
   "cell_type": "raw",
   "id": "c64ebce8",
   "metadata": {},
   "source": [
    "La 1ère distribution semble avoir une queue significative"
   ]
  },
  {
   "cell_type": "code",
   "execution_count": 152,
   "id": "ff631afa",
   "metadata": {},
   "outputs": [],
   "source": [
    "# librairie pour l'estimation des paramètres\n",
    "import scipy\n",
    "import scipy.stats"
   ]
  },
  {
   "cell_type": "markdown",
   "id": "a1862295",
   "metadata": {},
   "source": [
    "On va regarder parmi une liste de lois quelle loi s'y prête mieux à notre jeu de données.\n",
    "\n",
    "Pour cela on va classer les lois en comparant les residus carré entre leurs distributions et la distribution de nos données."
   ]
  },
  {
   "cell_type": "code",
   "execution_count": 153,
   "id": "efe9c33d",
   "metadata": {},
   "outputs": [
    {
     "name": "stderr",
     "output_type": "stream",
     "text": [
      "C:\\Users\\khali\\anaconda3\\lib\\site-packages\\scipy\\optimize\\minpack.py:175: RuntimeWarning: The iteration is not making good progress, as measured by the \n",
      "  improvement from the last ten iterations.\n",
      "  warnings.warn(msg, RuntimeWarning)\n"
     ]
    },
    {
     "name": "stdout",
     "output_type": "stream",
     "text": [
      "Classement des lois pour la variable depth:\n"
     ]
    },
    {
     "data": {
      "text/html": [
       "<div>\n",
       "<style scoped>\n",
       "    .dataframe tbody tr th:only-of-type {\n",
       "        vertical-align: middle;\n",
       "    }\n",
       "\n",
       "    .dataframe tbody tr th {\n",
       "        vertical-align: top;\n",
       "    }\n",
       "\n",
       "    .dataframe thead th {\n",
       "        text-align: right;\n",
       "    }\n",
       "</style>\n",
       "<table border=\"1\" class=\"dataframe\">\n",
       "  <thead>\n",
       "    <tr style=\"text-align: right;\">\n",
       "      <th></th>\n",
       "      <th>Distribution</th>\n",
       "      <th>Résidus au carré</th>\n",
       "      <th>p_value</th>\n",
       "    </tr>\n",
       "  </thead>\n",
       "  <tbody>\n",
       "    <tr>\n",
       "      <th>6</th>\n",
       "      <td>invgamma</td>\n",
       "      <td>0.002317</td>\n",
       "      <td>8.515777e-35</td>\n",
       "    </tr>\n",
       "    <tr>\n",
       "      <th>5</th>\n",
       "      <td>lognorm</td>\n",
       "      <td>0.002466</td>\n",
       "      <td>3.369712e-55</td>\n",
       "    </tr>\n",
       "    <tr>\n",
       "      <th>4</th>\n",
       "      <td>t</td>\n",
       "      <td>0.002473</td>\n",
       "      <td>5.576721e-190</td>\n",
       "    </tr>\n",
       "    <tr>\n",
       "      <th>7</th>\n",
       "      <td>invgauss</td>\n",
       "      <td>0.002667</td>\n",
       "      <td>2.912791e-104</td>\n",
       "    </tr>\n",
       "    <tr>\n",
       "      <th>11</th>\n",
       "      <td>chi2</td>\n",
       "      <td>0.003110</td>\n",
       "      <td>1.515004e-112</td>\n",
       "    </tr>\n",
       "    <tr>\n",
       "      <th>1</th>\n",
       "      <td>beta</td>\n",
       "      <td>0.003490</td>\n",
       "      <td>8.102069e-212</td>\n",
       "    </tr>\n",
       "    <tr>\n",
       "      <th>10</th>\n",
       "      <td>chi</td>\n",
       "      <td>0.004111</td>\n",
       "      <td>0.000000e+00</td>\n",
       "    </tr>\n",
       "    <tr>\n",
       "      <th>0</th>\n",
       "      <td>norm</td>\n",
       "      <td>0.006695</td>\n",
       "      <td>0.000000e+00</td>\n",
       "    </tr>\n",
       "    <tr>\n",
       "      <th>8</th>\n",
       "      <td>loggamma</td>\n",
       "      <td>0.006803</td>\n",
       "      <td>0.000000e+00</td>\n",
       "    </tr>\n",
       "    <tr>\n",
       "      <th>2</th>\n",
       "      <td>gamma</td>\n",
       "      <td>0.011252</td>\n",
       "      <td>0.000000e+00</td>\n",
       "    </tr>\n",
       "    <tr>\n",
       "      <th>3</th>\n",
       "      <td>pareto</td>\n",
       "      <td>0.020516</td>\n",
       "      <td>0.000000e+00</td>\n",
       "    </tr>\n",
       "    <tr>\n",
       "      <th>9</th>\n",
       "      <td>alpha</td>\n",
       "      <td>0.078254</td>\n",
       "      <td>0.000000e+00</td>\n",
       "    </tr>\n",
       "  </tbody>\n",
       "</table>\n",
       "</div>"
      ],
      "text/plain": [
       "   Distribution  Résidus au carré        p_value\n",
       "6      invgamma          0.002317   8.515777e-35\n",
       "5       lognorm          0.002466   3.369712e-55\n",
       "4             t          0.002473  5.576721e-190\n",
       "7      invgauss          0.002667  2.912791e-104\n",
       "11         chi2          0.003110  1.515004e-112\n",
       "1          beta          0.003490  8.102069e-212\n",
       "10          chi          0.004111   0.000000e+00\n",
       "0          norm          0.006695   0.000000e+00\n",
       "8      loggamma          0.006803   0.000000e+00\n",
       "2         gamma          0.011252   0.000000e+00\n",
       "3        pareto          0.020516   0.000000e+00\n",
       "9         alpha          0.078254   0.000000e+00"
      ]
     },
     "execution_count": 153,
     "metadata": {},
     "output_type": "execute_result"
    }
   ],
   "source": [
    "\n",
    "dist_names = ['norm', 'beta','gamma', 'pareto', 't', 'lognorm', 'invgamma', 'invgauss',  'loggamma', 'alpha', 'chi', 'chi2']\n",
    "\n",
    "#dist_names = ['t', 'invgamma', 'lognorm','alpha', 'invgauss','pareto','beta', 'loggamma']\n",
    "\n",
    "sum_square_error = []\n",
    "p_value=[]\n",
    "\n",
    "for distribution in dist_names:\n",
    "    y, x= np.histogram(df_cla4['depth'], bins=500, density=True)\n",
    "    x = (x + np.roll(x, -1))[:-1] / 2.0\n",
    "    \n",
    "######## méthode fit\n",
    "    dist = getattr(scipy.stats, distribution)\n",
    "    parameters = dist.fit(df_cla4['depth'])\n",
    "    \n",
    "######## paramètres\n",
    "    loc = parameters[-2]\n",
    "    scale = parameters[-1]\n",
    "    arg = parameters[:-2]\n",
    "    \n",
    "######## Calcul de Sum square error\n",
    "    pdf = dist.pdf(x, *arg, loc=loc, scale=scale)\n",
    "    sse = np.sum( (y - pdf)**2 )\n",
    "    sum_square_error.append(sse)\n",
    "    \n",
    "######## Calcul de p_value\n",
    "    p= scipy.stats.kstest(df_cla4['depth'], distribution, parameters)[1]\n",
    "    p_value.append(p)\n",
    "\n",
    "results = pd.DataFrame()\n",
    "results['Distribution'] = dist_names\n",
    "results['Résidus au carré'] = sum_square_error\n",
    "results['p_value'] = p_value\n",
    "results.sort_values(['Résidus au carré'], inplace=True, ascending=True)\n",
    "###### rapport\n",
    "print ('Classement des lois pour la variable depth:')\n",
    "results\n",
    "\n"
   ]
  },
  {
   "cell_type": "markdown",
   "id": "54848612",
   "metadata": {},
   "source": [
    "**Mieux, on va definir une fonction pour la suite qui nous renvoie directement la loi qui s'approche le mieux de la distribution de notre donnée ainsi que les estimations des paramètres associés**"
   ]
  },
  {
   "cell_type": "code",
   "execution_count": 154,
   "id": "2c0f674d",
   "metadata": {},
   "outputs": [],
   "source": [
    "\n",
    "def estim_best_loi(data, sse_thr = 0.01):\n",
    "    # sse_thr = seuil d'acceptation du best\n",
    "    sse = np.inf\n",
    "          \n",
    "    ### Histogramme des données\n",
    "    y, x = np.histogram(data, bins=50, density=True)\n",
    "    # Milieu de chaque classe\n",
    "    x = (x + np.roll(x, -1))[:-1] / 2.0\n",
    "\n",
    "\n",
    "    # Pour chaque distribution\n",
    "    for name in dist_names:\n",
    "\n",
    "        # Modéliser\n",
    "        dist = getattr(scipy.stats, name)\n",
    "        param = dist.fit(data)\n",
    "\n",
    "        # Paramètres\n",
    "        loc = param[-2]\n",
    "        scale = param[-1]\n",
    "        arg = param[:-2]\n",
    "\n",
    "        # PDF\n",
    "        pdf = dist.pdf(x, *arg, loc=loc, scale=scale)\n",
    "        # SSE\n",
    "        model_sse = np.sum((y - pdf)**2)\n",
    "\n",
    "        # Si le SSE est ddiminué, enregistrer la loi\n",
    "        if model_sse < sse :\n",
    "            best_pdf = pdf\n",
    "            sse = model_sse\n",
    "            best_loc = loc\n",
    "            best_scale = scale\n",
    "            best_arg = arg\n",
    "            best_name = name\n",
    "\n",
    "        # Si en dessous du seuil, quitter la boucle\n",
    "        if model_sse < sse_thr :\n",
    "            break\n",
    "            \n",
    "    ### Affichage de la meilleure loi avec paramètre associé\n",
    "    \n",
    "    plt.figure(figsize=(12,8))\n",
    "    plt.plot(x, y, label=\"Données\")\n",
    "    plt.plot(x, best_pdf, label=best_name, linewidth=3)\n",
    "    plt.title(\"{}\".format(pd.DataFrame(data).columns))\n",
    "    plt.legend(loc='upper right')\n",
    "    plt.show()\n",
    "\n",
    "    # Détails sur la loi sélectionnée\n",
    "    print(\"Selected Model : \", best_name)\n",
    "    print(\"Loc. param. : \", best_loc)\n",
    "    print(\"Scale param. : \", best_scale)\n",
    "    print(\"Other arguments : \", best_arg)\n",
    "    print(\"SSE : \", sse)\n",
    "    \n",
    "    return [best_name, best_loc, best_scale, best_arg, sse]\n"
   ]
  },
  {
   "cell_type": "code",
   "execution_count": 155,
   "id": "a7cd6061",
   "metadata": {},
   "outputs": [
    {
     "data": {
      "image/png": "[encoded data removed]",
      "text/plain": [
       "<Figure size 864x576 with 1 Axes>"
      ]
     },
     "metadata": {
      "needs_background": "light"
     },
     "output_type": "display_data"
    },
    {
     "name": "stdout",
     "output_type": "stream",
     "text": [
      "Selected Model :  norm\n",
      "Loc. param. :  47.39776016540317\n",
      "Scale param. :  68.99939762279902\n",
      "Other arguments :  ()\n",
      "SSE :  0.00049628430459111\n"
     ]
    },
    {
     "data": {
      "text/plain": [
       "['norm', 47.39776016540317, 68.99939762279902, (), 0.00049628430459111]"
      ]
     },
     "execution_count": 155,
     "metadata": {},
     "output_type": "execute_result"
    }
   ],
   "source": [
    "estim_best_loi(df_cla4.iloc[:, 8]) # pour la variable profondeur"
   ]
  },
  {
   "cell_type": "markdown",
   "id": "982f29ee",
   "metadata": {},
   "source": [
    "Cette approximation avec la loi normale n'est pas satisfaisante et semble contradictoire avec le classement obtenu précedement. On durcit le critère de selection en reduisant le seuil du sse de 0.01 à 0.000005\n"
   ]
  },
  {
   "cell_type": "code",
   "execution_count": 156,
   "id": "995c4b80",
   "metadata": {
    "scrolled": true
   },
   "outputs": [
    {
     "name": "stderr",
     "output_type": "stream",
     "text": [
      "C:\\Users\\khali\\anaconda3\\lib\\site-packages\\scipy\\optimize\\minpack.py:175: RuntimeWarning: The iteration is not making good progress, as measured by the \n",
      "  improvement from the last ten iterations.\n",
      "  warnings.warn(msg, RuntimeWarning)\n"
     ]
    },
    {
     "data": {
      "image/png": "[encoded data removed]",
      "text/plain": [
       "<Figure size 864x576 with 1 Axes>"
      ]
     },
     "metadata": {
      "needs_background": "light"
     },
     "output_type": "display_data"
    },
    {
     "name": "stdout",
     "output_type": "stream",
     "text": [
      "Selected Model :  invgamma\n",
      "Loc. param. :  -13.627608350779372\n",
      "Scale param. :  111.29837854399821\n",
      "Other arguments :  (2.8904450379525963,)\n",
      "SSE :  3.023512462549447e-05\n"
     ]
    }
   ],
   "source": [
    "params_depth = estim_best_loi(df_cla4.iloc[:, 8], 0.000005)"
   ]
  },
  {
   "cell_type": "markdown",
   "id": "a7b68452",
   "metadata": {},
   "source": [
    "L'inverse de la loi gamma inverse semble mieux être adapter à la distribution en intensité de la variable depth. Les paramètres estimés associés à cette loi sont dans la liste params_depth.\n",
    "\n"
   ]
  },
  {
   "cell_type": "code",
   "execution_count": 157,
   "id": "69ef95d6",
   "metadata": {
    "scrolled": true
   },
   "outputs": [
    {
     "name": "stderr",
     "output_type": "stream",
     "text": [
      "C:\\Users\\khali\\anaconda3\\lib\\site-packages\\scipy\\optimize\\minpack.py:175: RuntimeWarning: The iteration is not making good progress, as measured by the \n",
      "  improvement from the last ten iterations.\n",
      "  warnings.warn(msg, RuntimeWarning)\n"
     ]
    },
    {
     "data": {
      "image/png": "[encoded data removed]",
      "text/plain": [
       "<Figure size 864x576 with 1 Axes>"
      ]
     },
     "metadata": {
      "needs_background": "light"
     },
     "output_type": "display_data"
    },
    {
     "name": "stdout",
     "output_type": "stream",
     "text": [
      "Selected Model :  pareto\n",
      "Loc. param. :  0.003973512055980779\n",
      "Scale param. :  4.0960264879192305\n",
      "Other arguments :  (10.062113182724671,)\n",
      "SSE :  0.1660317646972128\n"
     ]
    }
   ],
   "source": [
    "params_class =estim_best_loi(df_cla4['class']) # pour la variable magnitude"
   ]
  },
  {
   "cell_type": "markdown",
   "id": "53577726",
   "metadata": {},
   "source": [
    "La loi de pareto remporte la course. Elle s'adapte bien à la distribution."
   ]
  },
  {
   "cell_type": "markdown",
   "id": "10c1ed87",
   "metadata": {},
   "source": [
    "## Remarques"
   ]
  },
  {
   "cell_type": "markdown",
   "id": "88f8936f",
   "metadata": {},
   "source": [
    "Ces 2 modélisations empiriques doivent être testés sur des données tests avant utilisation dans la suite de notre travail. Donc necessité de créer une base test. "
   ]
  },
  {
   "cell_type": "markdown",
   "id": "77cce442",
   "metadata": {},
   "source": [
    "Ce qui serait interessant de faire maintenant est d'estimer des lois pour ces 2 variables en fonction des zones (3 ou 4 par exemple) et verifier la stabilité de ces lois "
   ]
  },
  {
   "cell_type": "markdown",
   "id": "c79e2b5c",
   "metadata": {},
   "source": [
    "# Modelisation de la var class en fréquence"
   ]
  },
  {
   "cell_type": "code",
   "execution_count": 158,
   "id": "396318f3",
   "metadata": {
    "scrolled": true
   },
   "outputs": [],
   "source": [
    "## ?? besoin de determiner avant le regroupement (par année, mois ou semaine)"
   ]
  },
  {
   "cell_type": "code",
   "execution_count": null,
   "id": "eb60a324",
   "metadata": {},
   "outputs": [],
   "source": []
  }
 ],
 "metadata": {
  "kernelspec": {
   "display_name": "Python 3",
   "language": "python",
   "name": "python3"
  },
  "language_info": {
   "codemirror_mode": {
    "name": "ipython",
    "version": 3
   },
   "file_extension": ".py",
   "mimetype": "text/x-python",
   "name": "python",
   "nbconvert_exporter": "python",
   "pygments_lexer": "ipython3",
   "version": "3.8.8"
  }
 },
 "nbformat": 4,
 "nbformat_minor": 5
}
