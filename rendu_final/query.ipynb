{
 "cells": [
  {
   "cell_type": "code",
   "execution_count": 8,
   "metadata": {},
   "outputs": [],
   "source": [
    "minlat, maxlat, minlong, maxlong = 30, 46, 129, 149\n",
    "months = [\"01\", \"02\", \"03\", \"04\", \"05\", \"06\", \"07\", \"08\", \"09\", \"10\", \"11\", \"12\"]\n",
    "min_mag = 2.5\n",
    "METHOD = \"query\""
   ]
  },
  {
   "cell_type": "code",
   "execution_count": 2,
   "metadata": {},
   "outputs": [],
   "source": [
    "import pandas as pd\n",
    "import requests\n",
    "import io"
   ]
  },
  {
   "cell_type": "code",
   "execution_count": 15,
   "metadata": {},
   "outputs": [],
   "source": [
    "def query_data():\n",
    "    df = pd.DataFrame({\"time\": [], \"latitude\": [], \"longitude\": [], \"depth\": [], \"mag\": []})\n",
    "    for y in range(1960, 2022):\n",
    "        y = str(y)\n",
    "        for m in range(len(months)):\n",
    "            if months[m] == '12':\n",
    "                start_time = f\"{y}-{months[m]}-01\"\n",
    "                end_time = f\"{int(y) + 1}-01-01\"\n",
    "                PARAMETERS = f\"format=csv&starttime={start_time}&endtime={end_time}&minlatitude={minlat}&maxlatitude={maxlat}&minlongitude={minlong}&maxlongitude={maxlong}&minmagnitude={min_mag}&orderby=time-asc\"\n",
    "                url = f\"https://earthquake.usgs.gov/fdsnws/event/1/{METHOD}?{PARAMETERS}\"\n",
    "                r = requests.get(url).content\n",
    "                data = pd.read_csv(io.StringIO(r.decode('utf-8')))\n",
    "                #temp = df\n",
    "                df = pd.concat([data.iloc[:, :5], df], ignore_index=True)  # On a seulement besoin des 5 premières colonnes que l'on ajoute à notre df\n",
    "\n",
    "            else:\n",
    "                start_time = f\"{y}-{months[m]}-01\"\n",
    "                end_time = f\"{y}-{months[m + 1]}-01\"\n",
    "                PARAMETERS = f\"format=csv&starttime={start_time}&endtime={end_time}&minlatitude={minlat}&maxlatitude={maxlat}&minlongitude={minlong}&maxlongitude={maxlong}&minmagnitude={min_mag}&orderby=time-asc\"\n",
    "                url = f\"https://earthquake.usgs.gov/fdsnws/event/1/{METHOD}?{PARAMETERS}\"\n",
    "                r = requests.get(url).content\n",
    "                data = pd.read_csv(io.StringIO(r.decode('utf-8')))\n",
    "                #temp = df\n",
    "                df = pd.concat([data.iloc[:, :5], df], ignore_index=True)  # On a seulement besoin des 5 premières colonnes que l'on ajoute à notre df\n",
    "    return df"
   ]
  },
  {
   "cell_type": "code",
   "execution_count": 16,
   "metadata": {},
   "outputs": [],
   "source": [
    "df = query_data()"
   ]
  },
  {
   "cell_type": "code",
   "execution_count": 14,
   "metadata": {},
   "outputs": [
    {
     "data": {
      "text/plain": [
       "'3.5 '"
      ]
     },
     "execution_count": 14,
     "metadata": {},
     "output_type": "execute_result"
    }
   ],
   "source": [
    "f\"{min_mag + 1}\""
   ]
  },
  {
   "cell_type": "code",
   "execution_count": 20,
   "metadata": {},
   "outputs": [
    {
     "data": {
      "text/plain": [
       "0        2021-12-01T04:09:14.807Z\n",
       "1        2021-12-01T04:49:28.304Z\n",
       "2        2021-12-01T04:56:33.657Z\n",
       "3        2021-12-01T05:08:33.848Z\n",
       "4        2021-12-01T06:04:53.753Z\n",
       "                   ...           \n",
       "34059    1960-03-23T10:28:54.000Z\n",
       "34060    1960-03-23T11:51:02.000Z\n",
       "34061    1960-03-23T22:22:40.000Z\n",
       "34062    1960-02-04T16:50:32.000Z\n",
       "34063    1960-01-31T05:08:21.000Z\n",
       "Name: time, Length: 34064, dtype: object"
      ]
     },
     "execution_count": 20,
     "metadata": {},
     "output_type": "execute_result"
    }
   ],
   "source": [
    "df.time"
   ]
  },
  {
   "cell_type": "code",
   "execution_count": 21,
   "metadata": {},
   "outputs": [],
   "source": [
    "df.to_csv(\"DATA.csv\")"
   ]
  },
  {
   "cell_type": "code",
   "execution_count": null,
   "metadata": {},
   "outputs": [],
   "source": []
  }
 ],
 "metadata": {
  "interpreter": {
   "hash": "fe06f96167c4fc64a78c238d993189072a4e72b444216e36203d6f96126eaf0a"
  },
  "kernelspec": {
   "display_name": "Python 3.9.7 64-bit",
   "language": "python",
   "name": "python3"
  },
  "language_info": {
   "codemirror_mode": {
    "name": "ipython",
    "version": 3
   },
   "file_extension": ".py",
   "mimetype": "text/x-python",
   "name": "python",
   "nbconvert_exporter": "python",
   "pygments_lexer": "ipython3",
   "version": "3.9.7"
  },
  "orig_nbformat": 4
 },
 "nbformat": 4,
 "nbformat_minor": 2
}
