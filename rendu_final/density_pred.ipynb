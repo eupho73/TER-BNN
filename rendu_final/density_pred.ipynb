{
 "cells": [
  {
   "cell_type": "code",
   "execution_count": 1,
   "metadata": {},
   "outputs": [],
   "source": [
    "import pandas as pd\n",
    "import numpy as np\n",
    "import matplotlib.pyplot as plt\n",
    "import seaborn as sns"
   ]
  },
  {
   "cell_type": "code",
   "execution_count": 64,
   "metadata": {},
   "outputs": [
    {
     "data": {
      "text/html": [
       "<div>\n",
       "<style scoped>\n",
       "    .dataframe tbody tr th:only-of-type {\n",
       "        vertical-align: middle;\n",
       "    }\n",
       "\n",
       "    .dataframe tbody tr th {\n",
       "        vertical-align: top;\n",
       "    }\n",
       "\n",
       "    .dataframe thead th {\n",
       "        text-align: right;\n",
       "    }\n",
       "</style>\n",
       "<table border=\"1\" class=\"dataframe\">\n",
       "  <thead>\n",
       "    <tr style=\"text-align: right;\">\n",
       "      <th></th>\n",
       "      <th>time</th>\n",
       "      <th>A</th>\n",
       "      <th>B</th>\n",
       "      <th>C</th>\n",
       "      <th>D</th>\n",
       "      <th>E</th>\n",
       "      <th>F</th>\n",
       "      <th>G</th>\n",
       "    </tr>\n",
       "  </thead>\n",
       "  <tbody>\n",
       "    <tr>\n",
       "      <th>0</th>\n",
       "      <td>1960-01-01</td>\n",
       "      <td>0.0</td>\n",
       "      <td>0.0</td>\n",
       "      <td>0.0</td>\n",
       "      <td>6.3</td>\n",
       "      <td>0.0</td>\n",
       "      <td>0.0</td>\n",
       "      <td>0.0</td>\n",
       "    </tr>\n",
       "    <tr>\n",
       "      <th>1</th>\n",
       "      <td>1960-02-01</td>\n",
       "      <td>0.0</td>\n",
       "      <td>0.0</td>\n",
       "      <td>0.0</td>\n",
       "      <td>0.0</td>\n",
       "      <td>0.0</td>\n",
       "      <td>6.1</td>\n",
       "      <td>0.0</td>\n",
       "    </tr>\n",
       "    <tr>\n",
       "      <th>2</th>\n",
       "      <td>1960-03-01</td>\n",
       "      <td>0.0</td>\n",
       "      <td>0.0</td>\n",
       "      <td>0.0</td>\n",
       "      <td>0.0</td>\n",
       "      <td>0.0</td>\n",
       "      <td>8.0</td>\n",
       "      <td>0.0</td>\n",
       "    </tr>\n",
       "    <tr>\n",
       "      <th>3</th>\n",
       "      <td>1960-04-01</td>\n",
       "      <td>0.0</td>\n",
       "      <td>0.0</td>\n",
       "      <td>0.0</td>\n",
       "      <td>0.0</td>\n",
       "      <td>0.0</td>\n",
       "      <td>0.0</td>\n",
       "      <td>0.0</td>\n",
       "    </tr>\n",
       "    <tr>\n",
       "      <th>4</th>\n",
       "      <td>1960-05-01</td>\n",
       "      <td>0.0</td>\n",
       "      <td>0.0</td>\n",
       "      <td>0.0</td>\n",
       "      <td>0.0</td>\n",
       "      <td>0.0</td>\n",
       "      <td>0.0</td>\n",
       "      <td>0.0</td>\n",
       "    </tr>\n",
       "  </tbody>\n",
       "</table>\n",
       "</div>"
      ],
      "text/plain": [
       "         time    A    B    C    D    E    F    G\n",
       "0  1960-01-01  0.0  0.0  0.0  6.3  0.0  0.0  0.0\n",
       "1  1960-02-01  0.0  0.0  0.0  0.0  0.0  6.1  0.0\n",
       "2  1960-03-01  0.0  0.0  0.0  0.0  0.0  8.0  0.0\n",
       "3  1960-04-01  0.0  0.0  0.0  0.0  0.0  0.0  0.0\n",
       "4  1960-05-01  0.0  0.0  0.0  0.0  0.0  0.0  0.0"
      ]
     },
     "execution_count": 64,
     "metadata": {},
     "output_type": "execute_result"
    }
   ],
   "source": [
    "data = pd.read_csv(\"nn/max_mag_by_month.csv\")\n",
    "data.head()"
   ]
  },
  {
   "cell_type": "code",
   "execution_count": 3,
   "metadata": {},
   "outputs": [],
   "source": [
    "dataA = data.A[data.A > 4]"
   ]
  },
  {
   "cell_type": "code",
   "execution_count": 4,
   "metadata": {},
   "outputs": [
    {
     "data": {
      "text/plain": [
       "(array([  4.,   5.,  43.,  35.,  49., 122.,  49.,  51.,  79.,  29.,  31.,\n",
       "         28.,  16.,  12.,  30.,   5.,   9.,   4.,   1.,   9.,   1.,   2.,\n",
       "          3.,   0.,   0.,   1.,   1.,   0.,   1.,   1.]),\n",
       " array([4.1       , 4.23533333, 4.37066667, 4.506     , 4.64133333,\n",
       "        4.77666667, 4.912     , 5.04733333, 5.18266667, 5.318     ,\n",
       "        5.45333333, 5.58866667, 5.724     , 5.85933333, 5.99466667,\n",
       "        6.13      , 6.26533333, 6.40066667, 6.536     , 6.67133333,\n",
       "        6.80666667, 6.942     , 7.07733333, 7.21266667, 7.348     ,\n",
       "        7.48333333, 7.61866667, 7.754     , 7.88933333, 8.02466667,\n",
       "        8.16      ]),\n",
       " <BarContainer object of 30 artists>)"
      ]
     },
     "execution_count": 4,
     "metadata": {},
     "output_type": "execute_result"
    },
    {
     "data": {
      "image/png": "[encoded data removed]",
      "text/plain": [
       "<Figure size 432x288 with 1 Axes>"
      ]
     },
     "metadata": {
      "needs_background": "light"
     },
     "output_type": "display_data"
    }
   ],
   "source": [
    "plt.hist(dataA, bins=30)"
   ]
  },
  {
   "cell_type": "code",
   "execution_count": 5,
   "metadata": {},
   "outputs": [],
   "source": [
    "dataA_scaled = (dataA - 4) / dataA.std()   # b_k = 4 et a_k = std"
   ]
  },
  {
   "cell_type": "code",
   "execution_count": 6,
   "metadata": {},
   "outputs": [
    {
     "data": {
      "text/plain": [
       "<AxesSubplot:xlabel='A', ylabel='Density'>"
      ]
     },
     "execution_count": 6,
     "metadata": {},
     "output_type": "execute_result"
    },
    {
     "data": {
      "image/png": "[encoded data removed]",
      "text/plain": [
       "<Figure size 432x288 with 1 Axes>"
      ]
     },
     "metadata": {
      "needs_background": "light"
     },
     "output_type": "display_data"
    }
   ],
   "source": [
    "sns.kdeplot(dataA_scaled)"
   ]
  },
  {
   "cell_type": "code",
   "execution_count": 7,
   "metadata": {},
   "outputs": [],
   "source": [
    "from scipy.stats import genextreme as gnx"
   ]
  },
  {
   "cell_type": "code",
   "execution_count": 8,
   "metadata": {},
   "outputs": [],
   "source": [
    "param = gnx.fit(dataA_scaled)"
   ]
  },
  {
   "cell_type": "code",
   "execution_count": 9,
   "metadata": {},
   "outputs": [
    {
     "data": {
      "text/plain": [
       "<matplotlib.legend.Legend at 0x24f37172460>"
      ]
     },
     "execution_count": 9,
     "metadata": {},
     "output_type": "execute_result"
    },
    {
     "data": {
      "image/png": "[encoded data removed]",
      "text/plain": [
       "<Figure size 432x288 with 1 Axes>"
      ]
     },
     "metadata": {
      "needs_background": "light"
     },
     "output_type": "display_data"
    }
   ],
   "source": [
    "c, loc, scale = param\n",
    "x = np.linspace(-.2, 8, 200)\n",
    "\n",
    "sns.kdeplot(dataA_scaled, label='Density of scaled data for region A')\n",
    "plt.plot(x, gnx.pdf(x, *param), color='red', label='genextreme pdf')\n",
    "plt.legend()"
   ]
  },
  {
   "cell_type": "markdown",
   "metadata": {},
   "source": [
    "Let's simulate multiple trajectories"
   ]
  },
  {
   "cell_type": "code",
   "execution_count": 20,
   "metadata": {},
   "outputs": [],
   "source": [
    "dataA.index = data[data.A > 4]['time']"
   ]
  },
  {
   "cell_type": "code",
   "execution_count": 21,
   "metadata": {},
   "outputs": [
    {
     "data": {
      "text/plain": [
       "time\n",
       "1960-06-01    5.6\n",
       "1961-08-01    7.1\n",
       "1961-11-01    6.5\n",
       "1962-01-01    6.0\n",
       "1962-02-01    6.1\n",
       "             ... \n",
       "2021-08-01    4.5\n",
       "2021-09-01    4.7\n",
       "2021-10-01    5.3\n",
       "2021-11-01    4.6\n",
       "2021-12-01    5.1\n",
       "Name: A, Length: 621, dtype: float64"
      ]
     },
     "execution_count": 21,
     "metadata": {},
     "output_type": "execute_result"
    }
   ],
   "source": [
    "dataA"
   ]
  },
  {
   "cell_type": "code",
   "execution_count": 22,
   "metadata": {},
   "outputs": [],
   "source": [
    "r = gnx.rvs(c, size=10)"
   ]
  },
  {
   "cell_type": "code",
   "execution_count": 24,
   "metadata": {},
   "outputs": [
    {
     "data": {
      "text/plain": [
       "array([4.63785319, 4.69415445, 4.45396992, 3.88953872, 7.53695598,\n",
       "       6.4634174 , 7.02924391, 4.47837747, 4.37343545, 4.71712907])"
      ]
     },
     "execution_count": 24,
     "metadata": {},
     "output_type": "execute_result"
    }
   ],
   "source": [
    "r*dataA.std() + 4  # inverse transform (scaling)"
   ]
  },
  {
   "cell_type": "code",
   "execution_count": 34,
   "metadata": {},
   "outputs": [],
   "source": [
    "n_sample = 100"
   ]
  },
  {
   "cell_type": "code",
   "execution_count": 39,
   "metadata": {},
   "outputs": [],
   "source": [
    "S = np.zeros((240, n_sample))  # 100 trajectoires sur les 20 dernières années "
   ]
  },
  {
   "cell_type": "code",
   "execution_count": 40,
   "metadata": {},
   "outputs": [],
   "source": [
    "for i in range(n_sample):\n",
    "    r = gnx.rvs(c, size=240)\n",
    "    S[:,i] = r*dataA.std() + 4"
   ]
  },
  {
   "cell_type": "code",
   "execution_count": 71,
   "metadata": {},
   "outputs": [],
   "source": [
    "mean = S.mean(axis=1)\n",
    "sd = S.std(axis=1)\n",
    "lb68 = mean - sd/np.sqrt(n_sample)\n",
    "ub68 = mean + sd/np.sqrt(n_sample)\n",
    "lb95 = mean - 2*sd/np.sqrt(n_sample)\n",
    "ub95 = mean + 2*sd/np.sqrt(n_sample)\n",
    "traj = S[:, 4]\n",
    "max_pred = S.max(axis=1)"
   ]
  },
  {
   "cell_type": "code",
   "execution_count": 73,
   "metadata": {},
   "outputs": [],
   "source": [
    "dataplot = pd.DataFrame({\"Ground Truth\": data.iloc[-240:,1], \"mean\": mean, \"lower_bound_68%\": lb68, \"upper_bound_68%\": ub68, \"lower_bound_95%\": lb95, \"upper_bound_95%\": ub95, \"Prediction\": traj, \"Max_pred\": max_pred})"
   ]
  },
  {
   "cell_type": "code",
   "execution_count": 54,
   "metadata": {},
   "outputs": [],
   "source": [
    "ix= pd.to_datetime(data.time)"
   ]
  },
  {
   "cell_type": "code",
   "execution_count": 74,
   "metadata": {},
   "outputs": [],
   "source": [
    "dataplot.index = ix[-240:]"
   ]
  },
  {
   "cell_type": "code",
   "execution_count": 75,
   "metadata": {},
   "outputs": [
    {
     "data": {
      "text/html": [
       "<div>\n",
       "<style scoped>\n",
       "    .dataframe tbody tr th:only-of-type {\n",
       "        vertical-align: middle;\n",
       "    }\n",
       "\n",
       "    .dataframe tbody tr th {\n",
       "        vertical-align: top;\n",
       "    }\n",
       "\n",
       "    .dataframe thead th {\n",
       "        text-align: right;\n",
       "    }\n",
       "</style>\n",
       "<table border=\"1\" class=\"dataframe\">\n",
       "  <thead>\n",
       "    <tr style=\"text-align: right;\">\n",
       "      <th></th>\n",
       "      <th>Ground Truth</th>\n",
       "      <th>mean</th>\n",
       "      <th>lower_bound_68%</th>\n",
       "      <th>upper_bound_68%</th>\n",
       "      <th>lower_bound_95%</th>\n",
       "      <th>upper_bound_95%</th>\n",
       "      <th>Prediction</th>\n",
       "      <th>Max_pred</th>\n",
       "    </tr>\n",
       "    <tr>\n",
       "      <th>time</th>\n",
       "      <th></th>\n",
       "      <th></th>\n",
       "      <th></th>\n",
       "      <th></th>\n",
       "      <th></th>\n",
       "      <th></th>\n",
       "      <th></th>\n",
       "      <th></th>\n",
       "    </tr>\n",
       "  </thead>\n",
       "  <tbody>\n",
       "    <tr>\n",
       "      <th>2002-01-01</th>\n",
       "      <td>4.7</td>\n",
       "      <td>4.343003</td>\n",
       "      <td>4.277067</td>\n",
       "      <td>4.408938</td>\n",
       "      <td>4.211131</td>\n",
       "      <td>4.474874</td>\n",
       "      <td>5.767916</td>\n",
       "      <td>6.110081</td>\n",
       "    </tr>\n",
       "    <tr>\n",
       "      <th>2002-02-01</th>\n",
       "      <td>5.5</td>\n",
       "      <td>4.349602</td>\n",
       "      <td>4.280903</td>\n",
       "      <td>4.418302</td>\n",
       "      <td>4.212203</td>\n",
       "      <td>4.487001</td>\n",
       "      <td>4.866252</td>\n",
       "      <td>6.894502</td>\n",
       "    </tr>\n",
       "    <tr>\n",
       "      <th>2002-03-01</th>\n",
       "      <td>4.7</td>\n",
       "      <td>4.399923</td>\n",
       "      <td>4.313270</td>\n",
       "      <td>4.486576</td>\n",
       "      <td>4.226616</td>\n",
       "      <td>4.573229</td>\n",
       "      <td>4.251136</td>\n",
       "      <td>8.211908</td>\n",
       "    </tr>\n",
       "    <tr>\n",
       "      <th>2002-04-01</th>\n",
       "      <td>5.7</td>\n",
       "      <td>4.265314</td>\n",
       "      <td>4.193551</td>\n",
       "      <td>4.337076</td>\n",
       "      <td>4.121789</td>\n",
       "      <td>4.408839</td>\n",
       "      <td>4.260933</td>\n",
       "      <td>6.723024</td>\n",
       "    </tr>\n",
       "    <tr>\n",
       "      <th>2002-05-01</th>\n",
       "      <td>5.1</td>\n",
       "      <td>4.238585</td>\n",
       "      <td>4.179348</td>\n",
       "      <td>4.297822</td>\n",
       "      <td>4.120112</td>\n",
       "      <td>4.357059</td>\n",
       "      <td>4.327210</td>\n",
       "      <td>7.270817</td>\n",
       "    </tr>\n",
       "  </tbody>\n",
       "</table>\n",
       "</div>"
      ],
      "text/plain": [
       "            Ground Truth      mean  lower_bound_68%  upper_bound_68%  \\\n",
       "time                                                                   \n",
       "2002-01-01           4.7  4.343003         4.277067         4.408938   \n",
       "2002-02-01           5.5  4.349602         4.280903         4.418302   \n",
       "2002-03-01           4.7  4.399923         4.313270         4.486576   \n",
       "2002-04-01           5.7  4.265314         4.193551         4.337076   \n",
       "2002-05-01           5.1  4.238585         4.179348         4.297822   \n",
       "\n",
       "            lower_bound_95%  upper_bound_95%  Prediction  Max_pred  \n",
       "time                                                                \n",
       "2002-01-01         4.211131         4.474874    5.767916  6.110081  \n",
       "2002-02-01         4.212203         4.487001    4.866252  6.894502  \n",
       "2002-03-01         4.226616         4.573229    4.251136  8.211908  \n",
       "2002-04-01         4.121789         4.408839    4.260933  6.723024  \n",
       "2002-05-01         4.120112         4.357059    4.327210  7.270817  "
      ]
     },
     "execution_count": 75,
     "metadata": {},
     "output_type": "execute_result"
    }
   ],
   "source": [
    "dataplot.head()"
   ]
  },
  {
   "cell_type": "code",
   "execution_count": null,
   "metadata": {},
   "outputs": [],
   "source": []
  },
  {
   "cell_type": "code",
   "execution_count": 88,
   "metadata": {},
   "outputs": [
    {
     "data": {
      "application/vnd.plotly.v1+json": {
       "config": {
        "plotlyServerURL": "https://plot.ly"
       },
       "data": [
        {
         "mode": "lines",
         "name": "68% Upper Confidence Bound",
         "type": "scatter",
         "x": [
          "2002-01-01T00:00:00",
          "2002-02-01T00:00:00",
          "2002-03-01T00:00:00",
          "2002-04-01T00:00:00",
          "2002-05-01T00:00:00",
          "2002-06-01T00:00:00",
          "2002-07-01T00:00:00",
          "2002-08-01T00:00:00",
          "2002-09-01T00:00:00",
          "2002-10-01T00:00:00",
          "2002-11-01T00:00:00",
          "2002-12-01T00:00:00",
          "2003-01-01T00:00:00",
          "2003-02-01T00:00:00",
          "2003-03-01T00:00:00",
          "2003-04-01T00:00:00",
          "2003-05-01T00:00:00",
          "2003-06-01T00:00:00",
          "2003-07-01T00:00:00",
          "2003-08-01T00:00:00",
          "2003-09-01T00:00:00",
          "2003-10-01T00:00:00",
          "2003-11-01T00:00:00",
          "2003-12-01T00:00:00",
          "2004-01-01T00:00:00",
          "2004-02-01T00:00:00",
          "2004-03-01T00:00:00",
          "2004-04-01T00:00:00",
          "2004-05-01T00:00:00",
          "2004-06-01T00:00:00",
          "2004-07-01T00:00:00",
          "2004-08-01T00:00:00",
          "2004-09-01T00:00:00",
          "2004-10-01T00:00:00",
          "2004-11-01T00:00:00",
          "2004-12-01T00:00:00",
          "2005-01-01T00:00:00",
          "2005-02-01T00:00:00",
          "2005-03-01T00:00:00",
          "2005-04-01T00:00:00",
          "2005-05-01T00:00:00",
          "2005-06-01T00:00:00",
          "2005-07-01T00:00:00",
          "2005-08-01T00:00:00",
          "2005-09-01T00:00:00",
          "2005-10-01T00:00:00",
          "2005-11-01T00:00:00",
          "2005-12-01T00:00:00",
          "2006-01-01T00:00:00",
          "2006-02-01T00:00:00",
          "2006-03-01T00:00:00",
          "2006-04-01T00:00:00",
          "2006-05-01T00:00:00",
          "2006-06-01T00:00:00",
          "2006-07-01T00:00:00",
          "2006-08-01T00:00:00",
          "2006-09-01T00:00:00",
          "2006-10-01T00:00:00",
          "2006-11-01T00:00:00",
          "2006-12-01T00:00:00",
          "2007-01-01T00:00:00",
          "2007-02-01T00:00:00",
          "2007-03-01T00:00:00",
          "2007-04-01T00:00:00",
          "2007-05-01T00:00:00",
          "2007-06-01T00:00:00",
          "2007-07-01T00:00:00",
          "2007-08-01T00:00:00",
          "2007-09-01T00:00:00",
          "2007-10-01T00:00:00",
          "2007-11-01T00:00:00",
          "2007-12-01T00:00:00",
          "2008-01-01T00:00:00",
          "2008-02-01T00:00:00",
          "2008-03-01T00:00:00",
          "2008-04-01T00:00:00",
          "2008-05-01T00:00:00",
          "2008-06-01T00:00:00",
          "2008-07-01T00:00:00",
          "2008-08-01T00:00:00",
          "2008-09-01T00:00:00",
          "2008-10-01T00:00:00",
          "2008-11-01T00:00:00",
          "2008-12-01T00:00:00",
          "2009-01-01T00:00:00",
          "2009-02-01T00:00:00",
          "2009-03-01T00:00:00",
          "2009-04-01T00:00:00",
          "2009-05-01T00:00:00",
          "2009-06-01T00:00:00",
          "2009-07-01T00:00:00",
          "2009-08-01T00:00:00",
          "2009-09-01T00:00:00",
          "2009-10-01T00:00:00",
          "2009-11-01T00:00:00",
          "2009-12-01T00:00:00",
          "2010-01-01T00:00:00",
          "2010-02-01T00:00:00",
          "2010-03-01T00:00:00",
          "2010-04-01T00:00:00",
          "2010-05-01T00:00:00",
          "2010-06-01T00:00:00",
          "2010-07-01T00:00:00",
          "2010-08-01T00:00:00",
          "2010-09-01T00:00:00",
          "2010-10-01T00:00:00",
          "2010-11-01T00:00:00",
          "2010-12-01T00:00:00",
          "2011-01-01T00:00:00",
          "2011-02-01T00:00:00",
          "2011-03-01T00:00:00",
          "2011-04-01T00:00:00",
          "2011-05-01T00:00:00",
          "2011-06-01T00:00:00",
          "2011-07-01T00:00:00",
          "2011-08-01T00:00:00",
          "2011-09-01T00:00:00",
          "2011-10-01T00:00:00",
          "2011-11-01T00:00:00",
          "2011-12-01T00:00:00",
          "2012-01-01T00:00:00",
          "2012-02-01T00:00:00",
          "2012-03-01T00:00:00",
          "2012-04-01T00:00:00",
          "2012-05-01T00:00:00",
          "2012-06-01T00:00:00",
          "2012-07-01T00:00:00",
          "2012-08-01T00:00:00",
          "2012-09-01T00:00:00",
          "2012-10-01T00:00:00",
          "2012-11-01T00:00:00",
          "2012-12-01T00:00:00",
          "2013-01-01T00:00:00",
          "2013-02-01T00:00:00",
          "2013-03-01T00:00:00",
          "2013-04-01T00:00:00",
          "2013-05-01T00:00:00",
          "2013-06-01T00:00:00",
          "2013-07-01T00:00:00",
          "2013-08-01T00:00:00",
          "2013-09-01T00:00:00",
          "2013-10-01T00:00:00",
          "2013-11-01T00:00:00",
          "2013-12-01T00:00:00",
          "2014-01-01T00:00:00",
          "2014-02-01T00:00:00",
          "2014-03-01T00:00:00",
          "2014-04-01T00:00:00",
          "2014-05-01T00:00:00",
          "2014-06-01T00:00:00",
          "2014-07-01T00:00:00",
          "2014-08-01T00:00:00",
          "2014-09-01T00:00:00",
          "2014-10-01T00:00:00",
          "2014-11-01T00:00:00",
          "2014-12-01T00:00:00",
          "2015-01-01T00:00:00",
          "2015-02-01T00:00:00",
          "2015-03-01T00:00:00",
          "2015-04-01T00:00:00",
          "2015-05-01T00:00:00",
          "2015-06-01T00:00:00",
          "2015-07-01T00:00:00",
          "2015-08-01T00:00:00",
          "2015-09-01T00:00:00",
          "2015-10-01T00:00:00",
          "2015-11-01T00:00:00",
          "2015-12-01T00:00:00",
          "2016-01-01T00:00:00",
          "2016-02-01T00:00:00",
          "2016-03-01T00:00:00",
          "2016-04-01T00:00:00",
          "2016-05-01T00:00:00",
          "2016-06-01T00:00:00",
          "2016-07-01T00:00:00",
          "2016-08-01T00:00:00",
          "2016-09-01T00:00:00",
          "2016-10-01T00:00:00",
          "2016-11-01T00:00:00",
          "2016-12-01T00:00:00",
          "2017-01-01T00:00:00",
          "2017-02-01T00:00:00",
          "2017-03-01T00:00:00",
          "2017-04-01T00:00:00",
          "2017-05-01T00:00:00",
          "2017-06-01T00:00:00",
          "2017-07-01T00:00:00",
          "2017-08-01T00:00:00",
          "2017-09-01T00:00:00",
          "2017-10-01T00:00:00",
          "2017-11-01T00:00:00",
          "2017-12-01T00:00:00",
          "2018-01-01T00:00:00",
          "2018-02-01T00:00:00",
          "2018-03-01T00:00:00",
          "2018-04-01T00:00:00",
          "2018-05-01T00:00:00",
          "2018-06-01T00:00:00",
          "2018-07-01T00:00:00",
          "2018-08-01T00:00:00",
          "2018-09-01T00:00:00",
          "2018-10-01T00:00:00",
          "2018-11-01T00:00:00",
          "2018-12-01T00:00:00",
          "2019-01-01T00:00:00",
          "2019-02-01T00:00:00",
          "2019-03-01T00:00:00",
          "2019-04-01T00:00:00",
          "2019-05-01T00:00:00",
          "2019-06-01T00:00:00",
          "2019-07-01T00:00:00",
          "2019-08-01T00:00:00",
          "2019-09-01T00:00:00",
          "2019-10-01T00:00:00",
          "2019-11-01T00:00:00",
          "2019-12-01T00:00:00",
          "2020-01-01T00:00:00",
          "2020-02-01T00:00:00",
          "2020-03-01T00:00:00",
          "2020-04-01T00:00:00",
          "2020-05-01T00:00:00",
          "2020-06-01T00:00:00",
          "2020-07-01T00:00:00",
          "2020-08-01T00:00:00",
          "2020-09-01T00:00:00",
          "2020-10-01T00:00:00",
          "2020-11-01T00:00:00",
          "2020-12-01T00:00:00",
          "2021-01-01T00:00:00",
          "2021-02-01T00:00:00",
          "2021-03-01T00:00:00",
          "2021-04-01T00:00:00",
          "2021-05-01T00:00:00",
          "2021-06-01T00:00:00",
          "2021-07-01T00:00:00",
          "2021-08-01T00:00:00",
          "2021-09-01T00:00:00",
          "2021-10-01T00:00:00",
          "2021-11-01T00:00:00",
          "2021-12-01T00:00:00"
         ],
         "y": [
          4.40893847592044,
          4.418301771033395,
          4.48657602464699,
          4.337076282567836,
          4.2978219091423515,
          4.46822465373558,
          4.523751156979031,
          4.432858788286527,
          4.549620358195888,
          4.488674798035675,
          4.283698584052083,
          4.559093856260059,
          4.303432110645353,
          4.470348678887552,
          4.45481625988893,
          4.333169452945257,
          4.441515538466466,
          4.420128720799459,
          4.443891755965605,
          4.400709851370892,
          4.491261706847933,
          4.460998753096422,
          4.459788269802251,
          4.5763867614622935,
          4.502962796928452,
          4.433355665654463,
          4.660795643971977,
          4.329004710885732,
          4.466349822798197,
          4.44839416906328,
          4.409964456900945,
          4.359465688843922,
          4.298358419662652,
          4.614397503418769,
          4.458168441236004,
          4.5597285616746195,
          4.440165079512739,
          4.4062528962100265,
          4.224151395410584,
          4.488031411561871,
          4.306908019924431,
          4.365852223502515,
          4.374711383837506,
          4.310067582993879,
          4.398958380685665,
          4.4550395502282605,
          4.4492449204281765,
          4.340100170766657,
          4.471669620379274,
          4.411808057468275,
          4.38386513680672,
          4.414387289414345,
          4.478061664452295,
          4.48956137489763,
          4.452597097018791,
          4.571034235635502,
          4.474868682702941,
          4.447578704947671,
          4.45366836571298,
          4.401205183757937,
          4.282910858297123,
          4.471064457670288,
          4.432473735069546,
          4.46751693977629,
          4.501332524897382,
          4.5114195234672705,
          4.477687537765455,
          4.368537946079134,
          4.4103495623466635,
          4.47197770766549,
          4.32035994960772,
          4.472981918273494,
          4.522332450555499,
          4.249248785688544,
          4.39137058451388,
          4.433535801623406,
          4.399455043123976,
          4.519248847337417,
          4.308279080297103,
          4.376632783605462,
          4.366182974662335,
          4.490323242745347,
          4.530634486944663,
          4.398062151323527,
          4.30065393419218,
          4.488163627067483,
          4.489992979046788,
          4.4911927472204525,
          4.5083626102899945,
          4.511513274358355,
          4.652460730806704,
          4.437337886984738,
          4.5210258915375885,
          4.511266417525111,
          4.353672232872219,
          4.292241358292104,
          4.435086611602398,
          4.398674143136897,
          4.434316621039542,
          4.306656340639154,
          4.365031688092182,
          4.515510843535166,
          4.529573609089449,
          4.312368242482785,
          4.434156513460771,
          4.443048383408807,
          4.569521384949995,
          4.474450238036877,
          4.399531734756311,
          4.420208461468886,
          4.5186151219924815,
          4.221737548915344,
          4.389442490904219,
          4.646425958302313,
          4.571706045085808,
          4.417598359723989,
          4.66759648392174,
          4.302034297580755,
          4.331983823502465,
          4.456211869696816,
          4.576310750853815,
          4.341825695029977,
          4.414453141476754,
          4.549932683546137,
          4.508787997668541,
          4.35006868745826,
          4.336796554638644,
          4.602609683920825,
          4.477619744975605,
          4.313899814116849,
          4.428936034095134,
          4.312198265935094,
          4.389213651982679,
          4.533460472962941,
          4.477935347688194,
          4.278143823108998,
          4.360013700808629,
          4.2396824782097315,
          4.451974377832872,
          4.338268600068998,
          4.385405885159791,
          4.492635844098756,
          4.42857898626848,
          4.476918980497101,
          4.519349249591044,
          4.523868221508842,
          4.376809962340118,
          4.453657195564828,
          4.609417822033866,
          4.4497306838191895,
          4.456709439327874,
          4.451912192457003,
          4.709614846148411,
          4.411622338749297,
          4.456932452385237,
          4.469454085581936,
          4.54436111632082,
          4.430451486646025,
          4.379866782246915,
          4.5587862436662245,
          4.365412947316106,
          4.43067781506358,
          4.628385111877948,
          4.393053400391302,
          4.5026229824730075,
          4.414025713095395,
          4.5937551893243835,
          4.715384207528367,
          4.601198358818814,
          4.256056027258075,
          4.3843114729961155,
          4.444254672225533,
          4.316448586816941,
          4.512758073952775,
          4.589604278962323,
          4.544996217640168,
          4.396308985357151,
          4.609931334629755,
          4.390855852741471,
          4.3405377917882415,
          4.411847442689735,
          4.4368582654979996,
          4.390967854148181,
          4.453596359587325,
          4.417422355150322,
          4.28575945857249,
          4.469853216718116,
          4.6140496257445465,
          4.3975520689345,
          4.386904219285608,
          4.350925019808145,
          4.552348799176947,
          4.475337511121606,
          4.4129385612431316,
          4.584597342508357,
          4.411133946307598,
          4.47080389898864,
          4.470989733184763,
          4.346031387819574,
          4.366192128747398,
          4.422575821172921,
          4.4687302837176865,
          4.364025297805949,
          4.449238373537468,
          4.495318015935839,
          4.452047005092351,
          4.424775573906358,
          4.427463460280963,
          4.489198426622078,
          4.526634091480413,
          4.441314739250086,
          4.595875308219559,
          4.660543383471823,
          4.522657767467335,
          4.445769215274883,
          4.3759071915086984,
          4.589588913952493,
          4.456757994393548,
          4.5203019127930695,
          4.274449919280363,
          4.270262721756601,
          4.398053644247234,
          4.609019802466791,
          4.513603582742821,
          4.367315863164535,
          4.388116095087403,
          4.507916688247442,
          4.326901344290855,
          4.451607827067566,
          4.361407812428656,
          4.303929093085868,
          4.479091235549623,
          4.5211122863750575,
          4.503083585228945,
          4.390123866471437,
          4.397846909942439,
          4.63424080376384,
          4.388005382269916,
          4.479787949419505,
          4.634964282716685
         ]
        },
        {
         "fill": "tonexty",
         "fillcolor": "rgba(255, 211, 0, 0.1)",
         "mode": "lines",
         "name": "68% Lower Confidence Bound",
         "type": "scatter",
         "x": [
          "2002-01-01T00:00:00",
          "2002-02-01T00:00:00",
          "2002-03-01T00:00:00",
          "2002-04-01T00:00:00",
          "2002-05-01T00:00:00",
          "2002-06-01T00:00:00",
          "2002-07-01T00:00:00",
          "2002-08-01T00:00:00",
          "2002-09-01T00:00:00",
          "2002-10-01T00:00:00",
          "2002-11-01T00:00:00",
          "2002-12-01T00:00:00",
          "2003-01-01T00:00:00",
          "2003-02-01T00:00:00",
          "2003-03-01T00:00:00",
          "2003-04-01T00:00:00",
          "2003-05-01T00:00:00",
          "2003-06-01T00:00:00",
          "2003-07-01T00:00:00",
          "2003-08-01T00:00:00",
          "2003-09-01T00:00:00",
          "2003-10-01T00:00:00",
          "2003-11-01T00:00:00",
          "2003-12-01T00:00:00",
          "2004-01-01T00:00:00",
          "2004-02-01T00:00:00",
          "2004-03-01T00:00:00",
          "2004-04-01T00:00:00",
          "2004-05-01T00:00:00",
          "2004-06-01T00:00:00",
          "2004-07-01T00:00:00",
          "2004-08-01T00:00:00",
          "2004-09-01T00:00:00",
          "2004-10-01T00:00:00",
          "2004-11-01T00:00:00",
          "2004-12-01T00:00:00",
          "2005-01-01T00:00:00",
          "2005-02-01T00:00:00",
          "2005-03-01T00:00:00",
          "2005-04-01T00:00:00",
          "2005-05-01T00:00:00",
          "2005-06-01T00:00:00",
          "2005-07-01T00:00:00",
          "2005-08-01T00:00:00",
          "2005-09-01T00:00:00",
          "2005-10-01T00:00:00",
          "2005-11-01T00:00:00",
          "2005-12-01T00:00:00",
          "2006-01-01T00:00:00",
          "2006-02-01T00:00:00",
          "2006-03-01T00:00:00",
          "2006-04-01T00:00:00",
          "2006-05-01T00:00:00",
          "2006-06-01T00:00:00",
          "2006-07-01T00:00:00",
          "2006-08-01T00:00:00",
          "2006-09-01T00:00:00",
          "2006-10-01T00:00:00",
          "2006-11-01T00:00:00",
          "2006-12-01T00:00:00",
          "2007-01-01T00:00:00",
          "2007-02-01T00:00:00",
          "2007-03-01T00:00:00",
          "2007-04-01T00:00:00",
          "2007-05-01T00:00:00",
          "2007-06-01T00:00:00",
          "2007-07-01T00:00:00",
          "2007-08-01T00:00:00",
          "2007-09-01T00:00:00",
          "2007-10-01T00:00:00",
          "2007-11-01T00:00:00",
          "2007-12-01T00:00:00",
          "2008-01-01T00:00:00",
          "2008-02-01T00:00:00",
          "2008-03-01T00:00:00",
          "2008-04-01T00:00:00",
          "2008-05-01T00:00:00",
          "2008-06-01T00:00:00",
          "2008-07-01T00:00:00",
          "2008-08-01T00:00:00",
          "2008-09-01T00:00:00",
          "2008-10-01T00:00:00",
          "2008-11-01T00:00:00",
          "2008-12-01T00:00:00",
          "2009-01-01T00:00:00",
          "2009-02-01T00:00:00",
          "2009-03-01T00:00:00",
          "2009-04-01T00:00:00",
          "2009-05-01T00:00:00",
          "2009-06-01T00:00:00",
          "2009-07-01T00:00:00",
          "2009-08-01T00:00:00",
          "2009-09-01T00:00:00",
          "2009-10-01T00:00:00",
          "2009-11-01T00:00:00",
          "2009-12-01T00:00:00",
          "2010-01-01T00:00:00",
          "2010-02-01T00:00:00",
          "2010-03-01T00:00:00",
          "2010-04-01T00:00:00",
          "2010-05-01T00:00:00",
          "2010-06-01T00:00:00",
          "2010-07-01T00:00:00",
          "2010-08-01T00:00:00",
          "2010-09-01T00:00:00",
          "2010-10-01T00:00:00",
          "2010-11-01T00:00:00",
          "2010-12-01T00:00:00",
          "2011-01-01T00:00:00",
          "2011-02-01T00:00:00",
          "2011-03-01T00:00:00",
          "2011-04-01T00:00:00",
          "2011-05-01T00:00:00",
          "2011-06-01T00:00:00",
          "2011-07-01T00:00:00",
          "2011-08-01T00:00:00",
          "2011-09-01T00:00:00",
          "2011-10-01T00:00:00",
          "2011-11-01T00:00:00",
          "2011-12-01T00:00:00",
          "2012-01-01T00:00:00",
          "2012-02-01T00:00:00",
          "2012-03-01T00:00:00",
          "2012-04-01T00:00:00",
          "2012-05-01T00:00:00",
          "2012-06-01T00:00:00",
          "2012-07-01T00:00:00",
          "2012-08-01T00:00:00",
          "2012-09-01T00:00:00",
          "2012-10-01T00:00:00",
          "2012-11-01T00:00:00",
          "2012-12-01T00:00:00",
          "2013-01-01T00:00:00",
          "2013-02-01T00:00:00",
          "2013-03-01T00:00:00",
          "2013-04-01T00:00:00",
          "2013-05-01T00:00:00",
          "2013-06-01T00:00:00",
          "2013-07-01T00:00:00",
          "2013-08-01T00:00:00",
          "2013-09-01T00:00:00",
          "2013-10-01T00:00:00",
          "2013-11-01T00:00:00",
          "2013-12-01T00:00:00",
          "2014-01-01T00:00:00",
          "2014-02-01T00:00:00",
          "2014-03-01T00:00:00",
          "2014-04-01T00:00:00",
          "2014-05-01T00:00:00",
          "2014-06-01T00:00:00",
          "2014-07-01T00:00:00",
          "2014-08-01T00:00:00",
          "2014-09-01T00:00:00",
          "2014-10-01T00:00:00",
          "2014-11-01T00:00:00",
          "2014-12-01T00:00:00",
          "2015-01-01T00:00:00",
          "2015-02-01T00:00:00",
          "2015-03-01T00:00:00",
          "2015-04-01T00:00:00",
          "2015-05-01T00:00:00",
          "2015-06-01T00:00:00",
          "2015-07-01T00:00:00",
          "2015-08-01T00:00:00",
          "2015-09-01T00:00:00",
          "2015-10-01T00:00:00",
          "2015-11-01T00:00:00",
          "2015-12-01T00:00:00",
          "2016-01-01T00:00:00",
          "2016-02-01T00:00:00",
          "2016-03-01T00:00:00",
          "2016-04-01T00:00:00",
          "2016-05-01T00:00:00",
          "2016-06-01T00:00:00",
          "2016-07-01T00:00:00",
          "2016-08-01T00:00:00",
          "2016-09-01T00:00:00",
          "2016-10-01T00:00:00",
          "2016-11-01T00:00:00",
          "2016-12-01T00:00:00",
          "2017-01-01T00:00:00",
          "2017-02-01T00:00:00",
          "2017-03-01T00:00:00",
          "2017-04-01T00:00:00",
          "2017-05-01T00:00:00",
          "2017-06-01T00:00:00",
          "2017-07-01T00:00:00",
          "2017-08-01T00:00:00",
          "2017-09-01T00:00:00",
          "2017-10-01T00:00:00",
          "2017-11-01T00:00:00",
          "2017-12-01T00:00:00",
          "2018-01-01T00:00:00",
          "2018-02-01T00:00:00",
          "2018-03-01T00:00:00",
          "2018-04-01T00:00:00",
          "2018-05-01T00:00:00",
          "2018-06-01T00:00:00",
          "2018-07-01T00:00:00",
          "2018-08-01T00:00:00",
          "2018-09-01T00:00:00",
          "2018-10-01T00:00:00",
          "2018-11-01T00:00:00",
          "2018-12-01T00:00:00",
          "2019-01-01T00:00:00",
          "2019-02-01T00:00:00",
          "2019-03-01T00:00:00",
          "2019-04-01T00:00:00",
          "2019-05-01T00:00:00",
          "2019-06-01T00:00:00",
          "2019-07-01T00:00:00",
          "2019-08-01T00:00:00",
          "2019-09-01T00:00:00",
          "2019-10-01T00:00:00",
          "2019-11-01T00:00:00",
          "2019-12-01T00:00:00",
          "2020-01-01T00:00:00",
          "2020-02-01T00:00:00",
          "2020-03-01T00:00:00",
          "2020-04-01T00:00:00",
          "2020-05-01T00:00:00",
          "2020-06-01T00:00:00",
          "2020-07-01T00:00:00",
          "2020-08-01T00:00:00",
          "2020-09-01T00:00:00",
          "2020-10-01T00:00:00",
          "2020-11-01T00:00:00",
          "2020-12-01T00:00:00",
          "2021-01-01T00:00:00",
          "2021-02-01T00:00:00",
          "2021-03-01T00:00:00",
          "2021-04-01T00:00:00",
          "2021-05-01T00:00:00",
          "2021-06-01T00:00:00",
          "2021-07-01T00:00:00",
          "2021-08-01T00:00:00",
          "2021-09-01T00:00:00",
          "2021-10-01T00:00:00",
          "2021-11-01T00:00:00",
          "2021-12-01T00:00:00"
         ],
         "y": [
          4.277066960690883,
          4.280902566780025,
          4.313269555695101,
          4.193551473075092,
          4.179348488754304,
          4.299288353572744,
          4.357128084310791,
          4.2554216418583035,
          4.3655171575659395,
          4.316696315568627,
          4.152401371265648,
          4.373229988530724,
          4.168192753538856,
          4.323175305090215,
          4.274485797871807,
          4.19716975466186,
          4.282680347348951,
          4.291005657911995,
          4.277749022005511,
          4.256107411004749,
          4.344931749327287,
          4.305234926417886,
          4.293367186780358,
          4.381705704573413,
          4.307202993715851,
          4.270257758594112,
          4.456874958831775,
          4.199911827872274,
          4.261607375260455,
          4.290303309018593,
          4.254767042970227,
          4.229655906623834,
          4.1704784558141395,
          4.405426787485459,
          4.276035049304581,
          4.403128572880709,
          4.264109719416397,
          4.250509422684936,
          4.092797365592113,
          4.325383663777546,
          4.176752847632408,
          4.195571930449484,
          4.235807779428906,
          4.1660727298570315,
          4.248303571177804,
          4.293833661008009,
          4.275283268810938,
          4.183416598599775,
          4.300763479291934,
          4.244015827768249,
          4.20943883324843,
          4.2461943029600695,
          4.296424034641251,
          4.324613405437247,
          4.290275387217192,
          4.387110780330921,
          4.300470589962539,
          4.315611955479924,
          4.306618833464961,
          4.247772509063384,
          4.147169976201985,
          4.304423163948167,
          4.232904262928163,
          4.314376217976445,
          4.343030315795735,
          4.328298531921402,
          4.335350979854688,
          4.215411239338816,
          4.231027046386512,
          4.311022804697929,
          4.171898210791683,
          4.303511864830472,
          4.357973920713016,
          4.129632161612126,
          4.251612618275687,
          4.287894038375895,
          4.264732781320055,
          4.3546743777553765,
          4.17467184706452,
          4.228173504759338,
          4.2135140439790195,
          4.319072291833523,
          4.368018600019424,
          4.255299705309319,
          4.154280607942853,
          4.303937411635158,
          4.332875250187994,
          4.349602329860023,
          4.353238633752495,
          4.339512125546112,
          4.467213556750206,
          4.285800177480906,
          4.359081091584427,
          4.336140524758597,
          4.207124013023952,
          4.143476065133651,
          4.275873179262557,
          4.22519147270408,
          4.270179417474354,
          4.168771224221522,
          4.232511845035673,
          4.348885202049894,
          4.362509982924087,
          4.19310290077614,
          4.276141160766312,
          4.253521954203147,
          4.413769556800773,
          4.28765621032298,
          4.242244973335825,
          4.245864888802772,
          4.338880443763544,
          4.086832932455382,
          4.242908538641043,
          4.425122507312576,
          4.368222147131563,
          4.267222394937178,
          4.441368292487319,
          4.180213765243599,
          4.202901624263299,
          4.270894319004519,
          4.383377161435056,
          4.1941798803381865,
          4.259167206611037,
          4.38646196873847,
          4.357660605835543,
          4.215082565765614,
          4.194314852611813,
          4.436690083601945,
          4.296454837396496,
          4.167369589606449,
          4.285619428627488,
          4.178088562273737,
          4.249819059417341,
          4.3567442168957795,
          4.298110362657229,
          4.131698386361277,
          4.2296165364583835,
          4.096405456830205,
          4.295751774159104,
          4.194568345236293,
          4.236333858431834,
          4.310777919556151,
          4.272362657399643,
          4.321073376585786,
          4.342203945454924,
          4.346301986842532,
          4.2225830052484685,
          4.284256780269342,
          4.433139484902417,
          4.276774246826382,
          4.291597437698925,
          4.31756788349808,
          4.4884918020722155,
          4.259595346345718,
          4.3076900270170135,
          4.32674655709974,
          4.3507721132495405,
          4.2850924860782404,
          4.2179499629852915,
          4.372777213966536,
          4.211853025788242,
          4.29325340751714,
          4.447478045409875,
          4.230653617179575,
          4.3518564238144455,
          4.250233965609874,
          4.404532752437586,
          4.528023310807819,
          4.387924966236022,
          4.117499021703865,
          4.2255713229018586,
          4.280919264882257,
          4.1893327600536985,
          4.354980459909968,
          4.3540930644761,
          4.342777883567578,
          4.259205497823266,
          4.398617488017065,
          4.20099346126912,
          4.180280893890556,
          4.262412893441747,
          4.285401611868741,
          4.224334998734651,
          4.296892082635915,
          4.228899136638015,
          4.15756692745562,
          4.287583225992984,
          4.442667298778606,
          4.250550797292156,
          4.239127594849631,
          4.205298220403911,
          4.345631724391417,
          4.320362083502878,
          4.276770647718872,
          4.412644484561683,
          4.245749583496701,
          4.313458365380045,
          4.295785876599742,
          4.207765601497531,
          4.237733188885766,
          4.282360623133486,
          4.302598709332006,
          4.220985767849452,
          4.295207969165861,
          4.3095436926013715,
          4.295345009510718,
          4.2768533877038974,
          4.28405722096203,
          4.320352127059179,
          4.3770510794989255,
          4.299798213644105,
          4.441139314144874,
          4.488033583776553,
          4.337965592300629,
          4.2803988019424715,
          4.231058876638709,
          4.409978979035587,
          4.292947519784799,
          4.356858666742539,
          4.140675224941903,
          4.147066554847398,
          4.25100213510666,
          4.424721260731089,
          4.336828984899224,
          4.244774303097609,
          4.218069799408465,
          4.306780347706847,
          4.183988981624893,
          4.296659505637159,
          4.22316851200757,
          4.174066359496916,
          4.285699679778899,
          4.324255128812906,
          4.346484252603682,
          4.227812131696356,
          4.24674189912596,
          4.440925752633188,
          4.247614280043748,
          4.3081230498358085,
          4.43541102093621
         ]
        },
        {
         "mode": "lines",
         "name": "Real Values",
         "type": "scatter",
         "x": [
          "2002-01-01T00:00:00",
          "2002-02-01T00:00:00",
          "2002-03-01T00:00:00",
          "2002-04-01T00:00:00",
          "2002-05-01T00:00:00",
          "2002-06-01T00:00:00",
          "2002-07-01T00:00:00",
          "2002-08-01T00:00:00",
          "2002-09-01T00:00:00",
          "2002-10-01T00:00:00",
          "2002-11-01T00:00:00",
          "2002-12-01T00:00:00",
          "2003-01-01T00:00:00",
          "2003-02-01T00:00:00",
          "2003-03-01T00:00:00",
          "2003-04-01T00:00:00",
          "2003-05-01T00:00:00",
          "2003-06-01T00:00:00",
          "2003-07-01T00:00:00",
          "2003-08-01T00:00:00",
          "2003-09-01T00:00:00",
          "2003-10-01T00:00:00",
          "2003-11-01T00:00:00",
          "2003-12-01T00:00:00",
          "2004-01-01T00:00:00",
          "2004-02-01T00:00:00",
          "2004-03-01T00:00:00",
          "2004-04-01T00:00:00",
          "2004-05-01T00:00:00",
          "2004-06-01T00:00:00",
          "2004-07-01T00:00:00",
          "2004-08-01T00:00:00",
          "2004-09-01T00:00:00",
          "2004-10-01T00:00:00",
          "2004-11-01T00:00:00",
          "2004-12-01T00:00:00",
          "2005-01-01T00:00:00",
          "2005-02-01T00:00:00",
          "2005-03-01T00:00:00",
          "2005-04-01T00:00:00",
          "2005-05-01T00:00:00",
          "2005-06-01T00:00:00",
          "2005-07-01T00:00:00",
          "2005-08-01T00:00:00",
          "2005-09-01T00:00:00",
          "2005-10-01T00:00:00",
          "2005-11-01T00:00:00",
          "2005-12-01T00:00:00",
          "2006-01-01T00:00:00",
          "2006-02-01T00:00:00",
          "2006-03-01T00:00:00",
          "2006-04-01T00:00:00",
          "2006-05-01T00:00:00",
          "2006-06-01T00:00:00",
          "2006-07-01T00:00:00",
          "2006-08-01T00:00:00",
          "2006-09-01T00:00:00",
          "2006-10-01T00:00:00",
          "2006-11-01T00:00:00",
          "2006-12-01T00:00:00",
          "2007-01-01T00:00:00",
          "2007-02-01T00:00:00",
          "2007-03-01T00:00:00",
          "2007-04-01T00:00:00",
          "2007-05-01T00:00:00",
          "2007-06-01T00:00:00",
          "2007-07-01T00:00:00",
          "2007-08-01T00:00:00",
          "2007-09-01T00:00:00",
          "2007-10-01T00:00:00",
          "2007-11-01T00:00:00",
          "2007-12-01T00:00:00",
          "2008-01-01T00:00:00",
          "2008-02-01T00:00:00",
          "2008-03-01T00:00:00",
          "2008-04-01T00:00:00",
          "2008-05-01T00:00:00",
          "2008-06-01T00:00:00",
          "2008-07-01T00:00:00",
          "2008-08-01T00:00:00",
          "2008-09-01T00:00:00",
          "2008-10-01T00:00:00",
          "2008-11-01T00:00:00",
          "2008-12-01T00:00:00",
          "2009-01-01T00:00:00",
          "2009-02-01T00:00:00",
          "2009-03-01T00:00:00",
          "2009-04-01T00:00:00",
          "2009-05-01T00:00:00",
          "2009-06-01T00:00:00",
          "2009-07-01T00:00:00",
          "2009-08-01T00:00:00",
          "2009-09-01T00:00:00",
          "2009-10-01T00:00:00",
          "2009-11-01T00:00:00",
          "2009-12-01T00:00:00",
          "2010-01-01T00:00:00",
          "2010-02-01T00:00:00",
          "2010-03-01T00:00:00",
          "2010-04-01T00:00:00",
          "2010-05-01T00:00:00",
          "2010-06-01T00:00:00",
          "2010-07-01T00:00:00",
          "2010-08-01T00:00:00",
          "2010-09-01T00:00:00",
          "2010-10-01T00:00:00",
          "2010-11-01T00:00:00",
          "2010-12-01T00:00:00",
          "2011-01-01T00:00:00",
          "2011-02-01T00:00:00",
          "2011-03-01T00:00:00",
          "2011-04-01T00:00:00",
          "2011-05-01T00:00:00",
          "2011-06-01T00:00:00",
          "2011-07-01T00:00:00",
          "2011-08-01T00:00:00",
          "2011-09-01T00:00:00",
          "2011-10-01T00:00:00",
          "2011-11-01T00:00:00",
          "2011-12-01T00:00:00",
          "2012-01-01T00:00:00",
          "2012-02-01T00:00:00",
          "2012-03-01T00:00:00",
          "2012-04-01T00:00:00",
          "2012-05-01T00:00:00",
          "2012-06-01T00:00:00",
          "2012-07-01T00:00:00",
          "2012-08-01T00:00:00",
          "2012-09-01T00:00:00",
          "2012-10-01T00:00:00",
          "2012-11-01T00:00:00",
          "2012-12-01T00:00:00",
          "2013-01-01T00:00:00",
          "2013-02-01T00:00:00",
          "2013-03-01T00:00:00",
          "2013-04-01T00:00:00",
          "2013-05-01T00:00:00",
          "2013-06-01T00:00:00",
          "2013-07-01T00:00:00",
          "2013-08-01T00:00:00",
          "2013-09-01T00:00:00",
          "2013-10-01T00:00:00",
          "2013-11-01T00:00:00",
          "2013-12-01T00:00:00",
          "2014-01-01T00:00:00",
          "2014-02-01T00:00:00",
          "2014-03-01T00:00:00",
          "2014-04-01T00:00:00",
          "2014-05-01T00:00:00",
          "2014-06-01T00:00:00",
          "2014-07-01T00:00:00",
          "2014-08-01T00:00:00",
          "2014-09-01T00:00:00",
          "2014-10-01T00:00:00",
          "2014-11-01T00:00:00",
          "2014-12-01T00:00:00",
          "2015-01-01T00:00:00",
          "2015-02-01T00:00:00",
          "2015-03-01T00:00:00",
          "2015-04-01T00:00:00",
          "2015-05-01T00:00:00",
          "2015-06-01T00:00:00",
          "2015-07-01T00:00:00",
          "2015-08-01T00:00:00",
          "2015-09-01T00:00:00",
          "2015-10-01T00:00:00",
          "2015-11-01T00:00:00",
          "2015-12-01T00:00:00",
          "2016-01-01T00:00:00",
          "2016-02-01T00:00:00",
          "2016-03-01T00:00:00",
          "2016-04-01T00:00:00",
          "2016-05-01T00:00:00",
          "2016-06-01T00:00:00",
          "2016-07-01T00:00:00",
          "2016-08-01T00:00:00",
          "2016-09-01T00:00:00",
          "2016-10-01T00:00:00",
          "2016-11-01T00:00:00",
          "2016-12-01T00:00:00",
          "2017-01-01T00:00:00",
          "2017-02-01T00:00:00",
          "2017-03-01T00:00:00",
          "2017-04-01T00:00:00",
          "2017-05-01T00:00:00",
          "2017-06-01T00:00:00",
          "2017-07-01T00:00:00",
          "2017-08-01T00:00:00",
          "2017-09-01T00:00:00",
          "2017-10-01T00:00:00",
          "2017-11-01T00:00:00",
          "2017-12-01T00:00:00",
          "2018-01-01T00:00:00",
          "2018-02-01T00:00:00",
          "2018-03-01T00:00:00",
          "2018-04-01T00:00:00",
          "2018-05-01T00:00:00",
          "2018-06-01T00:00:00",
          "2018-07-01T00:00:00",
          "2018-08-01T00:00:00",
          "2018-09-01T00:00:00",
          "2018-10-01T00:00:00",
          "2018-11-01T00:00:00",
          "2018-12-01T00:00:00",
          "2019-01-01T00:00:00",
          "2019-02-01T00:00:00",
          "2019-03-01T00:00:00",
          "2019-04-01T00:00:00",
          "2019-05-01T00:00:00",
          "2019-06-01T00:00:00",
          "2019-07-01T00:00:00",
          "2019-08-01T00:00:00",
          "2019-09-01T00:00:00",
          "2019-10-01T00:00:00",
          "2019-11-01T00:00:00",
          "2019-12-01T00:00:00",
          "2020-01-01T00:00:00",
          "2020-02-01T00:00:00",
          "2020-03-01T00:00:00",
          "2020-04-01T00:00:00",
          "2020-05-01T00:00:00",
          "2020-06-01T00:00:00",
          "2020-07-01T00:00:00",
          "2020-08-01T00:00:00",
          "2020-09-01T00:00:00",
          "2020-10-01T00:00:00",
          "2020-11-01T00:00:00",
          "2020-12-01T00:00:00",
          "2021-01-01T00:00:00",
          "2021-02-01T00:00:00",
          "2021-03-01T00:00:00",
          "2021-04-01T00:00:00",
          "2021-05-01T00:00:00",
          "2021-06-01T00:00:00",
          "2021-07-01T00:00:00",
          "2021-08-01T00:00:00",
          "2021-09-01T00:00:00",
          "2021-10-01T00:00:00",
          "2021-11-01T00:00:00",
          "2021-12-01T00:00:00"
         ],
         "y": [
          4.7,
          5.5,
          4.7,
          5.7,
          5.1,
          4.9,
          5.2,
          5.1,
          4.3,
          6.1,
          5.4,
          5.4,
          5,
          5.9,
          5.1,
          4.6,
          4.4,
          4.6,
          5.9,
          5.5,
          8.16,
          6.7,
          5.3,
          6.1,
          5.1,
          5.5,
          5.8,
          6.1,
          5.5,
          5.8,
          5.1,
          5.1,
          5,
          5.2,
          7,
          6.8,
          6.3,
          4.5,
          5.5,
          4.7,
          5,
          4.7,
          4.2,
          4.7,
          5,
          4.4,
          4.3,
          4.5,
          4.8,
          4.4,
          4.8,
          5.3,
          5,
          4.8,
          4.4,
          4.9,
          4.6,
          4.6,
          4.9,
          5.1,
          5,
          6,
          5.5,
          5.5,
          5.5,
          5,
          5.8,
          5.6,
          4.5,
          4.6,
          4.6,
          4.9,
          4.9,
          4.5,
          4.6,
          5.8,
          5.2,
          5.5,
          4.7,
          5.4,
          6.8,
          4.7,
          5.2,
          4.9,
          4.6,
          5.5,
          5.3,
          5.2,
          4.9,
          6.4,
          4.9,
          5.3,
          4.8,
          5.1,
          5,
          5,
          5,
          4.4,
          4.4,
          4.9,
          0,
          5.3,
          4.9,
          4.8,
          5.8,
          5.6,
          4.8,
          4.9,
          5.1,
          0,
          4.5,
          4.8,
          4.6,
          5.5,
          5.5,
          5.1,
          5.1,
          6.1,
          6.2,
          5,
          4.8,
          5,
          4.9,
          5.1,
          5.9,
          4.5,
          5.1,
          5.9,
          4.8,
          4.7,
          4.9,
          4.8,
          5.4,
          6.9,
          4.9,
          5.1,
          5.1,
          4.9,
          5.2,
          5.1,
          4.5,
          4.7,
          5.5,
          4.8,
          5,
          4.8,
          4.9,
          4.7,
          4.9,
          4.8,
          5.5,
          6.1,
          4.9,
          6.1,
          4.8,
          5.3,
          5.3,
          5.3,
          4.9,
          5,
          4.5,
          6.1,
          4.9,
          5.2,
          5.4,
          4.8,
          5.4,
          4.4,
          6.7,
          4.5,
          5.1,
          4.7,
          4.9,
          5.2,
          4.8,
          4.7,
          5.3,
          4.9,
          4.9,
          4.6,
          4.8,
          4.9,
          5.7,
          5.3,
          4.6,
          4.5,
          5.3,
          4.5,
          5.5,
          4.9,
          4.9,
          4.9,
          6.3,
          4.6,
          4.9,
          5.5,
          5.7,
          4.7,
          5.2,
          5.3,
          6.6,
          5.6,
          5.9,
          5.2,
          4.8,
          5.4,
          4.8,
          5.4,
          4.4,
          4.8,
          5.2,
          5.9,
          5.2,
          4.6,
          4.9,
          4.6,
          5.4,
          4.7,
          4.9,
          5.2,
          5.6,
          4.5,
          4.9,
          4.6,
          5,
          4.6,
          4.3,
          5,
          5.2,
          5,
          4.6,
          4.8,
          5.7,
          5.3,
          5.2,
          4.5,
          4.7,
          5.3,
          4.6,
          5.1
         ]
        },
        {
         "mode": "lines",
         "name": "Predicted Values",
         "type": "scatter",
         "x": [
          "2002-01-01T00:00:00",
          "2002-02-01T00:00:00",
          "2002-03-01T00:00:00",
          "2002-04-01T00:00:00",
          "2002-05-01T00:00:00",
          "2002-06-01T00:00:00",
          "2002-07-01T00:00:00",
          "2002-08-01T00:00:00",
          "2002-09-01T00:00:00",
          "2002-10-01T00:00:00",
          "2002-11-01T00:00:00",
          "2002-12-01T00:00:00",
          "2003-01-01T00:00:00",
          "2003-02-01T00:00:00",
          "2003-03-01T00:00:00",
          "2003-04-01T00:00:00",
          "2003-05-01T00:00:00",
          "2003-06-01T00:00:00",
          "2003-07-01T00:00:00",
          "2003-08-01T00:00:00",
          "2003-09-01T00:00:00",
          "2003-10-01T00:00:00",
          "2003-11-01T00:00:00",
          "2003-12-01T00:00:00",
          "2004-01-01T00:00:00",
          "2004-02-01T00:00:00",
          "2004-03-01T00:00:00",
          "2004-04-01T00:00:00",
          "2004-05-01T00:00:00",
          "2004-06-01T00:00:00",
          "2004-07-01T00:00:00",
          "2004-08-01T00:00:00",
          "2004-09-01T00:00:00",
          "2004-10-01T00:00:00",
          "2004-11-01T00:00:00",
          "2004-12-01T00:00:00",
          "2005-01-01T00:00:00",
          "2005-02-01T00:00:00",
          "2005-03-01T00:00:00",
          "2005-04-01T00:00:00",
          "2005-05-01T00:00:00",
          "2005-06-01T00:00:00",
          "2005-07-01T00:00:00",
          "2005-08-01T00:00:00",
          "2005-09-01T00:00:00",
          "2005-10-01T00:00:00",
          "2005-11-01T00:00:00",
          "2005-12-01T00:00:00",
          "2006-01-01T00:00:00",
          "2006-02-01T00:00:00",
          "2006-03-01T00:00:00",
          "2006-04-01T00:00:00",
          "2006-05-01T00:00:00",
          "2006-06-01T00:00:00",
          "2006-07-01T00:00:00",
          "2006-08-01T00:00:00",
          "2006-09-01T00:00:00",
          "2006-10-01T00:00:00",
          "2006-11-01T00:00:00",
          "2006-12-01T00:00:00",
          "2007-01-01T00:00:00",
          "2007-02-01T00:00:00",
          "2007-03-01T00:00:00",
          "2007-04-01T00:00:00",
          "2007-05-01T00:00:00",
          "2007-06-01T00:00:00",
          "2007-07-01T00:00:00",
          "2007-08-01T00:00:00",
          "2007-09-01T00:00:00",
          "2007-10-01T00:00:00",
          "2007-11-01T00:00:00",
          "2007-12-01T00:00:00",
          "2008-01-01T00:00:00",
          "2008-02-01T00:00:00",
          "2008-03-01T00:00:00",
          "2008-04-01T00:00:00",
          "2008-05-01T00:00:00",
          "2008-06-01T00:00:00",
          "2008-07-01T00:00:00",
          "2008-08-01T00:00:00",
          "2008-09-01T00:00:00",
          "2008-10-01T00:00:00",
          "2008-11-01T00:00:00",
          "2008-12-01T00:00:00",
          "2009-01-01T00:00:00",
          "2009-02-01T00:00:00",
          "2009-03-01T00:00:00",
          "2009-04-01T00:00:00",
          "2009-05-01T00:00:00",
          "2009-06-01T00:00:00",
          "2009-07-01T00:00:00",
          "2009-08-01T00:00:00",
          "2009-09-01T00:00:00",
          "2009-10-01T00:00:00",
          "2009-11-01T00:00:00",
          "2009-12-01T00:00:00",
          "2010-01-01T00:00:00",
          "2010-02-01T00:00:00",
          "2010-03-01T00:00:00",
          "2010-04-01T00:00:00",
          "2010-05-01T00:00:00",
          "2010-06-01T00:00:00",
          "2010-07-01T00:00:00",
          "2010-08-01T00:00:00",
          "2010-09-01T00:00:00",
          "2010-10-01T00:00:00",
          "2010-11-01T00:00:00",
          "2010-12-01T00:00:00",
          "2011-01-01T00:00:00",
          "2011-02-01T00:00:00",
          "2011-03-01T00:00:00",
          "2011-04-01T00:00:00",
          "2011-05-01T00:00:00",
          "2011-06-01T00:00:00",
          "2011-07-01T00:00:00",
          "2011-08-01T00:00:00",
          "2011-09-01T00:00:00",
          "2011-10-01T00:00:00",
          "2011-11-01T00:00:00",
          "2011-12-01T00:00:00",
          "2012-01-01T00:00:00",
          "2012-02-01T00:00:00",
          "2012-03-01T00:00:00",
          "2012-04-01T00:00:00",
          "2012-05-01T00:00:00",
          "2012-06-01T00:00:00",
          "2012-07-01T00:00:00",
          "2012-08-01T00:00:00",
          "2012-09-01T00:00:00",
          "2012-10-01T00:00:00",
          "2012-11-01T00:00:00",
          "2012-12-01T00:00:00",
          "2013-01-01T00:00:00",
          "2013-02-01T00:00:00",
          "2013-03-01T00:00:00",
          "2013-04-01T00:00:00",
          "2013-05-01T00:00:00",
          "2013-06-01T00:00:00",
          "2013-07-01T00:00:00",
          "2013-08-01T00:00:00",
          "2013-09-01T00:00:00",
          "2013-10-01T00:00:00",
          "2013-11-01T00:00:00",
          "2013-12-01T00:00:00",
          "2014-01-01T00:00:00",
          "2014-02-01T00:00:00",
          "2014-03-01T00:00:00",
          "2014-04-01T00:00:00",
          "2014-05-01T00:00:00",
          "2014-06-01T00:00:00",
          "2014-07-01T00:00:00",
          "2014-08-01T00:00:00",
          "2014-09-01T00:00:00",
          "2014-10-01T00:00:00",
          "2014-11-01T00:00:00",
          "2014-12-01T00:00:00",
          "2015-01-01T00:00:00",
          "2015-02-01T00:00:00",
          "2015-03-01T00:00:00",
          "2015-04-01T00:00:00",
          "2015-05-01T00:00:00",
          "2015-06-01T00:00:00",
          "2015-07-01T00:00:00",
          "2015-08-01T00:00:00",
          "2015-09-01T00:00:00",
          "2015-10-01T00:00:00",
          "2015-11-01T00:00:00",
          "2015-12-01T00:00:00",
          "2016-01-01T00:00:00",
          "2016-02-01T00:00:00",
          "2016-03-01T00:00:00",
          "2016-04-01T00:00:00",
          "2016-05-01T00:00:00",
          "2016-06-01T00:00:00",
          "2016-07-01T00:00:00",
          "2016-08-01T00:00:00",
          "2016-09-01T00:00:00",
          "2016-10-01T00:00:00",
          "2016-11-01T00:00:00",
          "2016-12-01T00:00:00",
          "2017-01-01T00:00:00",
          "2017-02-01T00:00:00",
          "2017-03-01T00:00:00",
          "2017-04-01T00:00:00",
          "2017-05-01T00:00:00",
          "2017-06-01T00:00:00",
          "2017-07-01T00:00:00",
          "2017-08-01T00:00:00",
          "2017-09-01T00:00:00",
          "2017-10-01T00:00:00",
          "2017-11-01T00:00:00",
          "2017-12-01T00:00:00",
          "2018-01-01T00:00:00",
          "2018-02-01T00:00:00",
          "2018-03-01T00:00:00",
          "2018-04-01T00:00:00",
          "2018-05-01T00:00:00",
          "2018-06-01T00:00:00",
          "2018-07-01T00:00:00",
          "2018-08-01T00:00:00",
          "2018-09-01T00:00:00",
          "2018-10-01T00:00:00",
          "2018-11-01T00:00:00",
          "2018-12-01T00:00:00",
          "2019-01-01T00:00:00",
          "2019-02-01T00:00:00",
          "2019-03-01T00:00:00",
          "2019-04-01T00:00:00",
          "2019-05-01T00:00:00",
          "2019-06-01T00:00:00",
          "2019-07-01T00:00:00",
          "2019-08-01T00:00:00",
          "2019-09-01T00:00:00",
          "2019-10-01T00:00:00",
          "2019-11-01T00:00:00",
          "2019-12-01T00:00:00",
          "2020-01-01T00:00:00",
          "2020-02-01T00:00:00",
          "2020-03-01T00:00:00",
          "2020-04-01T00:00:00",
          "2020-05-01T00:00:00",
          "2020-06-01T00:00:00",
          "2020-07-01T00:00:00",
          "2020-08-01T00:00:00",
          "2020-09-01T00:00:00",
          "2020-10-01T00:00:00",
          "2020-11-01T00:00:00",
          "2020-12-01T00:00:00",
          "2021-01-01T00:00:00",
          "2021-02-01T00:00:00",
          "2021-03-01T00:00:00",
          "2021-04-01T00:00:00",
          "2021-05-01T00:00:00",
          "2021-06-01T00:00:00",
          "2021-07-01T00:00:00",
          "2021-08-01T00:00:00",
          "2021-09-01T00:00:00",
          "2021-10-01T00:00:00",
          "2021-11-01T00:00:00",
          "2021-12-01T00:00:00"
         ],
         "y": [
          5.767915878874774,
          4.86625150703569,
          4.251135649769465,
          4.260932777102382,
          4.327210493181306,
          5.1523313827559285,
          4.08613238109522,
          4.012319729500538,
          4.0010903843994825,
          4.5405652390114986,
          4.424832576944446,
          5.097717246835716,
          4.643783367481059,
          4.186366398590753,
          3.870806844780765,
          4.19888433330219,
          4.012784976942276,
          3.9189755687275274,
          5.166265971580673,
          3.6987680000943635,
          5.321459105512743,
          4.315594075446313,
          3.592741757919836,
          3.734219691582094,
          4.388643255977556,
          4.050450807573327,
          4.719957692778287,
          4.319480122525352,
          3.0602321360748523,
          5.4362226649275165,
          4.008705252213426,
          4.097874414595645,
          4.313473815637469,
          3.9246469629871057,
          4.257765374256162,
          5.287474998286903,
          3.9491962865625965,
          4.789751963858228,
          4.122273131243706,
          3.8605248238639915,
          3.6639253148521904,
          4.330378997728392,
          4.601907120554453,
          3.6863007472141267,
          4.8528745302101886,
          4.1909264237748385,
          4.050828913073774,
          3.839905401654895,
          4.754844472411823,
          4.413058253105206,
          5.1486881861007,
          4.56214023292732,
          6.009646137407527,
          4.21474764058845,
          4.009237581490243,
          4.059682396405824,
          4.943704755976905,
          4.519942113045318,
          3.563585352529487,
          5.224995417945336,
          4.706433585679541,
          4.0243162863457025,
          3.9324626854095466,
          4.890784834916486,
          6.574961234758776,
          4.517689316775451,
          3.411420184714249,
          5.005108536750406,
          4.929105748156199,
          4.331795964085032,
          3.8138447163443225,
          3.9429838237596004,
          3.7708013296999714,
          4.3625037883928,
          3.6636311140871123,
          5.7474117288408415,
          4.528211744643334,
          3.848092688858645,
          4.323043232574959,
          3.7103567949471783,
          4.272296402938716,
          5.874700236434351,
          6.157556482215723,
          6.809823539544613,
          4.301543015223851,
          3.1761798448466934,
          5.433462193936444,
          4.349057369592143,
          5.261922676308739,
          4.650853189016507,
          3.2727012730532143,
          3.3707036396290264,
          5.012525808438939,
          3.209365731580908,
          4.814878014029181,
          3.457566602326098,
          4.768036334991288,
          5.216855121885978,
          5.334333578507529,
          3.8795254941009145,
          4.235633729088681,
          4.8814337557512815,
          3.7057081592071923,
          3.5152287784110428,
          4.495373861800267,
          5.902094858909859,
          4.228587091531309,
          4.0606908051052555,
          4.335749956660982,
          4.426719370260749,
          3.6521959863213236,
          5.089186282062748,
          6.104123943011192,
          3.6165683821487855,
          4.016965088362737,
          5.042427548620942,
          4.551282131378404,
          3.9928444725132333,
          5.371752020557059,
          4.432407411187686,
          4.2021250204364256,
          3.3179069847578413,
          4.743247025420985,
          4.167902177007734,
          4.783993847910276,
          4.784251306994514,
          3.838543683935116,
          4.103529699199116,
          8.650328060803512,
          3.984307197252665,
          3.3932171863257423,
          3.8961424766450463,
          3.575489444548945,
          4.453389129955557,
          4.435158168852763,
          4.7821695390941645,
          3.757286720413674,
          3.7280855859305007,
          3.5712286624327176,
          3.5113821688142286,
          3.789662917969736,
          3.3964702961754782,
          5.033504286750658,
          6.481499240225281,
          5.884741656463436,
          4.048129144802483,
          4.051426739796027,
          5.805661006629529,
          4.309250876840324,
          3.7486576092884816,
          5.523743165569849,
          4.281776023187924,
          3.611359675723399,
          3.8364415251866744,
          5.498696244950054,
          4.092308548054525,
          3.783662391524123,
          5.546031727457289,
          3.5834939001400423,
          8.05461738134822,
          3.638424874346662,
          3.8246936773014633,
          4.53960668964713,
          4.186309881214251,
          5.025493817213246,
          4.429621497954609,
          3.993682888439698,
          3.797286683359982,
          4.462473396721135,
          3.9642403657408836,
          4.14917313907081,
          3.234883324371387,
          4.159570575467142,
          3.8716012192034097,
          3.399073836034734,
          2.9576105209749772,
          5.660689541945172,
          4.465736560150269,
          4.086965409525024,
          3.933381745018377,
          3.6934637731531814,
          4.800026465012661,
          5.24267068662888,
          3.239548707469445,
          4.716573165631276,
          4.736720096700893,
          3.3459052161875737,
          4.504466122889717,
          3.646908030187663,
          3.770724431660724,
          3.4371082247048323,
          4.985518483376396,
          3.6836734234672197,
          4.122202041435817,
          3.2512472408785076,
          4.068240038352015,
          4.163633298086921,
          4.230784562342639,
          6.070257318240698,
          4.007770662121365,
          3.7327289648589455,
          4.842396837350495,
          4.585987242165198,
          3.7135191587884777,
          3.372573203896538,
          3.3377841162041637,
          3.639722755445299,
          4.894507072576811,
          4.756258118536049,
          4.0444298664536475,
          6.07272083141463,
          5.748564402070119,
          4.073207544596302,
          3.5724593363825106,
          3.362109255144067,
          4.323505983221949,
          4.328379930785444,
          5.546917853866088,
          5.85114233086944,
          4.434962828596009,
          4.7002352694766625,
          4.780320183998628,
          5.649347016552156,
          4.708135279228114,
          4.584024921570699,
          3.5769730317350907,
          3.7957276686316375,
          3.8168093641936602,
          4.930143547219176,
          4.1581049866712565,
          4.3899427293112065,
          4.862575324624558,
          5.586722189447457,
          4.134877570273193,
          5.822519556835021,
          3.7687868271492087,
          3.693184480671174,
          4.2645498877206895,
          3.302452734851301,
          3.6800735301024305
         ]
        }
       ],
       "layout": {
        "template": {
         "data": {
          "bar": [
           {
            "error_x": {
             "color": "#2a3f5f"
            },
            "error_y": {
             "color": "#2a3f5f"
            },
            "marker": {
             "line": {
              "color": "#E5ECF6",
              "width": 0.5
             },
             "pattern": {
              "fillmode": "overlay",
              "size": 10,
              "solidity": 0.2
             }
            },
            "type": "bar"
           }
          ],
          "barpolar": [
           {
            "marker": {
             "line": {
              "color": "#E5ECF6",
              "width": 0.5
             },
             "pattern": {
              "fillmode": "overlay",
              "size": 10,
              "solidity": 0.2
             }
            },
            "type": "barpolar"
           }
          ],
          "carpet": [
           {
            "aaxis": {
             "endlinecolor": "#2a3f5f",
             "gridcolor": "white",
             "linecolor": "white",
             "minorgridcolor": "white",
             "startlinecolor": "#2a3f5f"
            },
            "baxis": {
             "endlinecolor": "#2a3f5f",
             "gridcolor": "white",
             "linecolor": "white",
             "minorgridcolor": "white",
             "startlinecolor": "#2a3f5f"
            },
            "type": "carpet"
           }
          ],
          "choropleth": [
           {
            "colorbar": {
             "outlinewidth": 0,
             "ticks": ""
            },
            "type": "choropleth"
           }
          ],
          "contour": [
           {
            "colorbar": {
             "outlinewidth": 0,
             "ticks": ""
            },
            "colorscale": [
             [
              0,
              "#0d0887"
             ],
             [
              0.1111111111111111,
              "#46039f"
             ],
             [
              0.2222222222222222,
              "#7201a8"
             ],
             [
              0.3333333333333333,
              "#9c179e"
             ],
             [
              0.4444444444444444,
              "#bd3786"
             ],
             [
              0.5555555555555556,
              "#d8576b"
             ],
             [
              0.6666666666666666,
              "#ed7953"
             ],
             [
              0.7777777777777778,
              "#fb9f3a"
             ],
             [
              0.8888888888888888,
              "#fdca26"
             ],
             [
              1,
              "#f0f921"
             ]
            ],
            "type": "contour"
           }
          ],
          "contourcarpet": [
           {
            "colorbar": {
             "outlinewidth": 0,
             "ticks": ""
            },
            "type": "contourcarpet"
           }
          ],
          "heatmap": [
           {
            "colorbar": {
             "outlinewidth": 0,
             "ticks": ""
            },
            "colorscale": [
             [
              0,
              "#0d0887"
             ],
             [
              0.1111111111111111,
              "#46039f"
             ],
             [
              0.2222222222222222,
              "#7201a8"
             ],
             [
              0.3333333333333333,
              "#9c179e"
             ],
             [
              0.4444444444444444,
              "#bd3786"
             ],
             [
              0.5555555555555556,
              "#d8576b"
             ],
             [
              0.6666666666666666,
              "#ed7953"
             ],
             [
              0.7777777777777778,
              "#fb9f3a"
             ],
             [
              0.8888888888888888,
              "#fdca26"
             ],
             [
              1,
              "#f0f921"
             ]
            ],
            "type": "heatmap"
           }
          ],
          "heatmapgl": [
           {
            "colorbar": {
             "outlinewidth": 0,
             "ticks": ""
            },
            "colorscale": [
             [
              0,
              "#0d0887"
             ],
             [
              0.1111111111111111,
              "#46039f"
             ],
             [
              0.2222222222222222,
              "#7201a8"
             ],
             [
              0.3333333333333333,
              "#9c179e"
             ],
             [
              0.4444444444444444,
              "#bd3786"
             ],
             [
              0.5555555555555556,
              "#d8576b"
             ],
             [
              0.6666666666666666,
              "#ed7953"
             ],
             [
              0.7777777777777778,
              "#fb9f3a"
             ],
             [
              0.8888888888888888,
              "#fdca26"
             ],
             [
              1,
              "#f0f921"
             ]
            ],
            "type": "heatmapgl"
           }
          ],
          "histogram": [
           {
            "marker": {
             "pattern": {
              "fillmode": "overlay",
              "size": 10,
              "solidity": 0.2
             }
            },
            "type": "histogram"
           }
          ],
          "histogram2d": [
           {
            "colorbar": {
             "outlinewidth": 0,
             "ticks": ""
            },
            "colorscale": [
             [
              0,
              "#0d0887"
             ],
             [
              0.1111111111111111,
              "#46039f"
             ],
             [
              0.2222222222222222,
              "#7201a8"
             ],
             [
              0.3333333333333333,
              "#9c179e"
             ],
             [
              0.4444444444444444,
              "#bd3786"
             ],
             [
              0.5555555555555556,
              "#d8576b"
             ],
             [
              0.6666666666666666,
              "#ed7953"
             ],
             [
              0.7777777777777778,
              "#fb9f3a"
             ],
             [
              0.8888888888888888,
              "#fdca26"
             ],
             [
              1,
              "#f0f921"
             ]
            ],
            "type": "histogram2d"
           }
          ],
          "histogram2dcontour": [
           {
            "colorbar": {
             "outlinewidth": 0,
             "ticks": ""
            },
            "colorscale": [
             [
              0,
              "#0d0887"
             ],
             [
              0.1111111111111111,
              "#46039f"
             ],
             [
              0.2222222222222222,
              "#7201a8"
             ],
             [
              0.3333333333333333,
              "#9c179e"
             ],
             [
              0.4444444444444444,
              "#bd3786"
             ],
             [
              0.5555555555555556,
              "#d8576b"
             ],
             [
              0.6666666666666666,
              "#ed7953"
             ],
             [
              0.7777777777777778,
              "#fb9f3a"
             ],
             [
              0.8888888888888888,
              "#fdca26"
             ],
             [
              1,
              "#f0f921"
             ]
            ],
            "type": "histogram2dcontour"
           }
          ],
          "mesh3d": [
           {
            "colorbar": {
             "outlinewidth": 0,
             "ticks": ""
            },
            "type": "mesh3d"
           }
          ],
          "parcoords": [
           {
            "line": {
             "colorbar": {
              "outlinewidth": 0,
              "ticks": ""
             }
            },
            "type": "parcoords"
           }
          ],
          "pie": [
           {
            "automargin": true,
            "type": "pie"
           }
          ],
          "scatter": [
           {
            "fillpattern": {
             "fillmode": "overlay",
             "size": 10,
             "solidity": 0.2
            },
            "type": "scatter"
           }
          ],
          "scatter3d": [
           {
            "line": {
             "colorbar": {
              "outlinewidth": 0,
              "ticks": ""
             }
            },
            "marker": {
             "colorbar": {
              "outlinewidth": 0,
              "ticks": ""
             }
            },
            "type": "scatter3d"
           }
          ],
          "scattercarpet": [
           {
            "marker": {
             "colorbar": {
              "outlinewidth": 0,
              "ticks": ""
             }
            },
            "type": "scattercarpet"
           }
          ],
          "scattergeo": [
           {
            "marker": {
             "colorbar": {
              "outlinewidth": 0,
              "ticks": ""
             }
            },
            "type": "scattergeo"
           }
          ],
          "scattergl": [
           {
            "marker": {
             "colorbar": {
              "outlinewidth": 0,
              "ticks": ""
             }
            },
            "type": "scattergl"
           }
          ],
          "scattermapbox": [
           {
            "marker": {
             "colorbar": {
              "outlinewidth": 0,
              "ticks": ""
             }
            },
            "type": "scattermapbox"
           }
          ],
          "scatterpolar": [
           {
            "marker": {
             "colorbar": {
              "outlinewidth": 0,
              "ticks": ""
             }
            },
            "type": "scatterpolar"
           }
          ],
          "scatterpolargl": [
           {
            "marker": {
             "colorbar": {
              "outlinewidth": 0,
              "ticks": ""
             }
            },
            "type": "scatterpolargl"
           }
          ],
          "scatterternary": [
           {
            "marker": {
             "colorbar": {
              "outlinewidth": 0,
              "ticks": ""
             }
            },
            "type": "scatterternary"
           }
          ],
          "surface": [
           {
            "colorbar": {
             "outlinewidth": 0,
             "ticks": ""
            },
            "colorscale": [
             [
              0,
              "#0d0887"
             ],
             [
              0.1111111111111111,
              "#46039f"
             ],
             [
              0.2222222222222222,
              "#7201a8"
             ],
             [
              0.3333333333333333,
              "#9c179e"
             ],
             [
              0.4444444444444444,
              "#bd3786"
             ],
             [
              0.5555555555555556,
              "#d8576b"
             ],
             [
              0.6666666666666666,
              "#ed7953"
             ],
             [
              0.7777777777777778,
              "#fb9f3a"
             ],
             [
              0.8888888888888888,
              "#fdca26"
             ],
             [
              1,
              "#f0f921"
             ]
            ],
            "type": "surface"
           }
          ],
          "table": [
           {
            "cells": {
             "fill": {
              "color": "#EBF0F8"
             },
             "line": {
              "color": "white"
             }
            },
            "header": {
             "fill": {
              "color": "#C8D4E3"
             },
             "line": {
              "color": "white"
             }
            },
            "type": "table"
           }
          ]
         },
         "layout": {
          "annotationdefaults": {
           "arrowcolor": "#2a3f5f",
           "arrowhead": 0,
           "arrowwidth": 1
          },
          "autotypenumbers": "strict",
          "coloraxis": {
           "colorbar": {
            "outlinewidth": 0,
            "ticks": ""
           }
          },
          "colorscale": {
           "diverging": [
            [
             0,
             "#8e0152"
            ],
            [
             0.1,
             "#c51b7d"
            ],
            [
             0.2,
             "#de77ae"
            ],
            [
             0.3,
             "#f1b6da"
            ],
            [
             0.4,
             "#fde0ef"
            ],
            [
             0.5,
             "#f7f7f7"
            ],
            [
             0.6,
             "#e6f5d0"
            ],
            [
             0.7,
             "#b8e186"
            ],
            [
             0.8,
             "#7fbc41"
            ],
            [
             0.9,
             "#4d9221"
            ],
            [
             1,
             "#276419"
            ]
           ],
           "sequential": [
            [
             0,
             "#0d0887"
            ],
            [
             0.1111111111111111,
             "#46039f"
            ],
            [
             0.2222222222222222,
             "#7201a8"
            ],
            [
             0.3333333333333333,
             "#9c179e"
            ],
            [
             0.4444444444444444,
             "#bd3786"
            ],
            [
             0.5555555555555556,
             "#d8576b"
            ],
            [
             0.6666666666666666,
             "#ed7953"
            ],
            [
             0.7777777777777778,
             "#fb9f3a"
            ],
            [
             0.8888888888888888,
             "#fdca26"
            ],
            [
             1,
             "#f0f921"
            ]
           ],
           "sequentialminus": [
            [
             0,
             "#0d0887"
            ],
            [
             0.1111111111111111,
             "#46039f"
            ],
            [
             0.2222222222222222,
             "#7201a8"
            ],
            [
             0.3333333333333333,
             "#9c179e"
            ],
            [
             0.4444444444444444,
             "#bd3786"
            ],
            [
             0.5555555555555556,
             "#d8576b"
            ],
            [
             0.6666666666666666,
             "#ed7953"
            ],
            [
             0.7777777777777778,
             "#fb9f3a"
            ],
            [
             0.8888888888888888,
             "#fdca26"
            ],
            [
             1,
             "#f0f921"
            ]
           ]
          },
          "colorway": [
           "#636efa",
           "#EF553B",
           "#00cc96",
           "#ab63fa",
           "#FFA15A",
           "#19d3f3",
           "#FF6692",
           "#B6E880",
           "#FF97FF",
           "#FECB52"
          ],
          "font": {
           "color": "#2a3f5f"
          },
          "geo": {
           "bgcolor": "white",
           "lakecolor": "white",
           "landcolor": "#E5ECF6",
           "showlakes": true,
           "showland": true,
           "subunitcolor": "white"
          },
          "hoverlabel": {
           "align": "left"
          },
          "hovermode": "closest",
          "mapbox": {
           "style": "light"
          },
          "paper_bgcolor": "white",
          "plot_bgcolor": "#E5ECF6",
          "polar": {
           "angularaxis": {
            "gridcolor": "white",
            "linecolor": "white",
            "ticks": ""
           },
           "bgcolor": "#E5ECF6",
           "radialaxis": {
            "gridcolor": "white",
            "linecolor": "white",
            "ticks": ""
           }
          },
          "scene": {
           "xaxis": {
            "backgroundcolor": "#E5ECF6",
            "gridcolor": "white",
            "gridwidth": 2,
            "linecolor": "white",
            "showbackground": true,
            "ticks": "",
            "zerolinecolor": "white"
           },
           "yaxis": {
            "backgroundcolor": "#E5ECF6",
            "gridcolor": "white",
            "gridwidth": 2,
            "linecolor": "white",
            "showbackground": true,
            "ticks": "",
            "zerolinecolor": "white"
           },
           "zaxis": {
            "backgroundcolor": "#E5ECF6",
            "gridcolor": "white",
            "gridwidth": 2,
            "linecolor": "white",
            "showbackground": true,
            "ticks": "",
            "zerolinecolor": "white"
           }
          },
          "shapedefaults": {
           "line": {
            "color": "#2a3f5f"
           }
          },
          "ternary": {
           "aaxis": {
            "gridcolor": "white",
            "linecolor": "white",
            "ticks": ""
           },
           "baxis": {
            "gridcolor": "white",
            "linecolor": "white",
            "ticks": ""
           },
           "bgcolor": "#E5ECF6",
           "caxis": {
            "gridcolor": "white",
            "linecolor": "white",
            "ticks": ""
           }
          },
          "title": {
           "x": 0.05
          },
          "xaxis": {
           "automargin": true,
           "gridcolor": "white",
           "linecolor": "white",
           "ticks": "",
           "title": {
            "standoff": 15
           },
           "zerolinecolor": "white",
           "zerolinewidth": 2
          },
          "yaxis": {
           "automargin": true,
           "gridcolor": "white",
           "linecolor": "white",
           "ticks": "",
           "title": {
            "standoff": 15
           },
           "zerolinecolor": "white",
           "zerolinewidth": 2
          }
         }
        },
        "title": {
         "text": "Magnitude prediction using a GEV(-0.06, 1.57, 0.72) distribution"
        },
        "xaxis": {
         "title": {
          "text": "Time"
         }
        },
        "yaxis": {
         "title": {
          "text": "EQ magnitude"
         }
        }
       }
      }
     },
     "metadata": {},
     "output_type": "display_data"
    }
   ],
   "source": [
    "import plotly.graph_objects as go\n",
    "\n",
    "upper_trace_68 = go.Scatter(\n",
    "    x=dataplot.index,\n",
    "    y=dataplot['upper_bound_68%'],\n",
    "    mode='lines',\n",
    "    fill=None,\n",
    "    name='68% Upper Confidence Bound'\n",
    "    )\n",
    "lower_trace_68 = go.Scatter(\n",
    "    x=dataplot.index,\n",
    "    y=dataplot['lower_bound_68%'],\n",
    "    mode='lines',\n",
    "    fill='tonexty',\n",
    "    fillcolor='rgba(255, 211, 0, 0.1)',\n",
    "    name='68% Lower Confidence Bound'\n",
    "    )\n",
    "real_trace = go.Scatter(\n",
    "    x=dataplot.index,\n",
    "    y=dataplot['Ground Truth'],\n",
    "    mode='lines',\n",
    "    fill=None,\n",
    "    name='Real Values'\n",
    "    )\n",
    "\n",
    "predicted_trace = go.Scatter(\n",
    "    x=dataplot.index,\n",
    "    y=dataplot['Prediction'],\n",
    "    mode='lines',\n",
    "    fill=None,\n",
    "    name='Predicted Values'\n",
    "    )\n",
    "\n",
    "data2 = [upper_trace_68, lower_trace_68, real_trace, predicted_trace]\n",
    "\n",
    "fig = go.Figure(data=data2)\n",
    "fig.update_layout(title=f'Magnitude prediction using a GEV({param[0]:.2f}, {param[1]:.2f}, {param[2]:.2f}) distribution',\n",
    "                   xaxis_title='Time',\n",
    "                   yaxis_title='EQ magnitude')\n",
    "\n",
    "fig.show()"
   ]
  },
  {
   "cell_type": "code",
   "execution_count": 78,
   "metadata": {},
   "outputs": [
    {
     "data": {
      "text/plain": [
       "(-0.06021746279628701, 1.5675285385167066, 0.716707957443798)"
      ]
     },
     "execution_count": 78,
     "metadata": {},
     "output_type": "execute_result"
    }
   ],
   "source": [
    "param"
   ]
  },
  {
   "cell_type": "code",
   "execution_count": null,
   "metadata": {},
   "outputs": [],
   "source": []
  }
 ],
 "metadata": {
  "interpreter": {
   "hash": "7e7df21fdf00a26e36d4e6310a308abb9513233b4a3ec64213ee6595ee7ec7bb"
  },
  "kernelspec": {
   "display_name": "Python 3.7.8 64-bit",
   "language": "python",
   "name": "python3"
  },
  "language_info": {
   "codemirror_mode": {
    "name": "ipython",
    "version": 3
   },
   "file_extension": ".py",
   "mimetype": "text/x-python",
   "name": "python",
   "nbconvert_exporter": "python",
   "pygments_lexer": "ipython3",
   "version": "3.9.7"
  },
  "orig_nbformat": 4
 },
 "nbformat": 4,
 "nbformat_minor": 2
}
